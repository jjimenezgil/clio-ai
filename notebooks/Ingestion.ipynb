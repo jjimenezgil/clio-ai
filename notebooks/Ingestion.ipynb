{
 "cells": [
  {
   "cell_type": "markdown",
   "id": "cd32f1c8-0d0a-4f39-a62d-04bcc5a3f33f",
   "metadata": {},
   "source": [
    "# Data preparation and ingestion"
   ]
  },
  {
   "cell_type": "code",
   "execution_count": 1,
   "id": "5e4a621b-6c69-418a-b0bf-311088f5ca18",
   "metadata": {},
   "outputs": [],
   "source": [
    "# Imports\n",
    "import pandas as pd\n",
    "import numpy as np\n",
    "from tqdm.notebook import trange, tqdm\n",
    "from elasticsearch import Elasticsearch\n",
    "from statistics import median\n",
    "from transformers import BigBirdModel, BigBirdTokenizer, LongformerTokenizer, LongformerModel\n",
    "import matplotlib.pyplot as plt\n",
    "import torch\n",
    "from torch.utils.data import Dataset, DataLoader"
   ]
  },
  {
   "cell_type": "markdown",
   "id": "72a45e88-8705-4fca-b0bb-4bc5892a0aeb",
   "metadata": {},
   "source": [
    "## Load the data"
   ]
  },
  {
   "cell_type": "code",
   "execution_count": 2,
   "id": "5aef7c64-1791-416f-bab9-0ef5ca5ab38e",
   "metadata": {},
   "outputs": [
    {
     "data": {
      "text/html": [
       "<div>\n",
       "<style scoped>\n",
       "    .dataframe tbody tr th:only-of-type {\n",
       "        vertical-align: middle;\n",
       "    }\n",
       "\n",
       "    .dataframe tbody tr th {\n",
       "        vertical-align: top;\n",
       "    }\n",
       "\n",
       "    .dataframe thead th {\n",
       "        text-align: right;\n",
       "    }\n",
       "</style>\n",
       "<table border=\"1\" class=\"dataframe\">\n",
       "  <thead>\n",
       "    <tr style=\"text-align: right;\">\n",
       "      <th></th>\n",
       "      <th>author</th>\n",
       "      <th>title</th>\n",
       "      <th>section</th>\n",
       "      <th>text</th>\n",
       "    </tr>\n",
       "  </thead>\n",
       "  <tbody>\n",
       "    <tr>\n",
       "      <th>0</th>\n",
       "      <td>P. Ovidius Naso</td>\n",
       "      <td>The Epistles of Ovid</td>\n",
       "      <td>Penelope to Ulysses, carte 53</td>\n",
       "      <td>Now corn grows where once Troy stood; and the ...</td>\n",
       "    </tr>\n",
       "    <tr>\n",
       "      <th>1</th>\n",
       "      <td>P. Ovidius Naso</td>\n",
       "      <td>Amores</td>\n",
       "      <td>Liber Primus, ELEGIA 1</td>\n",
       "      <td>ELEGIA 1 Quemadmodum a Cupidine, pro bellis am...</td>\n",
       "    </tr>\n",
       "    <tr>\n",
       "      <th>2</th>\n",
       "      <td>E.C. Marchant</td>\n",
       "      <td>Commentary on Thucydides: Book 7</td>\n",
       "      <td>book 7, chapter 1, section 1</td>\n",
       "      <td>Ὁ —the art. added because this is a continuati...</td>\n",
       "    </tr>\n",
       "    <tr>\n",
       "      <th>3</th>\n",
       "      <td>E.C. Marchant</td>\n",
       "      <td>Commentary on Thucydides: Book 6</td>\n",
       "      <td>book 6, chapter 1, section 1</td>\n",
       "      <td>ἐβούλοντο —‘the word is here (as in Xen. Hel. ...</td>\n",
       "    </tr>\n",
       "    <tr>\n",
       "      <th>4</th>\n",
       "      <td>E.C. Marchant</td>\n",
       "      <td>Commentary on Thucydides: Book 3</td>\n",
       "      <td>book 3, chapter 1, section 1</td>\n",
       "      <td>θέρους —Thuc. divides the year into θέρος , co...</td>\n",
       "    </tr>\n",
       "  </tbody>\n",
       "</table>\n",
       "</div>"
      ],
      "text/plain": [
       "            author                             title  \\\n",
       "0  P. Ovidius Naso              The Epistles of Ovid   \n",
       "1  P. Ovidius Naso                            Amores   \n",
       "2    E.C. Marchant  Commentary on Thucydides: Book 7   \n",
       "3    E.C. Marchant  Commentary on Thucydides: Book 6   \n",
       "4    E.C. Marchant  Commentary on Thucydides: Book 3   \n",
       "\n",
       "                         section  \\\n",
       "0  Penelope to Ulysses, carte 53   \n",
       "1         Liber Primus, ELEGIA 1   \n",
       "2   book 7, chapter 1, section 1   \n",
       "3   book 6, chapter 1, section 1   \n",
       "4   book 3, chapter 1, section 1   \n",
       "\n",
       "                                                text  \n",
       "0  Now corn grows where once Troy stood; and the ...  \n",
       "1  ELEGIA 1 Quemadmodum a Cupidine, pro bellis am...  \n",
       "2  Ὁ —the art. added because this is a continuati...  \n",
       "3  ἐβούλοντο —‘the word is here (as in Xen. Hel. ...  \n",
       "4  θέρους —Thuc. divides the year into θέρος , co...  "
      ]
     },
     "execution_count": 2,
     "metadata": {},
     "output_type": "execute_result"
    }
   ],
   "source": [
    "# Load in Pandas df\n",
    "data_path = \"../data/ancient_sources.csv.gz\"\n",
    "df = pd.read_csv(data_path, compression=\"gzip\")\n",
    "df.head()"
   ]
  },
  {
   "cell_type": "code",
   "execution_count": 3,
   "id": "07f78d48-8bcd-4041-8b5f-5ecfa7960c8a",
   "metadata": {},
   "outputs": [
    {
     "data": {
      "text/plain": [
       "(111752, 4)"
      ]
     },
     "execution_count": 3,
     "metadata": {},
     "output_type": "execute_result"
    }
   ],
   "source": [
    "# Check size\n",
    "df.shape"
   ]
  },
  {
   "cell_type": "markdown",
   "id": "07fe66f1-2da3-4dfe-a2fc-cd60b0d89358",
   "metadata": {},
   "source": [
    "## Data cleaning and EDA"
   ]
  },
  {
   "cell_type": "code",
   "execution_count": 4,
   "id": "13611913-2c27-4084-9b01-2393fbf6cdae",
   "metadata": {},
   "outputs": [],
   "source": [
    "# Append index as ID\n",
    "df['Id'] = df.index"
   ]
  },
  {
   "cell_type": "code",
   "execution_count": 5,
   "id": "dc6b9b01-f951-4672-be1e-71752a1651e2",
   "metadata": {},
   "outputs": [],
   "source": [
    "# Delete rows without text or section\n",
    "df.drop(df[df[\"section\"].isna()].index, inplace=True)\n",
    "df.drop(df[df[\"text\"].isna()].index, inplace=True)"
   ]
  },
  {
   "cell_type": "code",
   "execution_count": 6,
   "id": "5b83d70a-72ea-4b6f-bb76-2c8549a9d868",
   "metadata": {},
   "outputs": [
    {
     "data": {
      "text/plain": [
       "(85442, 5)"
      ]
     },
     "execution_count": 6,
     "metadata": {},
     "output_type": "execute_result"
    }
   ],
   "source": [
    "# Check new size\n",
    "df.shape"
   ]
  },
  {
   "cell_type": "code",
   "execution_count": 7,
   "id": "d09d1d0b-7f5a-416c-bf8d-70819c4dd0f7",
   "metadata": {},
   "outputs": [
    {
     "data": {
      "text/html": [
       "<div>\n",
       "<style scoped>\n",
       "    .dataframe tbody tr th:only-of-type {\n",
       "        vertical-align: middle;\n",
       "    }\n",
       "\n",
       "    .dataframe tbody tr th {\n",
       "        vertical-align: top;\n",
       "    }\n",
       "\n",
       "    .dataframe thead th {\n",
       "        text-align: right;\n",
       "    }\n",
       "</style>\n",
       "<table border=\"1\" class=\"dataframe\">\n",
       "  <thead>\n",
       "    <tr style=\"text-align: right;\">\n",
       "      <th></th>\n",
       "      <th>author</th>\n",
       "      <th>title</th>\n",
       "      <th>section</th>\n",
       "      <th>text</th>\n",
       "      <th>Id</th>\n",
       "      <th>num_words</th>\n",
       "    </tr>\n",
       "  </thead>\n",
       "  <tbody>\n",
       "    <tr>\n",
       "      <th>0</th>\n",
       "      <td>P. Ovidius Naso</td>\n",
       "      <td>The Epistles of Ovid</td>\n",
       "      <td>Penelope to Ulysses, carte 53</td>\n",
       "      <td>Now corn grows where once Troy stood; and the ...</td>\n",
       "      <td>0</td>\n",
       "      <td>684</td>\n",
       "    </tr>\n",
       "    <tr>\n",
       "      <th>1</th>\n",
       "      <td>P. Ovidius Naso</td>\n",
       "      <td>Amores</td>\n",
       "      <td>Liber Primus, ELEGIA 1</td>\n",
       "      <td>ELEGIA 1 Quemadmodum a Cupidine, pro bellis am...</td>\n",
       "      <td>1</td>\n",
       "      <td>287</td>\n",
       "    </tr>\n",
       "    <tr>\n",
       "      <th>2</th>\n",
       "      <td>E.C. Marchant</td>\n",
       "      <td>Commentary on Thucydides: Book 7</td>\n",
       "      <td>book 7, chapter 1, section 1</td>\n",
       "      <td>Ὁ —the art. added because this is a continuati...</td>\n",
       "      <td>2</td>\n",
       "      <td>514</td>\n",
       "    </tr>\n",
       "    <tr>\n",
       "      <th>3</th>\n",
       "      <td>E.C. Marchant</td>\n",
       "      <td>Commentary on Thucydides: Book 6</td>\n",
       "      <td>book 6, chapter 1, section 1</td>\n",
       "      <td>ἐβούλοντο —‘the word is here (as in Xen. Hel. ...</td>\n",
       "      <td>3</td>\n",
       "      <td>739</td>\n",
       "    </tr>\n",
       "    <tr>\n",
       "      <th>4</th>\n",
       "      <td>E.C. Marchant</td>\n",
       "      <td>Commentary on Thucydides: Book 3</td>\n",
       "      <td>book 3, chapter 1, section 1</td>\n",
       "      <td>θέρους —Thuc. divides the year into θέρος , co...</td>\n",
       "      <td>4</td>\n",
       "      <td>50</td>\n",
       "    </tr>\n",
       "  </tbody>\n",
       "</table>\n",
       "</div>"
      ],
      "text/plain": [
       "            author                             title  \\\n",
       "0  P. Ovidius Naso              The Epistles of Ovid   \n",
       "1  P. Ovidius Naso                            Amores   \n",
       "2    E.C. Marchant  Commentary on Thucydides: Book 7   \n",
       "3    E.C. Marchant  Commentary on Thucydides: Book 6   \n",
       "4    E.C. Marchant  Commentary on Thucydides: Book 3   \n",
       "\n",
       "                         section  \\\n",
       "0  Penelope to Ulysses, carte 53   \n",
       "1         Liber Primus, ELEGIA 1   \n",
       "2   book 7, chapter 1, section 1   \n",
       "3   book 6, chapter 1, section 1   \n",
       "4   book 3, chapter 1, section 1   \n",
       "\n",
       "                                                text  Id  num_words  \n",
       "0  Now corn grows where once Troy stood; and the ...   0        684  \n",
       "1  ELEGIA 1 Quemadmodum a Cupidine, pro bellis am...   1        287  \n",
       "2  Ὁ —the art. added because this is a continuati...   2        514  \n",
       "3  ἐβούλοντο —‘the word is here (as in Xen. Hel. ...   3        739  \n",
       "4  θέρους —Thuc. divides the year into θέρος , co...   4         50  "
      ]
     },
     "execution_count": 7,
     "metadata": {},
     "output_type": "execute_result"
    }
   ],
   "source": [
    "# Create a function that counts number of words of a text\n",
    "def count_words(text):\n",
    "    return len(text.split())\n",
    "\n",
    "# Append a column with the number of words of the texts\n",
    "df[\"num_words\"] = df[\"text\"].apply(count_words)\n",
    "\n",
    "# Show first rows\n",
    "df.head()"
   ]
  },
  {
   "cell_type": "code",
   "execution_count": 8,
   "id": "084e26e2-6dbb-45d9-91db-f212327fa7be",
   "metadata": {},
   "outputs": [
    {
     "data": {
      "text/plain": [
       "count    85442.000000\n",
       "mean       173.797921\n",
       "std        343.023254\n",
       "min          1.000000\n",
       "25%         58.000000\n",
       "50%         92.000000\n",
       "75%        163.000000\n",
       "max      30158.000000\n",
       "Name: num_words, dtype: float64"
      ]
     },
     "execution_count": 8,
     "metadata": {},
     "output_type": "execute_result"
    }
   ],
   "source": [
    "df[\"num_words\"].describe()"
   ]
  },
  {
   "cell_type": "code",
   "execution_count": 9,
   "id": "e3390e5b-7d30-49b9-9c71-1e13412e1578",
   "metadata": {},
   "outputs": [
    {
     "data": {
      "image/png": "[encoded data removed]",
      "text/plain": [
       "<Figure size 640x480 with 1 Axes>"
      ]
     },
     "metadata": {},
     "output_type": "display_data"
    }
   ],
   "source": [
    "# Boxplot\n",
    "boxplot_stats = plt.boxplot(df['num_words'])\n",
    "plt.title('Number of words per text');"
   ]
  },
  {
   "cell_type": "code",
   "execution_count": 26,
   "id": "b160ea2a-974b-4629-b7d7-9156888af039",
   "metadata": {},
   "outputs": [
    {
     "name": "stdout",
     "output_type": "stream",
     "text": [
      "Upper whisker: 320.0\n"
     ]
    }
   ],
   "source": [
    "whiskers = [item.get_ydata() for item in boxplot_stats['whiskers']]\n",
    "upp_whisker = whiskers[1][1]\n",
    "print(\"Upper whisker:\", upp_whisker)"
   ]
  },
  {
   "cell_type": "code",
   "execution_count": 31,
   "id": "8d8c7fe2-983e-4c0e-9909-d4258f3b7ccc",
   "metadata": {},
   "outputs": [
    {
     "data": {
      "text/html": [
       "<div>\n",
       "<style scoped>\n",
       "    .dataframe tbody tr th:only-of-type {\n",
       "        vertical-align: middle;\n",
       "    }\n",
       "\n",
       "    .dataframe tbody tr th {\n",
       "        vertical-align: top;\n",
       "    }\n",
       "\n",
       "    .dataframe thead th {\n",
       "        text-align: right;\n",
       "    }\n",
       "</style>\n",
       "<table border=\"1\" class=\"dataframe\">\n",
       "  <thead>\n",
       "    <tr style=\"text-align: right;\">\n",
       "      <th></th>\n",
       "      <th>author</th>\n",
       "      <th>title</th>\n",
       "      <th>section</th>\n",
       "      <th>text</th>\n",
       "      <th>num_words</th>\n",
       "    </tr>\n",
       "  </thead>\n",
       "  <tbody>\n",
       "    <tr>\n",
       "      <th>1546</th>\n",
       "      <td>Flavius Josephus</td>\n",
       "      <td>The Wars of the Jews</td>\n",
       "      <td>Book III, whiston chapter 7</td>\n",
       "      <td>[Note 1: VESPASIAN, WHEN HE HAD TAKEN THE CITY...</td>\n",
       "      <td>9411</td>\n",
       "    </tr>\n",
       "    <tr>\n",
       "      <th>1547</th>\n",
       "      <td>Flavius Josephus</td>\n",
       "      <td>Antiquities of the Jews</td>\n",
       "      <td>book 5, whiston chapter 1</td>\n",
       "      <td>[Note 1: HOW JOSHUA, THE COMMANDER OF THE HEBR...</td>\n",
       "      <td>9213</td>\n",
       "    </tr>\n",
       "    <tr>\n",
       "      <th>1569</th>\n",
       "      <td>Flavius Josephus</td>\n",
       "      <td>Antiquities of the Jews</td>\n",
       "      <td>book 5</td>\n",
       "      <td>[Note 1: HOW, AFTER THE DEATH OF JOSHUA THEIR ...</td>\n",
       "      <td>4255</td>\n",
       "    </tr>\n",
       "    <tr>\n",
       "      <th>1610</th>\n",
       "      <td>Flavius Josephus</td>\n",
       "      <td>The Wars of the Jews</td>\n",
       "      <td>Book III</td>\n",
       "      <td>[Note 1: HOW TARICHEAE WAS TAKEN. A DESCRIPTIO...</td>\n",
       "      <td>4213</td>\n",
       "    </tr>\n",
       "    <tr>\n",
       "      <th>1631</th>\n",
       "      <td>Flavius Josephus</td>\n",
       "      <td>The Wars of the Jews</td>\n",
       "      <td>, whiston chapter 1</td>\n",
       "      <td>[Note 1: THE SIEGE AND TAKING OF GAMALA] NOW a...</td>\n",
       "      <td>4063</td>\n",
       "    </tr>\n",
       "    <tr>\n",
       "      <th>...</th>\n",
       "      <td>...</td>\n",
       "      <td>...</td>\n",
       "      <td>...</td>\n",
       "      <td>...</td>\n",
       "      <td>...</td>\n",
       "    </tr>\n",
       "    <tr>\n",
       "      <th>79076</th>\n",
       "      <td>Celsus</td>\n",
       "      <td>De Medicina</td>\n",
       "      <td>Book VII</td>\n",
       "      <td>7 But whilst the preceding kinds of lesion do ...</td>\n",
       "      <td>5078</td>\n",
       "    </tr>\n",
       "    <tr>\n",
       "      <th>82615</th>\n",
       "      <td>Ammianus Marcellinus</td>\n",
       "      <td>Rerum Gestarum, volume 1 introduction</td>\n",
       "      <td>book 1</td>\n",
       "      <td>Preface SOME of the reviews of my previous con...</td>\n",
       "      <td>11748</td>\n",
       "    </tr>\n",
       "    <tr>\n",
       "      <th>82807</th>\n",
       "      <td>Appian</td>\n",
       "      <td>The Civil Wars</td>\n",
       "      <td>, CHAPTER XI</td>\n",
       "      <td>CHAPTER XI Speeches of the Commanders -- Prepa...</td>\n",
       "      <td>4072</td>\n",
       "    </tr>\n",
       "    <tr>\n",
       "      <th>83208</th>\n",
       "      <td>Appian</td>\n",
       "      <td>The Civil Wars</td>\n",
       "      <td>BOOK III</td>\n",
       "      <td>CHAPTER VIII Antony orders Decimus Brutus to w...</td>\n",
       "      <td>4927</td>\n",
       "    </tr>\n",
       "    <tr>\n",
       "      <th>88956</th>\n",
       "      <td>Athenaeus</td>\n",
       "      <td>The Deipnosophists</td>\n",
       "      <td>Book XI.</td>\n",
       "      <td>BOOK X. Ulysses -- Voracity of certain Persons...</td>\n",
       "      <td>30158</td>\n",
       "    </tr>\n",
       "  </tbody>\n",
       "</table>\n",
       "<p>63 rows × 5 columns</p>\n",
       "</div>"
      ],
      "text/plain": [
       "                     author                                  title  \\\n",
       "1546       Flavius Josephus                   The Wars of the Jews   \n",
       "1547       Flavius Josephus                Antiquities of the Jews   \n",
       "1569       Flavius Josephus                Antiquities of the Jews   \n",
       "1610       Flavius Josephus                   The Wars of the Jews   \n",
       "1631       Flavius Josephus                   The Wars of the Jews   \n",
       "...                     ...                                    ...   \n",
       "79076                Celsus                            De Medicina   \n",
       "82615  Ammianus Marcellinus  Rerum Gestarum, volume 1 introduction   \n",
       "82807                Appian                         The Civil Wars   \n",
       "83208                Appian                         The Civil Wars   \n",
       "88956             Athenaeus                     The Deipnosophists   \n",
       "\n",
       "                           section  \\\n",
       "1546   Book III, whiston chapter 7   \n",
       "1547     book 5, whiston chapter 1   \n",
       "1569                        book 5   \n",
       "1610                      Book III   \n",
       "1631           , whiston chapter 1   \n",
       "...                            ...   \n",
       "79076                     Book VII   \n",
       "82615                       book 1   \n",
       "82807                 , CHAPTER XI   \n",
       "83208                     BOOK III   \n",
       "88956                     Book XI.   \n",
       "\n",
       "                                                    text  num_words  \n",
       "1546   [Note 1: VESPASIAN, WHEN HE HAD TAKEN THE CITY...       9411  \n",
       "1547   [Note 1: HOW JOSHUA, THE COMMANDER OF THE HEBR...       9213  \n",
       "1569   [Note 1: HOW, AFTER THE DEATH OF JOSHUA THEIR ...       4255  \n",
       "1610   [Note 1: HOW TARICHEAE WAS TAKEN. A DESCRIPTIO...       4213  \n",
       "1631   [Note 1: THE SIEGE AND TAKING OF GAMALA] NOW a...       4063  \n",
       "...                                                  ...        ...  \n",
       "79076  7 But whilst the preceding kinds of lesion do ...       5078  \n",
       "82615  Preface SOME of the reviews of my previous con...      11748  \n",
       "82807  CHAPTER XI Speeches of the Commanders -- Prepa...       4072  \n",
       "83208  CHAPTER VIII Antony orders Decimus Brutus to w...       4927  \n",
       "88956  BOOK X. Ulysses -- Voracity of certain Persons...      30158  \n",
       "\n",
       "[63 rows x 5 columns]"
      ]
     },
     "execution_count": 31,
     "metadata": {},
     "output_type": "execute_result"
    }
   ],
   "source": [
    "df[df[\"num_words\"] > 4000]"
   ]
  },
  {
   "cell_type": "markdown",
   "id": "979c9035-96a5-40dc-80d8-b9851ee64997",
   "metadata": {},
   "source": [
    "Although the limit stablished by boxplot is 320, we are not going to limit the length of the text. The BigBird (the model that we are going to use to generate the embbedings) tokenizer will truncate the texts that exceed the maximum context length (4096 tokens)."
   ]
  },
  {
   "cell_type": "markdown",
   "id": "c45a63ca-6394-444d-93bb-9a46769d5948",
   "metadata": {},
   "source": [
    "## Generate embeddings for vector search"
   ]
  },
  {
   "cell_type": "code",
   "execution_count": 10,
   "id": "bc619f8e-b6df-4fa3-b9f1-423114e3ff54",
   "metadata": {},
   "outputs": [],
   "source": [
    "# Transform into a list of dicts\n",
    "# df_dict = df.to_dict(orient=\"records\")\n",
    "\n",
    "# Obtain list of texts\n",
    "text_list = df[\"text\"].tolist()"
   ]
  },
  {
   "cell_type": "code",
   "execution_count": 11,
   "id": "234bc1b0-7b32-4810-802e-e79bcd1149b4",
   "metadata": {},
   "outputs": [
    {
     "name": "stderr",
     "output_type": "stream",
     "text": [
      "/usr/local/python/3.12.1/lib/python3.12/site-packages/transformers/tokenization_utils_base.py:1601: FutureWarning: `clean_up_tokenization_spaces` was not set. It will be set to `True` by default. This behavior will be depracted in transformers v4.45, and will be then set to `False` by default. For more details check this issue: https://github.com/huggingface/transformers/issues/31884\n",
      "  warnings.warn(\n"
     ]
    }
   ],
   "source": [
    "# Initialize tokenizer and model\n",
    "model_name = \"google/bigbird-roberta-base\"\n",
    "tokenizer = BigBirdTokenizer.from_pretrained(model_name)\n",
    "model = BigBirdModel.from_pretrained(model_name)\n",
    "model.eval();"
   ]
  },
  {
   "cell_type": "code",
   "execution_count": 12,
   "id": "ab1c9857-b543-401a-bf96-557b4adc28a6",
   "metadata": {},
   "outputs": [],
   "source": [
    "class TextDataset(Dataset):\n",
    "    def __init__(self, texts, tokenizer, max_length):\n",
    "        self.texts = texts\n",
    "        self.tokenizer = tokenizer\n",
    "        self.max_length = max_length\n",
    "\n",
    "    def __len__(self):\n",
    "        return len(self.texts)\n",
    "\n",
    "    def __getitem__(self, idx):\n",
    "        text = self.texts[idx]\n",
    "        encoding = self.tokenizer(text, truncation=True, padding='max_length', max_length=self.max_length, return_tensors='pt')\n",
    "        return encoding\n",
    "\n",
    "\n",
    "dataset = TextDataset(texts=text_list, tokenizer=tokenizer, max_length=4096)\n",
    "dataloader = DataLoader(dataset, batch_size=8, shuffle=False, num_workers=2)"
   ]
  },
  {
   "cell_type": "code",
   "execution_count": null,
   "id": "7b3d5c9e-604d-451a-8357-26aabee99599",
   "metadata": {},
   "outputs": [
    {
     "data": {
      "application/vnd.jupyter.widget-view+json": {
       "model_id": "db18dac3768043b0af7fcc8ad7de4246",
       "version_major": 2,
       "version_minor": 0
      },
      "text/plain": [
       "  0%|          | 0/10681 [00:00<?, ?it/s]"
      ]
     },
     "metadata": {},
     "output_type": "display_data"
    }
   ],
   "source": [
    "all_embeddings = []\n",
    "\n",
    "with torch.no_grad():\n",
    "    for batch in tqdm(dataloader):\n",
    "        inputs = {key: value.squeeze(1) for key, value in batch.items()}  # Remove batch dimension\n",
    "        outputs = model(**inputs)\n",
    "        embeddings = outputs.last_hidden_state.mean(dim=1)  # Compute mean embedding\n",
    "        all_embeddings.append(embeddings)"
   ]
  }
 ],
 "metadata": {
  "kernelspec": {
   "display_name": "Python 3 (ipykernel)",
   "language": "python",
   "name": "python3"
  },
  "language_info": {
   "codemirror_mode": {
    "name": "ipython",
    "version": 3
   },
   "file_extension": ".py",
   "mimetype": "text/x-python",
   "name": "python",
   "nbconvert_exporter": "python",
   "pygments_lexer": "ipython3",
   "version": "3.12.1"
  }
 },
 "nbformat": 4,
 "nbformat_minor": 5
}
