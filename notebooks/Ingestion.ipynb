{
 "cells": [
  {
   "cell_type": "markdown",
   "id": "cd32f1c8-0d0a-4f39-a62d-04bcc5a3f33f",
   "metadata": {},
   "source": [
    "# Data preparation and ingestion"
   ]
  },
  {
   "cell_type": "code",
   "execution_count": 10,
   "id": "5e4a621b-6c69-418a-b0bf-311088f5ca18",
   "metadata": {},
   "outputs": [],
   "source": [
    "# Imports\n",
    "import pandas as pd\n",
    "import numpy as np\n",
    "from tqdm.notebook import trange, tqdm\n",
    "from elasticsearch import Elasticsearch\n",
    "from statistics import median\n",
    "from transformers import BigBirdModel, BigBirdTokenizer\n",
    "import matplotlib.pyplot as plt"
   ]
  },
  {
   "cell_type": "markdown",
   "id": "72a45e88-8705-4fca-b0bb-4bc5892a0aeb",
   "metadata": {},
   "source": [
    "## Load the data"
   ]
  },
  {
   "cell_type": "code",
   "execution_count": 11,
   "id": "5aef7c64-1791-416f-bab9-0ef5ca5ab38e",
   "metadata": {},
   "outputs": [
    {
     "data": {
      "text/html": [
       "<div>\n",
       "<style scoped>\n",
       "    .dataframe tbody tr th:only-of-type {\n",
       "        vertical-align: middle;\n",
       "    }\n",
       "\n",
       "    .dataframe tbody tr th {\n",
       "        vertical-align: top;\n",
       "    }\n",
       "\n",
       "    .dataframe thead th {\n",
       "        text-align: right;\n",
       "    }\n",
       "</style>\n",
       "<table border=\"1\" class=\"dataframe\">\n",
       "  <thead>\n",
       "    <tr style=\"text-align: right;\">\n",
       "      <th></th>\n",
       "      <th>author</th>\n",
       "      <th>title</th>\n",
       "      <th>section</th>\n",
       "      <th>text</th>\n",
       "    </tr>\n",
       "  </thead>\n",
       "  <tbody>\n",
       "    <tr>\n",
       "      <th>0</th>\n",
       "      <td>P. Ovidius Naso</td>\n",
       "      <td>The Epistles of Ovid</td>\n",
       "      <td>Penelope to Ulysses, carte 53</td>\n",
       "      <td>Now corn grows where once Troy stood; and the ...</td>\n",
       "    </tr>\n",
       "    <tr>\n",
       "      <th>1</th>\n",
       "      <td>P. Ovidius Naso</td>\n",
       "      <td>Amores</td>\n",
       "      <td>Liber Primus, ELEGIA 1</td>\n",
       "      <td>ELEGIA 1 Quemadmodum a Cupidine, pro bellis am...</td>\n",
       "    </tr>\n",
       "    <tr>\n",
       "      <th>2</th>\n",
       "      <td>E.C. Marchant</td>\n",
       "      <td>Commentary on Thucydides: Book 7</td>\n",
       "      <td>book 7, chapter 1, section 1</td>\n",
       "      <td>Ὁ —the art. added because this is a continuati...</td>\n",
       "    </tr>\n",
       "    <tr>\n",
       "      <th>3</th>\n",
       "      <td>E.C. Marchant</td>\n",
       "      <td>Commentary on Thucydides: Book 6</td>\n",
       "      <td>book 6, chapter 1, section 1</td>\n",
       "      <td>ἐβούλοντο —‘the word is here (as in Xen. Hel. ...</td>\n",
       "    </tr>\n",
       "    <tr>\n",
       "      <th>4</th>\n",
       "      <td>E.C. Marchant</td>\n",
       "      <td>Commentary on Thucydides: Book 3</td>\n",
       "      <td>book 3, chapter 1, section 1</td>\n",
       "      <td>θέρους —Thuc. divides the year into θέρος , co...</td>\n",
       "    </tr>\n",
       "  </tbody>\n",
       "</table>\n",
       "</div>"
      ],
      "text/plain": [
       "            author                             title  \\\n",
       "0  P. Ovidius Naso              The Epistles of Ovid   \n",
       "1  P. Ovidius Naso                            Amores   \n",
       "2    E.C. Marchant  Commentary on Thucydides: Book 7   \n",
       "3    E.C. Marchant  Commentary on Thucydides: Book 6   \n",
       "4    E.C. Marchant  Commentary on Thucydides: Book 3   \n",
       "\n",
       "                         section  \\\n",
       "0  Penelope to Ulysses, carte 53   \n",
       "1         Liber Primus, ELEGIA 1   \n",
       "2   book 7, chapter 1, section 1   \n",
       "3   book 6, chapter 1, section 1   \n",
       "4   book 3, chapter 1, section 1   \n",
       "\n",
       "                                                text  \n",
       "0  Now corn grows where once Troy stood; and the ...  \n",
       "1  ELEGIA 1 Quemadmodum a Cupidine, pro bellis am...  \n",
       "2  Ὁ —the art. added because this is a continuati...  \n",
       "3  ἐβούλοντο —‘the word is here (as in Xen. Hel. ...  \n",
       "4  θέρους —Thuc. divides the year into θέρος , co...  "
      ]
     },
     "execution_count": 11,
     "metadata": {},
     "output_type": "execute_result"
    }
   ],
   "source": [
    "# Load in Pandas df\n",
    "data_path = \"../data/ancient_sources.csv.gz\"\n",
    "df = pd.read_csv(data_path, compression=\"gzip\")\n",
    "df.head()"
   ]
  },
  {
   "cell_type": "code",
   "execution_count": 12,
   "id": "07f78d48-8bcd-4041-8b5f-5ecfa7960c8a",
   "metadata": {},
   "outputs": [
    {
     "data": {
      "text/plain": [
       "(111752, 4)"
      ]
     },
     "execution_count": 12,
     "metadata": {},
     "output_type": "execute_result"
    }
   ],
   "source": [
    "# Check size\n",
    "df.shape"
   ]
  },
  {
   "cell_type": "markdown",
   "id": "07fe66f1-2da3-4dfe-a2fc-cd60b0d89358",
   "metadata": {},
   "source": [
    "## Data cleaning and EDA"
   ]
  },
  {
   "cell_type": "code",
   "execution_count": 13,
   "id": "d09d1d0b-7f5a-416c-bf8d-70819c4dd0f7",
   "metadata": {},
   "outputs": [
    {
     "data": {
      "text/html": [
       "<div>\n",
       "<style scoped>\n",
       "    .dataframe tbody tr th:only-of-type {\n",
       "        vertical-align: middle;\n",
       "    }\n",
       "\n",
       "    .dataframe tbody tr th {\n",
       "        vertical-align: top;\n",
       "    }\n",
       "\n",
       "    .dataframe thead th {\n",
       "        text-align: right;\n",
       "    }\n",
       "</style>\n",
       "<table border=\"1\" class=\"dataframe\">\n",
       "  <thead>\n",
       "    <tr style=\"text-align: right;\">\n",
       "      <th></th>\n",
       "      <th>author</th>\n",
       "      <th>title</th>\n",
       "      <th>section</th>\n",
       "      <th>text</th>\n",
       "      <th>num_words</th>\n",
       "    </tr>\n",
       "  </thead>\n",
       "  <tbody>\n",
       "    <tr>\n",
       "      <th>0</th>\n",
       "      <td>P. Ovidius Naso</td>\n",
       "      <td>The Epistles of Ovid</td>\n",
       "      <td>Penelope to Ulysses, carte 53</td>\n",
       "      <td>Now corn grows where once Troy stood; and the ...</td>\n",
       "      <td>684</td>\n",
       "    </tr>\n",
       "    <tr>\n",
       "      <th>1</th>\n",
       "      <td>P. Ovidius Naso</td>\n",
       "      <td>Amores</td>\n",
       "      <td>Liber Primus, ELEGIA 1</td>\n",
       "      <td>ELEGIA 1 Quemadmodum a Cupidine, pro bellis am...</td>\n",
       "      <td>287</td>\n",
       "    </tr>\n",
       "    <tr>\n",
       "      <th>2</th>\n",
       "      <td>E.C. Marchant</td>\n",
       "      <td>Commentary on Thucydides: Book 7</td>\n",
       "      <td>book 7, chapter 1, section 1</td>\n",
       "      <td>Ὁ —the art. added because this is a continuati...</td>\n",
       "      <td>514</td>\n",
       "    </tr>\n",
       "    <tr>\n",
       "      <th>3</th>\n",
       "      <td>E.C. Marchant</td>\n",
       "      <td>Commentary on Thucydides: Book 6</td>\n",
       "      <td>book 6, chapter 1, section 1</td>\n",
       "      <td>ἐβούλοντο —‘the word is here (as in Xen. Hel. ...</td>\n",
       "      <td>739</td>\n",
       "    </tr>\n",
       "    <tr>\n",
       "      <th>4</th>\n",
       "      <td>E.C. Marchant</td>\n",
       "      <td>Commentary on Thucydides: Book 3</td>\n",
       "      <td>book 3, chapter 1, section 1</td>\n",
       "      <td>θέρους —Thuc. divides the year into θέρος , co...</td>\n",
       "      <td>50</td>\n",
       "    </tr>\n",
       "  </tbody>\n",
       "</table>\n",
       "</div>"
      ],
      "text/plain": [
       "            author                             title  \\\n",
       "0  P. Ovidius Naso              The Epistles of Ovid   \n",
       "1  P. Ovidius Naso                            Amores   \n",
       "2    E.C. Marchant  Commentary on Thucydides: Book 7   \n",
       "3    E.C. Marchant  Commentary on Thucydides: Book 6   \n",
       "4    E.C. Marchant  Commentary on Thucydides: Book 3   \n",
       "\n",
       "                         section  \\\n",
       "0  Penelope to Ulysses, carte 53   \n",
       "1         Liber Primus, ELEGIA 1   \n",
       "2   book 7, chapter 1, section 1   \n",
       "3   book 6, chapter 1, section 1   \n",
       "4   book 3, chapter 1, section 1   \n",
       "\n",
       "                                                text  num_words  \n",
       "0  Now corn grows where once Troy stood; and the ...        684  \n",
       "1  ELEGIA 1 Quemadmodum a Cupidine, pro bellis am...        287  \n",
       "2  Ὁ —the art. added because this is a continuati...        514  \n",
       "3  ἐβούλοντο —‘the word is here (as in Xen. Hel. ...        739  \n",
       "4  θέρους —Thuc. divides the year into θέρος , co...         50  "
      ]
     },
     "execution_count": 13,
     "metadata": {},
     "output_type": "execute_result"
    }
   ],
   "source": [
    "# Create a function that counts number of words of a text\n",
    "def count_words(text):\n",
    "    return len(str(text).split())\n",
    "\n",
    "# Append a column with the number of words of the texts\n",
    "df[\"num_words\"] = df[\"text\"].apply(count_words)\n",
    "\n",
    "# Show first rows\n",
    "df.head()"
   ]
  },
  {
   "cell_type": "code",
   "execution_count": 14,
   "id": "084e26e2-6dbb-45d9-91db-f212327fa7be",
   "metadata": {},
   "outputs": [
    {
     "data": {
      "text/plain": [
       "count    111752.000000\n",
       "mean        173.964663\n",
       "std         363.657284\n",
       "min           1.000000\n",
       "25%          56.000000\n",
       "50%          92.000000\n",
       "75%         166.000000\n",
       "max       31177.000000\n",
       "Name: num_words, dtype: float64"
      ]
     },
     "execution_count": 14,
     "metadata": {},
     "output_type": "execute_result"
    }
   ],
   "source": [
    "df[\"num_words\"].describe()"
   ]
  },
  {
   "cell_type": "code",
   "execution_count": 23,
   "id": "bdb69176-42a2-4033-9ec1-d093577fb37d",
   "metadata": {},
   "outputs": [],
   "source": [
    "df_nans_text = df[df[\"text\"].isna()]"
   ]
  },
  {
   "cell_type": "code",
   "execution_count": 25,
   "id": "58d037ff-9371-4aa4-a38e-54fdb408f0b6",
   "metadata": {},
   "outputs": [
    {
     "data": {
      "text/html": [
       "<div>\n",
       "<style scoped>\n",
       "    .dataframe tbody tr th:only-of-type {\n",
       "        vertical-align: middle;\n",
       "    }\n",
       "\n",
       "    .dataframe tbody tr th {\n",
       "        vertical-align: top;\n",
       "    }\n",
       "\n",
       "    .dataframe thead th {\n",
       "        text-align: right;\n",
       "    }\n",
       "</style>\n",
       "<table border=\"1\" class=\"dataframe\">\n",
       "  <thead>\n",
       "    <tr style=\"text-align: right;\">\n",
       "      <th></th>\n",
       "      <th>author</th>\n",
       "      <th>title</th>\n",
       "      <th>section</th>\n",
       "      <th>text</th>\n",
       "      <th>num_words</th>\n",
       "    </tr>\n",
       "  </thead>\n",
       "  <tbody>\n",
       "    <tr>\n",
       "      <th>3339</th>\n",
       "      <td>Quintilian</td>\n",
       "      <td>Institutio Oratoria, Book 8</td>\n",
       "      <td>, chapter pr, section 1</td>\n",
       "      <td>NaN</td>\n",
       "      <td>1</td>\n",
       "    </tr>\n",
       "    <tr>\n",
       "      <th>32225</th>\n",
       "      <td>M. Tullius Cicero</td>\n",
       "      <td>On the Agrarian Law</td>\n",
       "      <td>text Agr., chapter 1, section 1</td>\n",
       "      <td>NaN</td>\n",
       "      <td>1</td>\n",
       "    </tr>\n",
       "    <tr>\n",
       "      <th>44168</th>\n",
       "      <td>Plutarch</td>\n",
       "      <td>An vitiositas ad infelicitatem sufficia</td>\n",
       "      <td>section intro</td>\n",
       "      <td>NaN</td>\n",
       "      <td>1</td>\n",
       "    </tr>\n",
       "    <tr>\n",
       "      <th>44189</th>\n",
       "      <td>Plutarch</td>\n",
       "      <td>An vitiositas ad infelicitatem sufficia</td>\n",
       "      <td>NaN</td>\n",
       "      <td>NaN</td>\n",
       "      <td>1</td>\n",
       "    </tr>\n",
       "    <tr>\n",
       "      <th>44210</th>\n",
       "      <td>Plutarch</td>\n",
       "      <td>An vitiositas ad infelicitatem sufficia</td>\n",
       "      <td>section 2</td>\n",
       "      <td>NaN</td>\n",
       "      <td>1</td>\n",
       "    </tr>\n",
       "    <tr>\n",
       "      <th>...</th>\n",
       "      <td>...</td>\n",
       "      <td>...</td>\n",
       "      <td>...</td>\n",
       "      <td>...</td>\n",
       "      <td>...</td>\n",
       "    </tr>\n",
       "    <tr>\n",
       "      <th>71142</th>\n",
       "      <td>Plutarch</td>\n",
       "      <td>Apophthegmata Laconica</td>\n",
       "      <td>NaN</td>\n",
       "      <td>NaN</td>\n",
       "      <td>1</td>\n",
       "    </tr>\n",
       "    <tr>\n",
       "      <th>71163</th>\n",
       "      <td>Plutarch</td>\n",
       "      <td>Apophthegmata Laconica</td>\n",
       "      <td>, section 69</td>\n",
       "      <td>NaN</td>\n",
       "      <td>1</td>\n",
       "    </tr>\n",
       "    <tr>\n",
       "      <th>71184</th>\n",
       "      <td>Plutarch</td>\n",
       "      <td>Apophthegmata Laconica</td>\n",
       "      <td>NaN</td>\n",
       "      <td>NaN</td>\n",
       "      <td>1</td>\n",
       "    </tr>\n",
       "    <tr>\n",
       "      <th>71205</th>\n",
       "      <td>Plutarch</td>\n",
       "      <td>Apophthegmata Laconica</td>\n",
       "      <td>, section 71</td>\n",
       "      <td>NaN</td>\n",
       "      <td>1</td>\n",
       "    </tr>\n",
       "    <tr>\n",
       "      <th>71226</th>\n",
       "      <td>Plutarch</td>\n",
       "      <td>Apophthegmata Laconica</td>\n",
       "      <td>NaN</td>\n",
       "      <td>NaN</td>\n",
       "      <td>1</td>\n",
       "    </tr>\n",
       "  </tbody>\n",
       "</table>\n",
       "<p>2129 rows × 5 columns</p>\n",
       "</div>"
      ],
      "text/plain": [
       "                  author                                    title  \\\n",
       "3339          Quintilian              Institutio Oratoria, Book 8   \n",
       "32225  M. Tullius Cicero                      On the Agrarian Law   \n",
       "44168           Plutarch  An vitiositas ad infelicitatem sufficia   \n",
       "44189           Plutarch  An vitiositas ad infelicitatem sufficia   \n",
       "44210           Plutarch  An vitiositas ad infelicitatem sufficia   \n",
       "...                  ...                                      ...   \n",
       "71142           Plutarch                   Apophthegmata Laconica   \n",
       "71163           Plutarch                   Apophthegmata Laconica   \n",
       "71184           Plutarch                   Apophthegmata Laconica   \n",
       "71205           Plutarch                   Apophthegmata Laconica   \n",
       "71226           Plutarch                   Apophthegmata Laconica   \n",
       "\n",
       "                               section text  num_words  \n",
       "3339           , chapter pr, section 1  NaN          1  \n",
       "32225  text Agr., chapter 1, section 1  NaN          1  \n",
       "44168                    section intro  NaN          1  \n",
       "44189                              NaN  NaN          1  \n",
       "44210                        section 2  NaN          1  \n",
       "...                                ...  ...        ...  \n",
       "71142                              NaN  NaN          1  \n",
       "71163                     , section 69  NaN          1  \n",
       "71184                              NaN  NaN          1  \n",
       "71205                     , section 71  NaN          1  \n",
       "71226                              NaN  NaN          1  \n",
       "\n",
       "[2129 rows x 5 columns]"
      ]
     },
     "execution_count": 25,
     "metadata": {},
     "output_type": "execute_result"
    }
   ],
   "source": [
    "df_nans_text"
   ]
  },
  {
   "cell_type": "markdown",
   "id": "c45a63ca-6394-444d-93bb-9a46769d5948",
   "metadata": {},
   "source": [
    "## Generate embeddings for vector search"
   ]
  },
  {
   "cell_type": "code",
   "execution_count": null,
   "id": "bc619f8e-b6df-4fa3-b9f1-423114e3ff54",
   "metadata": {},
   "outputs": [],
   "source": [
    "# Transform into a list of dicts\n",
    "df_dict = df.to_dict(orient=\"records\")"
   ]
  },
  {
   "cell_type": "code",
   "execution_count": 62,
   "id": "81d99e72-0fa6-4137-a800-7a1f042bb59f",
   "metadata": {},
   "outputs": [
    {
     "data": {
      "application/vnd.jupyter.widget-view+json": {
       "model_id": "cfce8582bc744d6ab8e62c915b86af17",
       "version_major": 2,
       "version_minor": 0
      },
      "text/plain": [
       "  0%|          | 0/111745 [00:00<?, ?it/s]"
      ]
     },
     "metadata": {},
     "output_type": "display_data"
    },
    {
     "name": "stdout",
     "output_type": "stream",
     "text": [
      "The longest text in our dataset contains 14981 words, and the median number of words per text is 92\n"
     ]
    }
   ],
   "source": [
    "# Remove outliers\n",
    "#df_dict.pop(4782)\n",
    "#df_dict.pop(88955)\n",
    "#df_dict.pop(4758)\n",
    "df_dict.pop(75268)\n",
    "\n",
    "# Calculate the longest and mean text in our data\n",
    "counts = []\n",
    "for src in tqdm(df_dict):\n",
    "    if type(src[\"text\"]) != str:\n",
    "        src[\"text\"] = str(src[\"text\"])\n",
    "        \n",
    "    counts.append(len(src[\"text\"].split()))\n",
    "\n",
    "max_words = max(counts)\n",
    "median_words = median(counts)\n",
    "\n",
    "print(f\"The longest text in our dataset contains {max_words} words, and the median number of words per text is {median_words}\")"
   ]
  },
  {
   "cell_type": "code",
   "execution_count": 64,
   "id": "332f69f6-eb73-488e-92fb-1e712ccd3169",
   "metadata": {},
   "outputs": [
    {
     "data": {
      "text/plain": [
       "{'author': 'Diogenes Laertius',\n",
       " 'title': 'Lives of Eminent Philosophers',\n",
       " 'section': 'BOOK III, PLATO (427-347 B.C.)',\n",
       " 'text': 'PLATO (427-347 B.C.) Plato was the son of Ariston and a citizen of Athens. His mother was Perictione (or Potone), who traced back her descent to Solon. For Solon had a brother, Dropides; he was the father of Critias, who was the father of Callaeschrus, who was the father of Critias, one of the Thirty, as well as of Glaucon, who was the father of Charmides and Perictione. Thus Plato, the son of this Perictione and Ariston, was in the sixth generation from Solon. And Solon traced his descent to Neleus and Poseidon. His father too is said to be in the direct line from Codrus, the son of Melanthus, and, according to Thrasylus, Codrus and Melanthus also trace their descent from Poseidon. [ 2 ] Speusippus in the work entitled Plato\\'s Funeral Feast , Clearchus in his Encomium on Plato , and Anaxilaïdes in his second book On Philosophers , tell us that there was a story at Athens that Ariston made violent love to Perictione, then in her bloom, and failed to win her; and that, when he ceased to offer violence, Apollo appeared to him in a dream, whereupon he left her unmolested until her child was born. Apollodorus in his Chronology fixes the date of Plato\\'s birth in the 88th Olympiad, on the seventh day of the month Thargelion, the same day on which the Delians say that Apollo himself was born. He died, according to Hermippus, at a wedding feast, in the first year of the 108th Olympiad, in his eightyfirst year. [Note 1: 427-347 b.c] [ 3 ] Neanthes, however, makes him die at the age of eighty-four. He is thus seen to be six years the junior of Isocrates. For Isocrates was born in the archonship of Lysimachus, [Note 2: 436-435 b.c] Plato in that of Ameinias, the year of Pericles\\' death. [Note 3: 429 b.c] He belonged to the deme Collytus, as is stated by Antileon in his second book On Dates. He was born, according to some, in Aegina, in the house of Phidiades, the son of Thales, as Favorinus states in his Miscellaneous History , for his father had been sent along with others to Aegina to settle in the island, but returned to Athens when the Athenians were expelled by the Lacedaemonians, who championed the Aeginetan cause. That Plato acted as choregus at Athens, the cost being defrayed by Dion, is stated by Athenodorus in the eighth book of a work entitled Walks. [ 4 ] He had two brothers, Adeimantus and Glaucon, and a sister, Potone, who was the mother of Speusippus. He was taught letters in the school of Dionysius, who is mentioned by him in the Rivals. And he learnt gymnastics under Ariston, the Argive wrestler. And from him he received the name of Plato on account of his robust figure, in place of his original name which was Aristocles, after his grandfather, as Alexander informs us in his Successions of Philosophers. But others affirm that he got the name Plato from the breadth of his style, or from the breadth of his forehead, as suggested by Neanthes. Others again affirm that he wrestled in the Isthmian Games--this is stated by Dicaearchus in his first book On Lives -- [ 5 ] and that he applied himself to painting and wrote poems, first dithyrambs, afterwards lyric poems and tragedies. He had, they say, a weak voice; this is confirmed by Timotheus the Athenian in his book On Lives. It is stated that Socrates in a dream saw a cygnet on his knees, which all at once put forth plumage, and flew away after uttering a loud sweet note. And the next day Plato was introduced as a pupil, and thereupon he recognized in him the swan of his dream. [Note 4: Compare Apuleius, De Platone , p. 64 Goldb. It has been proposed to emend the next sentence by bracketing the words ἐν Ἀκαδημείᾳ , εἶτα ἐν τῷ κήπῳ τῷ παρὰ τὸν Κολωνόν , as a note inserted by Diogenes Laertius from a different author] At first he used to study philosophy in the Academy, and afterwards in the garden at Colonus (as Alexander states in his Successions of Philosophers ), as a follower of Heraclitus. Afterwards, when he was about to compete for the prize with a tragedy, he listened to Socrates in front of the theatre of Dionysus, [Note 5: Aelian ( V.H. ii. 30) has πρὸ τῶν Διονυσίων , \"before the festival of Dionysus.\"] and then consigned his poems to the flames, with the words [Note 6: Hom. Il. xviii. 392] : Come hither, O fire-god, Plato now has need of thee.e)/peita me/ntoi . . . ti sei=o xati/zei. It is suggested that this sentence also is an insertion by Diogenes, which interrupts the real sequence of the narrative. [ 6 ] From that time onward, having reached his twentieth year (so it is said), he was the pupil of Socrates. When Socrates was gone, he attached himself to Cratylus the Heraclitean, and to Hermogenes who professed the philosophy of Parmenides. Then at the age of twenty-eight, according to Hermodorus, he withdrew to Megara to Euclides, with certain other disciples of Socrates. Next he proceeded to Cyrene on a visit to Theodorus the mathematician, thence to Italy to see the Pythagorean philosophers Philolaus and Eurytus, and thence to Egypt to see those who interpreted the will of the gods; and Euripides is said to have accompanied him thither. There he fell sick and was cured by the priests, who treated him with sea-water, and for this reason he cited the line [Note 7: ἔπειτα μέντοι . . . τι σεῖο χατίζει . It is suggested that this sentence also is an insertion by Diogenes, which interrupts the real sequence of the narrative] : The sea doth wash away all human ills. [ 7 ] Furthermore he said that, according to Homer, [Note 8: Eur. Iph. T. 1193] beyond all men the Egyptians were skilled in healing. Plato also intended to make the acquaintance of the Magians, but was prevented by the wars in Asia. Having returned to Athens, he lived in the Academy, which is a gymnasium outside the walls, in a grove named after a certain hero, Hecademus, as is stated by Eupolis in his play entitled Shirkers [Note 9: Od. iv. 231] : In the shady walks of the divine Hecademus. Moreover, there are verses of Timon which refer to Plato [Note 10: Meineke, C.G.F. ii. 437. According to Suidas, s.v. Εὔπολις , this play had a second title, Ἀνδρογύναι , by which alone it is cited in Etymol. Magnum] : Amongst all of them Plato was the leader, a big fish, but a sweet-voiced speaker, musical in prose as the cicala who, perched on the trees of Hecademus, pours forth a strain as delicate as a lily. [ 8 ] Thus the original name of the place was Hecademy, spelt with e. Now Plato was a friend of Isocrates. And Praxiphanes makes them converse about poets at a country-seat where Plato was entertaining Isocrates. And Aristoxenus asserts that he went on service three times, first to Tanagra, secondly to Corinth, and thirdly at Delium, where also he obtained the prize of valour. He mixed together doctrines of Heraclitus, the Pythagoreans and Socrates. In his doctrine of sensible things he agrees with Heraclitus, in his doctrine of the intelligible with Pythagoras, and in political philosophy with Socrates. [ 9 ] Some authorities, amongst them Satyrus, say that he wrote to Dion in Sicily instructing him to purchase three Pythagorean books from Philolaus for 100 minae. For they say he was well off, having received from Dionysius over eighty talents. This is stated by Onetor in an essay upon the theme, \"Whether a wise man will make money.\" Further, he derived great assistance from Epicharmus the Comic poet, for he transcribed a great deal from him, as Alcimus says in the essays dedicated to Amyntas, of which there are four. In the first of them he writes thus: \"It is evident that Plato often employs the words of Epicharmus. [Note 11: Fr. 30 D] Just consider. Plato asserts that the object of sense is that which never abides in quality or quantity, but is ever in flux and change. [ 10 ] The assumption is that the things from which you take away number are no longer equal nor determinate, nor have they quantity or quality. These are the things to which becoming always, and being never, belongs. But the object of thought is something constant from which nothing is subtracted, to which nothing is added. This is the nature of the eternal things, the attribute of which is to be ever alike and the same. And indeed Epicharmus has expressed himself plainly about objects of sense and objects of thought. a. But gods there always were; never at any time were they wanting, while things in this world are always alike, and are brought about through the same agencies. b. Yet it is said that Chaos was the first-born of the gods. a. How so? If indeed there was nothing out of which, or into which, it could come first. b. What! Then did nothing come first after all? a. No, by Zeus, nor second either, [ 11 ] at least of the things which we are thus talking about now; on the contrary, they existed from all eternity. . . . a. But suppose some one chooses to add a single pebble to a heap containing either an odd or an even number, whichever you please, or to take away one of those already there; do you think the number of pebbles would remain the same? b. Not I. a. Nor yet, if one chooses to add to a cubit-measure another length, [Note 12: The genuineness of these fragments is doubted by Wilamowitz, Rohde, and others; see Wilamowitz, Platon , ii. 28 note 2, and on the other side Diels, note ad loc. ( Frag. der Vorsok. 13 B. 1-5)] or cut off some of what was there already, would the original measure still exist? b. Of course not. a. Now consider mankind in this same way. One man grows, and another again shrinks; and they are all undergoing change the whole time. But a thing which naturally changes and never remains in the same state must ever be different from that which has thus changed. And even so you and I were one pair of men yesterday, are another to-day, and again will be another to-morrow, and will never remain ourselves, by this same argument.\" [ 12 ] Again, Alcimus makes this further statement: \"There are some things, say the wise, which the soul perceives through the body, as in seeing and hearing; there are other things which it discerns by itself without the aid of the body. Hence it follows that of existing things some are objects of sense and others objects of thought. Hence Plato said that, if we wish to take in at one glance the principles underlying the universe, we must first distinguish the ideas by themselves, for example, likeness, unity and plurality, magnitude, rest and motion; next we must assume the existence of [ 13 ] beauty, goodness, justice and the like, each existing in and for itself; in the third place we must see how many of the ideas are relative to other ideas, as are knowledge, or magnitude, or ownership, remembering that the things within our experience bear the same names as those ideas because they partake of them; I mean that things which partake of justice are just, things which partake of beauty are beautiful. Each one of the ideas is eternal, it is a notion, and moreover is incapable of change. Hence Plato says that they stand in nature like archetypes, and that all things else bear a resemblance to the ideas because they are copies of these archetypes. Now here are the words of Epicharmus about the good and about the ideas: [ 14 ] a. Is flute-playing a thing? b. Most certainly. a. Is man then flute-playing? b. By no means. a. Come, let me see, what is a flute-player? Whom do you take him to be? Is he not a man? b. Most certainly. a. Well, don\\'t you think the same would be the case with the good? Is not the good in itself a thing? And does not he who has learnt that thing and knows it at once become good? For, just as he becomes a flute-player by learning flute-playing, or a dancer when he has learnt dancing, or a plaiter when he has learnt plaiting, in the same way, if he has learnt anything of the sort, whatever you like, he would not be one with the craft but he would be the craftsman. [ 15 ] Now Plato in conceiving his theory of Ideas says [Note 13: Or, reading στερρόν for ἕτερον , \"a substantial length.\"] : Since there is such a thing as memory, there must be ideas present in things, because memory is of something stable and permanent, and nothing is permanent except the ideas. `For how,\\' he says, `could animals have survived unless they had apprehended the idea and had been endowed by Nature with intelligence to that end? As it is, they remember similarities and what their food is like, which shows that animals have the innate power of discerning what is similar. And hence they perceive others of their own kind.\\' How then does Epicharmus put it? [ 16 ] Wisdom is not confined, Eumaeus, to one kind alone, but all living creatures likewise have understanding. For, if you will study intently the hen among poultry, she does not bring forth the chicks alive, but sits clucking on the eggs and wakens life in them. As for this wisdom of hers, the true state of the case is known to Nature alone, for the hen has learnt it from herself. And again: It is no wonder then that we talk thus and are pleased with ourselves and think we are fine folk. For a dog appears the fairest of things to a dog, an ox to an ox, an ass to an ass, and verily a pig to a pig.\" [ 17 ] These and the like instances Alcimus notes through four books, pointing out the assistance derived by Plato from Epicharmus. That Epicharmus himself was fully conscious of his wisdom can also be seen from the lines in which he foretells that he will have an imitator [Note 14: Cf. Phaedo , 96 b \"(I considered) whether it is blood or air or fire with which we think, or none of these things, but the brain which furnishes the senses of hearing and sight and smell, and from these arise memory and opinion, and from memory and opinion, when they have become stable, in the same way knowledge arises.\"] : And as I think--for when I think anything I know it full well--that my words will some day be remembered; some one will take them and free them from the metre in which they are now set, nay, will give them instead a purple robe, embroidering it with fine phrases; and, being invincible, he will make every one else an easy prey. [ 18 ] Plato, it seems, was the first to bring to Athens the mimes of Sophron which had been neglected, and to draw characters in the style of that writer; a copy of the mimes, they say, was actually found under his pillow. He made three voyages to Sicily, the first time to see the island and the craters of Etna: on this occasion Dionysius, the son of Hermocrates, being on the throne, forced him to become intimate with him. But when Plato held forth on tyranny and maintained that the interest of the ruler alone was not the best end, unless he were also pre-eminent in virtue, he offended Dionysius, who in his anger exclaimed, \"You talk like an old dotard.\" \"And you like a tyrant,\" rejoined Plato. [ 19 ] At this the tyrant grew furious and at first was bent on putting him to death; then, when he had been dissuaded from this by Dion and Aristomenes, he did not indeed go so far but handed him over to Pollis the Lacedaemonian, who had just then arrived on an embassy, with orders to sell him into slavery. And Pollis took him to Aegina and there offered him for sale. And then Charmandrus, the son of Charmandrides, indicted him on a capital charge according to the law in force among the Aeginetans, to the effect that the first Athenian who set foot upon the island should be put to death without a trial. This law had been passed by the prosecutor himself, according to Favorinus in his Miscellaneous History. But when some one urged, though in jest, that the offender was a philosopher, the court acquitted him. There is another version to the effect that he was brought before the assembly and, being kept under close scrutiny, he maintained an absolute silence and awaited the issue with confidence. The assembly decided not to put him to death but to sell him just as if he were a prisoner of war. [ 20 ] Anniceris the Cyrenaic happened to be present and ransomed him for twenty minae--according to others the sum was thirty minae--and dispatched him to Athens to his friends, who immediately remitted the money. But Anniceris declined it, saying that the Athenians were not the only people worthy of the privilege of providing for Plato. Others assert that Dion sent the money and that Anniceris would not take it, but bought for Plato the little garden which is in the Academy. Pollis, however, is stated to have been defeated by Chabrias and afterwards to have been drowned at Helice, [Note 15: This fragment (Fr. 6 D.), which has not the authority of Alcimus, is generally condemned as spurious] his treatment of the philosopher having provoked the wrath of heaven, as Favorinus says in the first book of his Memorabilia. [ 21 ] Dionysius, indeed, could not rest. On learning the facts he wrote and enjoined upon Plato not to speak evil of him. And Plato replied that he had not the leisure to keep Dionysius in his mind. The second time he visited the younger Dionysius, requesting of him lands and settlers for the realization of his republic. Dionysius promised them but did not keep his word. Some say that Plato was also in great danger, being suspected of encouraging Dion and Theodotas in a scheme for liberating the whole island; on this occasion Archytas the Pythagorean wrote to Dionysius, procured his pardon, and got him conveyed safe to Athens. The letter runs as follows: \"Archytas to Dionysius, wishing him good health. [ 22 ] \"We, being all of us the friends of Plato, have sent to you Lamiscus and Photidas in order to take the philosopher away by the terms of the agreement made with you. You will do well to remember the zeal with which you urged us all to secure Plato\\'s coming to Sicily, determined as you were to persuade him and to undertake, amongst other things, responsibility for his safety so long as he stayed with you and on his return. Remember this too, that you set great store by his coming, and from that time had more regard for him than for any of those at your court. If he has given you offence, it behoves you to behave with humanity and restore him to us unhurt. By so doing you will satisfy justice and at the same time put us under an obligation.\" [ 23 ] The third time he came to reconcile Dion and Dionysius, but, failing to do so, returned to his own country without achieving anything. And there he refrained from meddling with politics, although his writings show that he was a statesman. The reason was that the people had already been accustomed to measures and institutions quite different from his own. Pamphila in the twenty-fifth book of her Memorabilia says that the Arcadians and Thebans, when they were founding Megalopolis, invited Plato to be their legislator; but that, when he discovered that they were opposed to equality of possessions, he refused to go. [Note 16: In the tidal wave which swallowed up ten Lacedaemonian triremes in the great earthquake of 372 b.c.: Aelian, Hist. animal. xi. 19] There is a story that he pleaded for Chabrias the general when he was tried for his life, although no one else at Athens would do so, [ 24 ] and that, on this occasion, as he was going up to the Acropolis along with Chabrias, Crobylus the informer met him and said, \"What, are you come to speak for the defence? Don\\'t you know that the hemlock of Socrates awaits you?\" To this Plato replied, \"As I faced dangers when serving in the cause of my country, so I will face them now in the cause of duty for a friend.\" He was the first to introduce argument by means of question and answer, says Favorinus in the eighth book of his Miscellaneous History ; he was the first to explain to Leodamas of Thasos the method of solving problems by analysis [Note 17: Compare Aelian, Var. Hist. ii. 42] ; and the first who in philosophical discussion employed the terms antipodes, element, dialectic, quality, oblong number, and, among boundaries, the plane superficies; also divine providence. [ 25 ] He was also the first philosopher who controverted the speech of Lysias, the son of Cephalus, which he has set out word for word in the Phaedrus , [Note 18: The same statement that Plato made over to Leodamas the analytical method occurs in Proclus, On Eucl. i. p. 211, 19-23 ed. Friedlein. See T. L. Heath, Euclid , vol. i. p. 36, also p. 134 note 1, and p. 137; vol. iii. p. 246] and the first to study the significance of grammar. And, as he was the first to attack the views of almost all his predecessors, the question is raised why he makes no mention of Democritus. Neanthes of Cyzicus says that, on his going to Olympia, the eyes of all the Greeks were turned towards him, and there he met Dion, who was about to make his expedition against Dionysius. In the first book of the Memorabilia of Favorinus there is a statement that Mithradates the Persian set up a statue of Plato in the Academy and inscribed upon it these words: \"Mithradates the Persian, the son of Orontobates, dedicated to the Muses a likeness of Plato made by Silanion.\" [ 26 ] Heraclides declares that in his youth he was so modest and orderly that he was never seen to laugh outright. In spite of this he too was ridiculed by the Comic poets. At any rate Theopompus in his Hedychares says [Note 19: 230 e sqq] : There is not anything that is truly one, even the number two is scarcely one, according to Plato. Moreover, Anaxandrides [Note 20: Meineke, C.G.F. ii. 796] in his Theseus says: He was eating olives exactly like Plato. Then there is Timon who puns on his name thus: [Note 21: Comic poet; ib. iii. 170] As Plato placed strange platitudes. [ 27 ] Alexis again in the Meropis [Note 22: Ib. vi. 25] : You have come in the nick of time. For I am at my wits\\' end and walking up and down, like Plato, and yet have discovered no wise plan but only tired my legs. And in the Ancylion [Note 23: Ib. iii. 451] : You don\\'t know what you are talking about: run about with Plato, and you\\'ll know all about soap and onions. Amphis, [Note 24: Ib. iii. 382] too, in the Amphicrates says: a. And as for the good, whatever that be, that you are likely to get on her account, I know no more about it, master, than I do of the good of Plato. b. Just attend. [ 28 ] And in the Dexidemides [Note 25: A poet of the Middle Comedy; Meineke, loc. cit. iii. 302] : O Plato, all you know is how to frown with eyebrows lifted high like any snail. Cratinus, [Note 26: Meineke, C.G.F. iii. 305] too, in The False Changeling : a. Clearly you are a man and have a soul. b. In Plato\\'s words, I am not sure but suspect that I have. And Alexis in the Olympiodorus [Note 27: Sc. Cratinus Junior, of the Middle Comedy; Meineke, C.G.F. iii. 378] : a. My mortal body withered up, my immortal part sped into the air. b. Is not this a lecture of Plato\\'s? And in the Parasite [Note 28: Meineke, C.G.F. iii. 455] : Or, with Plato, to converse alone. Anaxilas, [Note 29: Ib. iii. 468] again, in the Botrylion , and in Circe and Rich Women , has a gibe at him. [ 29 ] Aristippus in his fourth book On the Luxury of the Ancients says that he was attached to a youth named Aster, who joined him in the study of astronomy, as also to Dion who has been mentioned above, and, as some aver, to Phaedrus too. His passionate affection is revealed in the following epigrams which he is said to have written upon them [Note 30: Of the Middle Comedy; Meineke, iii. 342-352] : Star-gazing Aster, would I were the skies, To gaze upon thee with a thousand eyes. And another: Among the living once the Morning Star, Thou shin\\'st, now dead, like Hesper from afar. [ 30 ] And he wrote thus upon Dion [Note 31: Anth. Pal. vii. 669, 670] : Tears from their birth the lot had been Of Ilium\\'s daughters and their queen. By thee, O Dion, great deeds done New hopes and larger promise won. Now here thou liest gloriously, How deeply loved, how mourned by me. [ 31 ] This, they say, was actually inscribed upon his tomb at Syracuse. Again, it is said that being enamoured of Alexis and Phaedrus, as before mentioned, he composed the following lines [Note 32: Anth. Pal. vii. 99] : Now, when Alexis is of no account, I have said no more than this. He is fair to see, and everywhere all eyes are turned upon him. Why, my heart, do you show the dogs a bone? And then will you smart for this hereafter? Was it not thus that we lost Phaedrus? He is also credited with a mistress, Archeanassa, upon whom he wrote as follows [Note 33: Anth. Pal. vii. 100] : I have a mistress, fair Archeanassa of Colophon, on whose very wrinkles sits hot love. O hapless ye who met such beauty on its first voyage, what a flame must have been kindled in you! [ 32 ] There is another upon Agathon [Note 34: Anth. Pal. vii. 217] : While kissing Agathon, my soul leapt to my lips, as if fain, alas! to pass over to him. And another [Note 35: Anth. Pal. v. 78] : I throw an apple to you and, if indeed you are willing to love me, then receive it and let me taste your virgin charms. But if you are otherwise minded, which heaven forbid, take this very apple and see how short-lived all beauty is. And another [Note 36: Anth. Pal. v. 79] : An apple am I, thrown by one who loves you. Nay, Xanthippe, give consent, for you and I are both born to decay. [ 33 ] It is also said that the epigram on the Eretrians, who were swept out of the country, was written by him [Note 37: Anth. Pal. v. 80] : We are Eretrians by race, from Euboea, and lie near Susa. How far, alas, from our native land! And again [Note 38: Anth. Pal. vii. 259] : Thus Venus to the Muses spoke: Damsels, submit to Venus\\' yoke, Or dread my Cupid\\'s arms. Those threats, the virgins nine replied, May weigh with Mars, but we deride Love\\'s wrongs, or darts, or charms. And again [Note 39: Anth. Pal. ix. 39] : A certain person found some gold, Carried it off and, in its stead, Left a strong halter, neatly rolled. The owner found his treasure fled, And, daunted by his fortune\\'s wreck, Fitted the halter to his neck. [ 34 ] Further, Molon, being his enemy, said, \"It is not wonderful that Dionysius should be in Corinth, but rather that Plato should be in Sicily.\" And it seems that Xenophon was not on good terms with him. At any rate, they have written similar narratives as if out of rivalry with each other, a Symposium , a Defence of Socrates , and their moral treatises or Memorabilia. [Note 40: Anth. Pal. ix. 44] Next, the one wrote a Republic , the other a Cyropaedia. And in the Laws [Note 41: Diogenes is probably comparing with the Memorabilia the shorter dialogues of Plato, the Laches, Charmides, Crito , etc] Plato declares the story of the education of Cyrus to be a fiction, for that Cyrus did not answer to the description of him. And although both make mention of Socrates, neither of them refers to the other, except that Xenophon mentions Plato in the third book of his Memorabilia. [ 35 ] It is said also that Antisthenes, being about to read publicly something that he had composed, invited Plato to be present. And on his inquiring what he was about to read, Antisthenes replied that it was something about the impossibility of contradiction. \"How then,\" said Plato, \"can you write on this subject?\" thus showing him that the argument refutes itself. Thereupon he wrote a dialogue against Plato and entitled it Sathon. After this they continued to be estranged from one another. They say that, on hearing Plato read the Lysis , Socrates exclaimed, \"By Heracles, what a number of lies this young man is telling about me!\" For he has included in the dialogue much that Socrates never said. [ 36 ] Plato was also on bad terms with Aristippus. At least in the dialogue Of the Soul [Note 42: 694 c] he disparages him by saying that he was not present at the death of Socrates, though he was no farther off than Aegina. Again, they say that he showed a certain jealousy of Aeschines, because of his reputation with Dionysius, and that, when he arrived at the court, he was despised by Plato because of his poverty, but supported by Aristippus. And Idomeneus asserts that the arguments used by Crito, when in the prison he urges Socrates to escape, are really due to Aeschines, and that Plato transferred them to Crito because of his enmity to Aeschines. [ 37 ] Nowhere in his writings does Plato mention himself by name, except in the dialogue On the Soul [Note 43: Cf. ii. 65 with note] and the Apology. [Note 44: Phaedo , 59 b] Aristotle remarks that the style of the dialogues is half-way between poetry and prose. And according to Favorinus, when Plato read the dialogue On the Soul , Aristotle alone stayed to the end; the rest of the audience got up and went away. Some say that Philippus of Opus copied out the Laws , which were left upon waxen tablets, and it is said that he was the author of the Epinomis. Euphorion and Panaetius relate that the beginning of the Republic was found several times revised and rewritten, and the Republic itself Aristoxenus declares to have been nearly all of it included in the Controversies of Protagoras. [ 38 ] There is a story that the Phaedrus was his first dialogue. For the subject has about it something of the freshness of youth. Dicaearchus, however, censures its whole style as vulgar. A story is told that Plato once saw some one playing at dice and rebuked him. And, upon his protesting that he played for a trifle only, \"But the habit,\" rejoined Plato, \"is not a trifle.\" Being asked whether there would be any memoirs of him as of his predecessors, he replied, \"A man must first make a name, and he will have no lack of memoirs.\" One day, when Xenocrates had come in, Plato asked him to chastise his slave, since he was unable to do it himself because he was in a passion. [ 39 ] Further, it is alleged that he said to one of his slaves, \"I would have given you a flogging, had I not been in a passion.\" Being mounted on horseback, he quickly got down again, declaring that he was afraid he would be infected with horse-pride. He advised those who got drunk to view themselves in a mirror; for they would then abandon the habit which so disfigured them. To drink to excess was nowhere becoming, he used to say, save at the feasts of the god who was the giver of wine. He also disapproved of over - sleeping. At any rate in the Laws [Note 45: 34 a] he declares that [ 40 ] \"no one when asleep is good for anything.\" He also said that the truth is the pleasantest of sounds. Another version of this saying is that the pleasantest of all things is to speak the truth. Again, of truth he speaks thus in the Laws [Note 46: 808 b] : \"Truth, O stranger, is a fair and durable thing. But it is a thing of which it is hard to persuade men.\" His wish always was to leave a memorial of himself behind, either in the hearts of his friends or in his books. He was himself fond of seclusion according to some authorities. His death, the circumstances of which have already been related, took place in the thirteenth year of the reign of King Philip, as stated by Favorinus in the third book of his Memorabilia , and according to Theopompus [Note 47: 663 e] honours were paid to him at his death by Philip. [Note 48: The awkwardness of this last clause can be explained, but not excused, if we suppose that Diogenes Laertius got his citation of Theopompus from Favorinus] But Myronianus in his Parallels says that Philo mentions some proverbs that were in circulation about Plato\\'s lice, implying that this was the mode of his death. [ 41 ] He was buried in the Academy, where he spent the greatest part of his life in philosophical study. And hence the school which he founded was called the Academic school. And all the students there joined in the funeral procession. The terms of his will were as follows: \"These things have been left and devised by Plato: the estate in Iphistiadae, bounded on the north by the road from the temple at Cephisia, on the south by the temple of Heracles in Iphistiadae, on the east by the property of Archestratus of Phrearrhi, on the west by that of Philippus of Chollidae: this it shall be unlawful for anyone to sell or alienate, but it shall be the property of the boy Adeimantus to all intents and purposes: [ 42 ] the estate in Eiresidae which I bought of Callimachus, bounded on the north by the property of Eurymedon of Myrrhinus, on the south by the property of Demostratus of Xypete, on the east by that of Eurymedon of Myrrhinus, and on the west by the Cephisus; three minae of silver; a silver vessel weighing 165 drachmas; a cup weighing 45 drachmas; a gold signet-ring and earring together weighing four drachmas and three obols. Euclides the lapidary owes me three minae. I enfranchise Artemis. I leave four household servants, Tychon, Bictas, Apollonides and Dionysius. [ 43 ] Household furniture, as set down in the inventory of which Demetrius has the duplicate. I owe no one anything. My executors are Leosthenes, Speusippus, Demetrius, Hegias, Eurymedon, Callimachus and Thrasippus.\" Such were the terms of his will. The following epitaphs were inscribed upon his tomb [Note 49: Cf. Hdt. vi. 39 τὸν ἀδελφεὸν δηλαδὴ ἐπιτιμέων] : Here lies the god-like man Aristocles, eminent among men for temperance and the justice of his character. And he, if ever anyone, had the fullest meed of praise for wisdom, and was too great for envy. Next [Note 50: Anth. Pal. vii. 60] : [ 44 ] Earth in her bosom here hides Plato\\'s body, but his soul hath its immortal station with the blest, Ariston\\'s son, whom every good man, even if he dwell afar off, honours because he discerned the divine life. And a third of later date [Note 51: Anth. Pal. vii. 61] : a. Eagle, why fly you o\\'er this tomb? Say, is your gaze fixed upon the starry house of one of the immortals? b. I am the image of the soul of Plato, which has soared to Olympus, while his earth-born body rests in Attic soil. [ 45 ] There is also an epitaph of my own which runs thus [Note 52: Anth. Pal. vii. 62] : If Phoebus did not cause Plato to be born in Greece, how came it that he healed the minds of men by letters? As the god\\'s son Asclepius is a healer of the body, so is Plato of the immortal soul. And another on the manner of his death [Note 53: Anth. Pal. vii. 108] : Phoebus gave to mortals Asclepius and Plato, the one to save their souls, the other to save their bodies. From a wedding banquet he has passed to that city which he had founded for himself and planted in the sky. Such then are his epitaphs. [ 46 ] His disciples were Speusippus of Athens, Xenocrates of Chalcedon, Aristotle of Stagira, Philippus of Opus, Hestiaeus of Perinthus, Dion of Syracuse, Amyclus of Heraclea, Erastus and Coriscus of Scepsus, Timolaus of Cyzicus, Euaeon of Lampsacus, Python and Heraclides of Aenus, Hippothales and Callippus of Athens, Demetrius of Amphipolis, Heraclides of Pontus, and many others, among them two women, Lastheneia of Mantinea and Axiothea of Phlius, who is reported by Dicaearchus to have worn men\\'s clothes. Some say that Theophrastus too attended his lectures. Chamaeleon adds Hyper- ides the orator and Lycurgus, [ 47 ] and in this Polemo agrees. Sabinus makes Demosthenes his pupil, quoting, in the fourth book of his Materials for Criticism , Mnesistratus of Thasos as his authority. And it is not improbable. [Note 54: Anth. Pal. vii. 109] Now, as you are an enthusiastic Platonist, and rightly so, and as you eagerly seek out that philosopher\\'s doctrines in preference to all others, I have thought it necessary to give some account of the true nature of his discourses, the arrangement of the dialogues, and the method of his inductive procedure, as far as possible in an elementary manner and in main outline, in order that the facts I have collected respecting his life may not suffer by the omission of his doctrines. For, in the words of the proverb, it would be taking owls to Athens, were I to give you of all people the full particulars. [ 48 ] They say that Zeno the Eleatic was the first to write dialogues. But, according to Favorinus in his Memorabilia , Aristotle in the first book of his dialogue On Poets asserts that it was Alexamenus of Styra or Teos. In my opinion Plato, who brought this form of writing to perfection, ought to be adjudged the prize for its invention as well as for its embellishment. A dialogue is a discourse consisting of question and answer on some philosophical or political subject, with due regard to the characters of the persons introduced and the choice of diction. Dialectic is the art of discourse by which we either refute or establish some proposition by means of question and answer on the part of the interlocutors. [ 49 ] Of the Platonic dialogues there are two most general types, the one adapted for instruction and the other for inquiry. And the former is further divided into two types, the theoretical and the practical. And of these the theoretical is divided into the physical and logical, and the practical into the ethical and political. The dialogue of inquiry also has two main divisions, the one of which aims at training the mind and the other at victory in controversy. Again, the part which aims at training the mind has two subdivisions, the one akin to the midwife\\'s art, the other merely tentative. And that suited to controversy is also subdivided into one part which raises critical objections, and another which is subversive of the main position. [ 50 ] I am not unaware that there are other ways in which certain writers classify the dialogues. For some dialogues they call dramatic, others narrative, and others again a mixture of the two. But the terms they employ in their classification of the dialogues are better suited to the stage than to philosophy. Physics is represented by the Timaeus , logic by the Statesman, Cratylus, Parmenides and Sophist , ethics by the Apology, Crito, Phaedo, Phaedrus and Symposium , as well as by the Menexenus, Clitophon , the Epistles, Philebus, Hipparchus and the Rivals , and lastly politics by the Republic , [ 51 ] the Laws, Minos, Epinomis , and the dialogue concerning Atlantis. [Note 55: Here begins the first of three appendices, being an introduction to the study of the Platonic writings (47-66). Freudenthal, in Hell. Stud. iii., has shown that the extant fragment of the Πρόλογος of Albinus is similar and probably derived from the same source. Albinus lived in the second century a.d., for in 151-2 Galen was his pupil in Smyrna. The reader will note the careful style of the preface with its avoidance of hiatus. In x. 29 is a similar personal appeal to the reader] To the class of mental obstetrics belong the two Alcibiades, Theages, Lysis and Laches , while the Euthyphro, Meno, Io, Charmides and Theaetetus illustrate the tentative method. In the Protagoras is seen the method of critical objections; in the Euthydemus, Gorgias , and the two dialogues entitled Hippias that of subversive argument. So much then for dialogue, its definition and varieties. Again, as there is great division of opinion between those who affirm and those who deny that Plato was a dogmatist, let me proceed to deal with this further question. To be a dogmatist in philosophy is to lay down positive dogmas, just as to be a legislator is to lay down laws. Further, under dogma two things are included, the thing opined and the opinion itself. [ 52 ] Of these the former is a proposition, the latter a conception. Now where he has a firm grasp Plato expounds his own view and refutes the false one, but, if the subject is obscure, he suspends judgement. His own views are expounded by four persons, Socrates, Timaeus, the Athenian Stranger, [Note 56: i.e. Critias] the Eleatic Stranger. [Note 57: In the Laws] These strangers are not, as some hold, Plato and Parmenides, but imaginary characters without names, [Note 58: In the Sophist and the Statesman] for, even when Socrates and Timaeus are the speakers, it is Plato\\'s doctrines that are laid down. To illustrate the refutation of false opinions, he introduces Thrasymachus, Callicles, Polus, Gorgias, Protagoras, or again Hippias, Euthydemus and the like. [ 53 ] In constructing his proofs he makes most use of induction, not always in the same way, but under two forms. For induction is an argument which by means of certain true premisses properly infers a truth resembling them. And there are two kinds of induction, the one proceeding by way of contradiction, the other from agreement. In the kind which proceeds by contradiction the answer given to every question will necessarily be the contrary of the respondent\\'s position, e.g. \"My father is either other than or the same as your father. If then your father is other than my father, by being other than a father he will not be a father. But if he is the same as my father, then by being the same as my father he will be my father.\" [ 54 ] And again: \"If man is not an animal, he will be either a stick or a stone. But he is not a stick or a stone; for he is animate and self-moved. Therefore he is an animal. But if he is an animal, and if a dog or an ox is also an animal, then man by being an animal will be a dog and an ox as well.\" This is the kind of induction which proceeds by contradiction and dispute, and Plato used it, not for laying down positive doctrines but for refutation. The other kind of induction by agreement appears in two forms, the one proving the particular conclusion under discussion from a particular, the other proceeding by way of the universal [by means of particular facts]. The former is suited to rhetoric, the latter to dialectic. For instance, under the first form the question is raised, \"Did so-and-so commit a murder?\" The proof is that he was found at the time with stains of blood on him. [ 55 ] This is the rhetorical form of induction, since rhetoric also is concerned with particular facts and not with universals. It does not inquire about justice in the abstract, but about particular cases of justice. The other kind, where the general proposition is first established by means of particular facts, is the induction of dialectic. For instance, the question put is whether the soul is immortal, and whether the living come back from the dead. And this is proved in the dialogue On the Soul by means of a certain general proposition, that opposites pro- ceed from opposites. And the general proposition itself is established by means of certain propositions which are particular, as that sleep comes from waking and vice versa , the greater from the less and vice versa. This is the form which he used to establish his own views. [ 56 ] But, just as long ago in tragedy the chorus was the only actor, and afterwards, in order to give the chorus breathing space, Thespis devised a single actor, Aeschylus a second, Sophocles a third, and thus tragedy was completed, so too with philosophy: in early times it discoursed on one subject only, namely physics, then Socrates added the second subject, ethics, and Plato the third, dialectics, and so brought philosophy to perfection. Thrasylus says that he published his dialogues in tetralogies, like those of the tragic poets. Thus they contended with four plays at the Dionysia, the Lenaea, the Panathenaea and the festival of Chytri. [Note 59: That the Eleatic Stranger is not Parmenides is decisively proved by Soph. 241 e] Of the four plays the last was a satiric drama; and the four together were called a tetralogy. [ 57 ] Now, says Thrasylus, the genuine dialogues are fifty-six in all, if the Republic be divided into ten and the Laws into twelve. Favorinus, however, in the second book of his Miscellaneous History declares that nearly the whole of the Republic is to be found in a work of Protagoras entitled Controversies. [Note 60: Pots] This gives nine tetralogies, if the Republic takes the place of one single work and the Laws of another. His first tetralogy has a common plan underlying it, for he wishes to describe what the life of the philosopher will be. To each of the works Thrasylus affixes a double title, the one taken from the name of the interlocutor, the other from the subject. [ 58 ] This tetralogy, then, which is the first, begins with the Euthyphro or On Holiness , a tentative dialogue; the Apology of Socrates , an ethical dialogue, comes second; the third is Crito or On what is to be done , ethical; the fourth Phaedo or On the Soul , also ethical. The second tetralogy begins with Cratylus or On Correctness of Names , a logical dialogue, which is followed by Theaetetus or On Knowledge , tentative, the Sophist or On Being , a logical dialogue, the Statesman or On Monarchy , also logical. The third tetralogy includes, first, Parmenides or On Ideas , which is logical, next Philebus or On Pleasure , an ethical dialogue, the Banquet or On the Good , ethical, Phaedrus or On Love , also ethical. [ 59 ] The fourth tetralogy starts with Alcibiades or On the Nature of Man , an obstetric dialogue; this is followed by the second Alcibiades or On Prayer , also obstetric; then comes Hipparchus or The Lover of Gain , which is ethical, and The Rivals or On Philosophy , also ethical. The fifth tetralogy includes, first, Theages or On Philosophy , an obstetric dialogue, then Charmides or On Temperance , which is tentative, Laches or On Courage , obstetric, and Lysis or On Friendship , also obstetric. The sixth tetralogy starts with Euthydemus or The Eristic , a refutative dialogue, which is followed by Protagoras or Sophists , critical, Gorgias or On Rhetoric , refutative, and Meno or On Virtue , which is tentative. [ 60 ] The seventh tetralogy contains, first, two dialogues entitled Hippias , the former On Beauty , the latter On Falsehood , both refutative; next Ion or On the Iliad , which is tentative, and Menexenus or The Funeral Oration , which is ethical. The eighth tetralogy starts with Clitophon or Introduction , which is ethical, and is followed by the Republic or On Justice , political, Timaeus or On Nature , a physical treatise, and Critias or Story of Atlantis , which is ethical. The ninth tetralogy starts with Minos or On Law , a political dialogue, which is followed by the Laws or On Legislation , also political, Epinomis or Nocturnal Council , or Philosopher , political, [ 61 ] and lastly the Epistles , thirteen in number, which are ethical. In these epistles his heading was \"Welfare,\" as that of Epicurus was \"A Good Life,\" and that of Cleon \"All Joy.\" They comprise: one to Aristodemus, two to Archytas, four to Dionysius, one to Hermias, Erastus and Coriscus, one each to Leodamas, Dion and Perdiccas, and two to Dion\\'s friends. This is the division adopted by Thrasylus and some others. Some, including Aristophanes the grammarian, arrange the dialogues arbitrarily in trilogies. [ 62 ] In the first trilogy they place the Republic, Timaeus and Critias ; in the second the Sophist , the Statesman and Cratylus ; in the third the Laws, Minos and Epinomis ; in the fourth Theaetetus, Euthyphro and the Apology ; in the fifth Crito, Phaedo and the Epistles. The rest follow as separate compositions in no regular order. Some critics, as has already been stated, put the Republic first, while others start with the greater Alcibiades , and others again with the Theages ; some begin with the Euthyphro , others with the Clitophon ; some with the Timaeus , others with the Phaedrus ; others again with the Theaetetus , while many begin with the Apology. The following dialogues are acknowledged to be spurious: the Midon or Horse- breeder , the Eryxias or Erasistratus , the Alcyon , the Acephali or Sisyphus , the Axiochus , the Phaeacians , the Demodocus , the Chelidon , the Seventh Day , the Epimenides. Of these the Alcyon [Note 61: From iii. 37 we infer that Favorinus drew upon Aristoxenus for this wildly improbable assertion] is thought to be the work of a certain Leon, according to Favorinus in the fifth book of his Memorabilia. [ 63 ] Plato has employed a variety of terms in order to make his system less intelligible to the ignorant. But in a special sense he considers wisdom to be the science of those things which are objects of thought and really existent, the science which, he says, is concerned with God and the soul as separate from the body. And especially by wisdom he means philosophy, which is a yearning for divine wisdom. And in a general sense all experience is also termed by him wisdom, e.g. when he calls a craftsman wise. And he applies the same terms with very different meanings. For instance, the word φαῦλος (slight, plain) is employed by him [Note 62: Cf. Athenaeus xi. 506 c. The same statement about the authorship of the Alcyon is attributed to Nicias of Nicaea] in the sense of ἁπλοῦς (simple, honest), just as it is applied to Heracles in the Licymnius of Euripides in the following passage [Note 63: As e.g. Theaet. 147 c οἷον ἐν τῇ τοῦ πηλοῦ ἐρωτήσει φαῦλόν που καὶ ἁπλοῦν εἰπεῖν ὅτι γῇ ὑγρῷ φυραθεῖσα πηλὸς ἂν εἴη , τὸ δ᾽ ὅτου ἐᾶν χαίρειν . Cf. Rep. 527 d οὐ πάνυ φαῦλον ἀλλὰ χαλεπὸν πιστεῦσαι] : Plain ( φαῦλος ), unaccomplished, staunch to do great deeds, unversed in talk, with all his store of wisdom curtailed to action. [ 64 ] But sometimes Plato uses this same word ( φαῦλος ） to mean what is bad, and at other times for what is small or petty. Again, he often uses different terms to express the same thing. For instance, he calls the Idea form ( εἶδος ), genus ( γένος ), archetype ( παρά-δειγμα ), principle ( ἀρχή ) and cause ( αἴτιον ). He also uses contrary expressions for the same thing. Thus he calls the sensible thing both existent and non- existent, existent inasmuch as it comes into being, non-existent because it is continually changing. And he says the Idea is neither in motion nor at rest; that it is uniformly the same and yet both one and many. And it is his habit to do this in many more instances. [ 65 ] The right interpretation of his dialogues includes three things: first, the meaning of every statement must be explained; next, its purpose, whether it is made for a primary reason or by way of illustration, and whether to establish his own doctrines or to refute his interlocutor; in the third place it remains to examine its truth. And since certain critical marks are affixed to his works let us now say a word about these. The cross X is taken to indicate peculiar expressions and figures of speech, and generally any idiom of Platonic usage; the diple [Note 64: Nauck, T.G.F. 2 , Eur. 473] (>) calls attention to doctrines and opinions characteristic of Plato; [ 66 ] the dotted cross (?) denotes select passages and beauties of style; the dotted diple (?) editors\\' corrections of the text; the dotted obelus (÷) passages suspected without reason; the dotted antisigma (?) repetitions and proposals for transpositions; the ceraunium the philosophical school; the asterisk (?) an agreement of doctrine; the obelus (-) a spurious passage. So much for the critical marks and his writings in general. As Antigonus of Carystus says in his Life of Zeno , when the writings were first edited with critical marks, their possessors charged a certain fee to anyone who wished to consult them. [Note 65: A wedge-shaped mark >, used in early papyri to denote a fresh paragraph] [ 67 ] The doctrines he approved are these. He held that the soul is immortal, that by transmigration it puts on many bodies, [Note 66: Here begins the second appendix περὶ τῶν Πλάτωνι ἀρεσκόντων , §§ 67-80. It should be observed that there is absolutely no trace of Neo-Platonist tendencies. Cf. Plato, Tim. 42 e-43 a, 69 a] and that it has a numerical first principle, whereas the first principle of the body is geometrical [Note 67: Cf. Plato, Tim. 42 b sqq. , 90 e] ; and he defined soul as the idea of vital breath diffused in all directions. He held that it is self-moved and tripartite, the rational part of it having its seat in the head, the passionate part about the heart, while the appetitive is placed in the region of the navel and the liver. [Note 68: Cf. Plato, Tim. 54 a sqq] . [ 68 ] And from the centre outwards it encloses the body on all sides in a circle, and is compounded of elements, and, being divided at harmonic intervals, it forms two circles which touch one another twice; and the interior circle, being slit six times over, makes seven circles in all. And this interior circle moves by way of the diagonal to the left, and the other by way of the side to the right. Hence also the one is supreme, being a single circle, for the other interior circle was divided; the former is the circle of the Same, the latter that of the Other, whereby he means that the motion of the soul is the motion of the universe together with the revolutions of the planets. [Note 69: Cf. Plato, Tim. 69 c sqq. , 89 e] . [ 69 ] And the division from the centre to the circumference which is adjusted in harmony with the soul being thus determined, the soul knows that which is, and adjusts it proportionately because she has the elements proportionately disposed in herself. And when the circle of the Other revolves aright, the result is opinion; but from the regular motion of the circle of the Same comes knowledge. He set forth two universal principles, God and matter, and he calls God mind and cause; he held that matter is devoid of form and unlimited, and that composite things arise out of it [Note 70: Cf. Plato, Tim. 36 d-37 c] ; and that it was once in disorderly motion but, inasmuch as God preferred order to disorder, was by him brought together in one place. [Note 71: Cf. Plato, Tim. 50 d. e; 51 a] [ 70 ] This substance, he says, is converted into the four elements, fire, water, air, earth, of which the world itself and all that therein is are formed. Earth alone of these elements is not subject to change, the assumed cause being the peculiarity of its constituent triangles. For he thinks that in all the other elements the figures employed are homogeneous, the scalene triangle out of which they are all put together being one and the same, whereas for earth a triangle of peculiar shape is employed; the element of fire is a pyramid, of air an octahedron, of water an icosahedron, of earth a cube. Hence earth is not transmuted into the other three elements, nor these three into earth. [ 71 ] But the elements are not separated each into its own region of the universe, because the revolution unites their minute particles, compressing and forcing them together into the centre, at the same time as it separates the larger masses. Hence as they change their shapes, so also do they change the regions which they occupy. [Note 72: Cf. Plato, Tim. 30 a, 69 b] And there is one created universe, [Note 73: Cf. Plato, Tim. 58 a-c] seeing that it is perceptible to sense, which has been made by God. And it is animate because that which is animate is better than that which is inanimate. [Note 74: Cf. Plato, Tim. 31 a, b; 33 a; 55 c, d; 92 c] And this piece of workmanship is assumed to come from a cause supremely good. [Note 75: Cf. Plato, Tim. 30 b] It was made one and not unlimited because the pattern from which he made it was one. And it is spherical because such is the shape of its maker. [ 72 ] For that maker contains the other living things, and this universe the shapes of them all. [Note 76: Cf. Plato, Tim. 30 a, b; 55 c, d] It is smooth and has no organ all round because it has no need of organs. Moreover, the universe remains imperishable because it is not dissolved into the Deity. [Note 77: A perversion of Tim. 33 b. To that which is to comprehend all animals in itself that shape seems proper which comprehends in itself all shapes. Diogenes Laertius opposes, not universe and its shape, but maker and universe] And the creation as a whole is caused by God, because it is the nature of the good to be beneficent, [Note 78: Cf. Plato, Tim. 33 a-d; 34 b; 32 c; 63 a] and the creation of the universe has the highest good for its cause. For the most beautiful of created things is due to the best of intelligible causes [Note 79: Cf. Plato, Tim. 32 c, 33 a; 38 b; 41 a, 43 d] ; so that, as God is of this nature, and the universe resembles the best in its perfect beauty, it will not be in the likeness of anything created, but only of God. [ 73 ] The universe is composed of fire, water, air and earth; of fire in order to be visible; of earth in order to be solid; of water and air in order to be proportional. [Note 80: Cf. Plato, Tim. 29 e-30 a; 42 e] For the powers represented by solids are connected by two mean proportionals in a way to secure the complete unity of the whole. And the universe was made of all the elements in order to be complete and indestructible. Time was created as an image of eternity. And while the latter remains for ever at rest, time consists in the motion of the universe. For night and day and month and the like are all parts of time; for which reason, apart from the nature of the universe, time has no existence. But so soon as the universe is fashioned time exists. [Note 81: Cf. Tim. 31 b-33 a. It would be more correct to say \"in order that the bonds, the inserted terms (air and water), which unite fire to earth, may be proportional.\" \"For the best of bonds is that which makes itself and the things which it binds as complete a unity as possible; and the nature of proportion is to accomplish this most perfectly\" ( Tim. 31 c)] [ 74 ] And the sun and moon and planets were created as means to the creation of time. And God kindled the light of the sun in order that the number of the seasons might be definite and in order that animals might possess number. The moon is in the circle immediately above the earth, and the sun in that which is next beyond that, and in the circles above come the planets. Further, the universe is an animate being, for it is bound fast in animate movement. [Note 82: Cf. Plato, Tim. 37 d-38 b] And in order that the universe which had been created in the likeness of the intelligible living creature might be rendered complete, the nature of all other animals was created. Since then its pattern possesses them, the universe also ought to have them. And thus it contains gods for the most part of a fiery nature; of the rest there are three kinds, winged, aquatic and terrestrial. [Note 83: Cf. Plato, Tim. 38 c-39 d] [ 75 ] And of all the gods in heaven the earth is the oldest. And it was fashioned to make night and day. And being at the centre it moves round the centre. [Note 84: Cf. Plato, Tim. 30 c-31 b; 39 c-40 a; 41 b, c] And since there are two causes, it must be affirmed, he says, that some things are due to reason and others have a necessary cause, [Note 85: Cf. Plato, Tim. 40 b, c] the latter being air, fire, earth and water, which are not exactly elements but rather recipients of form. [Note 86: Cf. Plato, Tim. 46 d, e; 47 e; 48 a; 68 e; 69 a] They are composed of triangles, and are resolved into triangles. The scalene triangle and the isosceles triangle are their constituent elements. [Note 87: Cf. Plato, Tim. 49 a sqq.; 50 b-51 b; 52 a, b] [ 76 ] The principles, then, and causes assumed are the two above mentioned, of which God and matter are the exemplar. Matter is of necessity formless like the other recipients of form. Of all these there is a necessary cause. For it somehow or other receives the ideas and so generates substances, and it moves because its power is not uniform, and, being in motion, it in turn sets in motion those things which are generated from it. And these were at first in irrational and irregular motion, but after they began to frame the universe, under the conditions possible they were made by God symmetrical and regular. [ 77 ] For the two causes existed even before the world was made, as well as becoming in the third place, but they were not distinct, merely traces of them being found, and in disorder. When the world was made, they too acquired order. [Note 88: Cf. Plato, Tim. 53 c-55 c] And out of all the bodies there are the universe was fashioned. He holds God, like the soul, to be incorporeal. For only thus is he exempt from change and decay. As already stated, he assumes the Ideas to be causes and principles whereby the world of natural objects is what it is. [ 78 ] On good and evil he would discourse to this effect. He maintained that the end to aim at is assimilation to God, that virtue is in itself sufficient for happiness, but that it needs in addition, as instruments for use, first, bodily advantages like health and strength, sound senses and the like, and, secondly, external advantages such as wealth, good birth and reputation. But the wise man will be no less happy even if he be without these things. Again, he will take part in public affairs, will marry, and will refrain from breaking the laws which have been made. And as far as circumstances allow he will legislate for his own country, unless in the extreme corruption of the people he sees that the state of affairs completely justifies his abstention. [ 79 ] He thinks that the gods take note of human life [Note 89: Cf. Plato, Tim. 52 d; 53 b; 57 c; 69 b, c] and that there are superhuman beings. [Note 90: Cf. Plato, Tim. 30 b; 44 c] He was the first to define the notion of good as that which is bound up with whatever is praiseworthy and rational and useful and proper and becoming. And all these are bound up with that which is consistent and in accord with nature. He also discoursed on the propriety of names, and indeed he was the first to frame a science for rightly asking and answering questions, having employed it himself to excess. And in the dialogues he conceived righteousness to be the law of God because it is stronger to incite men to do righteous acts, that malefactors may not be punished after death also. [ 80 ] Hence to some he appeared too fond of myths. These narratives he intermingles with his works in order to deter men from wickedness, by reminding them how little they know of what awaits them [Note 91: Cf. Plato, Tim. 40 d] after death. Such, then, are the doctrines he approved. He used also to divide things, according to Aristotle, in the following manner. [Note 92: Cf. Plato, Tim. 42 b] Goods are in the mind or in the body, or external. For example, justice, prudence, courage, temperance and such like are in the mind; beauty, a good constitution, health and strength in the body; while friends, the welfare of one\\'s country and riches are amongst external things. [ 81 ] Thus there are three kinds of goods: goods of the mind, goods of the body and external goods. There are three species of friendship: one species is natural, another social, and another hospitable. By natural friendship we mean the affection which parents have for their offspring and kinsmen for each other. And other animals besides man have inherited this form. By the social form of friendship we mean that which arises from intimacy and has nothing to do with kinship; for instance, that of Pylades for Orestes. The friendship of hospitality is that which is extended to strangers owing to an introduction or letters of recommendation. Thus friendship is either natural or social or hospitable. Some add a fourth species, that of love. [ 82 ] There are five forms of civil government: one form is democratic, another aristocratic, a third oligarchic, a fourth monarchic, a fifth that of a tyrant. The democratic form is that in which the people has control and chooses at its own pleasure both magistrates and laws. The aristocratic form is that in which the rulers are neither the rich nor the poor nor the nobles, but the state is under the guidance of the best. Oligarchy is that form in which there is a property-qualification for the holding of office; for the rich are fewer than the poor. Monarchy is either regulated by law or hereditary. At Carthage the kingship is regulated by law, the office being put up for sale. [Note 93: The third appendix begins here, containing the διαιρέσεις which are also attributed to Aristotle; see Rose, Aristoteles Pseudepigraphus, pp. 679 sqq., who gives a Christian recension. The original, the common source of Diogenes Laertius and the Christian writer, he refers vaguely to the Hellenistio age] [ 83 ] But the monarchy in Lacedaemon and in Macedonia is hereditary, for they select the king from a certain family. A tyranny is that form in which the citizens are ruled either through fraud or force by an individual. Thus civil government is either democratic, aristocratic, oligarchic, or a monarchy or a tyranny. There are three species of justice. One is con- cerned with gods, another with men, and the third with the departed. For those who sacrifice according to the laws and take care of the temples are obviously pious towards the gods. Those again who repay loans and restore what they have received upon trust act justly towards men. Lastly, those who take care of tombs are obviously just towards the departed. Thus one species of justice relates to the gods, another to men, while a third species is concerned with the departed. [ 84 ] There are three species of knowledge or science, one practical, another productive, and a third theoretical. For architecture and shipbuilding are productive arts, since the work produced by them can be seen. Politics and flute-playing, harp-playing and similar arts are practical. For nothing visible is produced by them; yet they do or perform something. In the one case the artist plays the flute or the harp, in the other the politician takes part in politics. Geometry and harmonics and astronomy are theoretical sciences. For they neither perform nor produce anything. But the geometer considers how lines are related to each other, the student of harmony investigates sounds, the astronomer stars and the universe. Thus some sciences are theoretical, others are practical, and others are productive. [ 85 ] There are five species of medicine : the first is pharmacy, the second is surgery, the third deals with diet and regimen, the fourth with diagnosis, the fifth with remedies. Pharmacy cures sickness by drugs, surgery heals by the use of knife and cautery, the species concerned with diet prescribes a regimen for the removal of disease, that concerned with diagnosis proceeds by determining the nature of the ailment, that concerned with remedies by prescribing for the immediate removal of the pain. The species of medicine, then, are pharmacy, surgery, diet and regimen, diagnosis, prescription of remedies. [ 86 ] There are two divisions of law, the one written and the other unwritten. Written law is that under which we live in different cities, but that which has arisen out of custom is called unwritten law; for instance, not to appear in the market-place undressed or in women\\'s attire. There is no statute forbidding this, but nevertheless we abstain from such conduct because it is prohibited by an unwritten law. Thus law is either written or unwritten. There are five kinds of speech, of which one is that which politicians employ in the assemblies; this is called political speech. [ 87 ] The second division is that which the rhetors employ in written compositions, whether composed for display or praise or blame, or for accusation. Hence this division is termed rhetorical. The third division of speech is that of private persons conversing with one another; this is called the mode of speech of ordinary life. Another division of speech is the language of those who converse by means of short questions and answers; this kind is called dialectical. The fifth division is the speech of craftsmen conversing about their own subjects; this is called technical language. Thus speech is either political, or rhetorical, or that of ordinary conversation, or dialectical, or technical. [ 88 ] Music has three divisions. One employs the mouth alone, like singing. The second employs both the mouth and the hands, as is the case with the harper singing to his own accompaniment. The third division employs the hands alone; for instance, the music of the harp. Thus music employs either the mouth alone, or the mouth and the hands, or the hands alone. Nobility has four divisions. First, when the ancestors are gentle and handsome and also just, their descendants are said to be noble. Secondly, when the ancestors have been princes or magistrates, their descendants are said to be noble. The third kind arises when the ancestors have been illustrious; for instance, through having held military command or through success in the national games. For then we call the descendants noble. [ 89 ] The last division includes the man who is himself of a generous and high-minded spirit. He too is said to be noble. And this indeed is the highest form of nobility. Thus, of nobility, one kind depends on excellent ancestors, another on princely ancestors, a third on illustrious ancestors, while the fourth is due to the individual\\'s own beauty and worth. Beauty has three divisions. The first is the object of praise, as of form fair to see. Another is serviceable; thus an instrument, a house and the like are beautiful for use. Other things again which relate to customs and pursuits and the like are beautiful because beneficial. Of beauty, then, one kind is matter for praise, another is for use, and another for the benefit it procures. [ 90 ] The soul has three divisions. One part of it is rational, another appetitive, and a third irascible. Of these the rational part is the cause of purpose, reflection, understanding and the like. The appeti- tive part of the soul is the cause of desire of eating, sexual indulgence and the like, while the irascible part is the cause of courage, of pleasure and pain, and of anger. Thus one part of the soul is rational, another appetitive, and a third irascible. Of perfect virtue there are four species: prudence, justice, bravery and temperance. [ 91 ] Of these prudence is the cause of right conduct, justice of just dealing in partnerships and commercial transactions. Bravery is the cause which makes a man not give way but stand his ground in alarms and perils. Temperance causes mastery over desires, so that we are never enslaved by any pleasure, but lead an orderly life. Thus virtue includes first prudence, next justice, thirdly bravery, and lastly temperance. Rule has five divisions, one that which is according to law, another according to nature, another according to custom, a fourth by birth, a fifth by force. [ 92 ] Now the magistrates in cities when elected by their fellow-citizens rule according to law. The natural rulers are the males, not only among men, but also among the other animals; for the males everywhere exert wide-reaching rule over the females. Rule according to custom is such authority as attendants exercise over children and teachers over their pupils. Hereditary rule is exemplified by that of the Lacedaemonian kings, for the office of king is confined to a certain family. And the same system is in force for the kingdom of Macedonia; for there too the office of king goes by birth. Others have acquired power by force or fraud, and govern the citizens against their will; this kind of rule is called forcible. Thus rule is either by law, or by nature, or by custom, or by birth, or by force. [ 93 ] There are six kinds of rhetoric. For when the speakers urge war or alliance with a neighbouring state, that species of rhetoric is called persuasion. But when they speak against making war or alliance, and urge their hearers to remain at peace, this kind of rhetoric is called dissuasion. A third kind is employed when a speaker asserts that he is wronged by some one whom he makes out to have caused him much mischief; accusation is the name applied to the kind here defined. The fourth kind of rhetoric is termed defence; here the speaker shows that he has done no wrong and that his conduct is in no respect abnormal; defence is the term applied in such a case. [ 94 ] A fifth kind of rhetoric is employed when a speaker speaks well of some one and proves him to be worthy and honourable; encomium is the name given to this kind. A sixth kind is that employed when the speaker shows some one to be unworthy; the name given to this is invective. Under rhetoric, then, are included encomium, invective, persuasion, dissuasion, accusation and defence. Successful speaking has four divisions. The first consists in speaking to the purpose, the next to the requisite length, the third before the proper audience, and the fourth at the proper moment. The things to the purpose are those which are likely to be expedient for speaker and hearer. The requisite length is that which is neither more nor less than enough. [ 95 ] To speak to the proper audience means this: in addressing persons older than yourself, the discourse must be made suitable to the audience as being elderly men; whereas in addressing juniors the discourse must be suitable to young men. The proper time of speaking is neither too soon nor too late; otherwise you will miss the mark and not speak with success. Of conferring benefits there are four divisions. For it takes place either by pecuniary aid or by personal service, by means of knowledge or of speech. Pecuniary aid is given when one assists a man in need, so that he is relieved from all anxiety on the score of money. Personal service is given when men come up to those who are being beaten and rescue them. [ 96 ] Those who train or heal, or who teach something valuable, confer benefit by means of knowledge. But when men enter a law-court and one appears as advocate for another and delivers an effective speech on his behalf, he is benefiting him by speech. Thus benefits are conferred by means either of money or of personal service, or of knowledge, or of speech. There are four ways in which things are completed and brought to an end. The first is by legal enactment, when a decree is passed and this decree is confirmed by law. The second is in the course of nature, as the day, the year and the seasons are completed. The third is by the rules of art, say the builder\\'s art, for so a house is completed; and so it is with shipbuilding, whereby vessels are completed. [ 97 ] Fourthly, matters are brought to an end by chance or accident, when they turn out otherwise than is expected. Thus the completion of things is due either to law, or to nature, or to art, or to chance. Of power or ability there are four divisions. First, whatever we can do with the mind, namely calculate or anticipate; next, whatever we can effect with the body, for instance, marching, giving, taking and the like. Thirdly, whatever we can do by a multitude of soldiers or a plentiful supply of money; hence a king is said to have great power. The fourth division of power or influence is doing, or being done by, well or ill; thus we can become ill or be educated, be restored to health and the like. Power, then, is either in the mind, or the body, or in armies and resources, or in acting and being acted upon. [ 98 ] Philanthropy is of three kinds. One is by way of salutations, as when certain people address every one they meet and, stretching out their hand, give him a hearty greeting; another mode is seen when one is given to assisting every one in distress; another mode of philanthropy is that which makes certain people fond of giving dinners. Thus philanthropy is shown either by a courteous address, or by conferring benefits, or by hospitality and the promotion of social intercourse. Welfare or happiness includes five parts. One part of it is good counsel, a second soundness of the senses and bodily health, a third success in one\\'s undertakings, a fourth a reputation with one\\'s fellow-men, a fifth ample means in money and in whatever else subserves the end of life. [ 99 ] Now deliberating well is a result of education and of having experience of many things. Soundness of the senses depends upon the bodily organs: I mean, if one sees with his eyes, hears with his ears, and perceives with his nostrils and his mouth the appropriate objects, then such a condition is soundness of the senses. Success is attained when a man does what he aims at in the right way, as becomes a good man. A man has a good reputation when he is well spoken of. A man has ample means when he is so equipped for the needs of life that he can afford to benefit his friends and discharge his public services with lavish display. If a man has all these things, he is completely happy. Thus of welfare or happiness one part is good counsel, another soundness of senses and bodily health, a third success, a fourth a good reputation, a fifth ample means. [ 100 ] There are three divisions of the arts and crafts. The first division consists of mining and forestry, which are productive arts. The second includes the smith\\'s and carpenter\\'s arts which transform material; for the smith makes weapons out of iron, and the carpenter transforms timber into flutes and lyres. The third division is that which uses what is thus made, as horsemanship employs bridles, the art of war employs weapons, and music flutes and the lyre. Thus of art there are three several species, those above-mentioned in the first, second and third place. [ 101 ] Good is divided into four kinds. One is the possessor of virtue, whom we affirm to be individually good. Another is virtue itself and justice; these we affirm to be good. A third includes such things as food, suitable exercises and drugs. The fourth kind which we affirm to be good includes the arts of flute-playing, acting and the like. Thus there are four kinds of good: the possession of virtue; virtue itself; thirdly, food and beneficial exercises; lastly, flute-playing, acting, and the poetic art. [ 102 ] Whatever is is either evil or good or indifferent. We call that evil which is capable of invariably doing harm; for instance, bad judgement and folly and injustice and the like. The contraries of these things are good. But the things which can sometimes benefit and sometimes harm, such as walking and sitting and eating, or which can neither do any benefit nor harm at all, these are things indifferent, neither good nor evil. Thus all things whatever are either good, or evil, or neither good nor evil. [ 103 ] Good order in the state falls under three heads. First, if the laws are good, we say that there is good government. Secondly, if the citizens obey the established laws, we also call this good government. Thirdly, if, without the aid of laws, the people manage their affairs well under the guidance of customs and institutions, we call this again good government. Thus three forms of good government may exist, (1) when the laws are good, (2) when the existing laws are obeyed, (3) when the people live under salutary customs and institutions. Disorder in a state has three forms. The first arises when the laws affecting citizens and strangers are alike bad, [ 104 ] the second when the existing laws are not obeyed, and the third when there is no law at all. Thus the state is badly governed when the laws are bad or not obeyed, or lastly, when there is no law. Contraries are divided into three species. For instance, we say that goods are contrary to evils, as justice to injustice, wisdom to folly, and the like. Again, evils are contrary to evils, prodigality is contrary to niggardliness, and to be unjustly tortured is the contrary of being justly tortured, and so with similar evils. Again, heavy is the contrary of light, quick of slow, black of white, and these pairs are contraries, while they are neither good nor evil. [ 105 ] Thus, of contraries, some are opposed as goods to evils, others as evils to evils, and others, as things which are neither good nor evil, are opposed to one another. There are three kinds of goods, those which can be exclusively possessed, those which can be shared with others, and those which simply exist. To the first division, namely, those which can be exclusively possessed, belong such things as justice and health. To the next belong all those which, though they cannot be exclusively possessed, can be shared with others. Thus we cannot possess the absolute good, but we can participate in it. The third division includes those goods the existence of which is necessary, though we can neither possess them exclusively nor participate in them. The mere existence of worth and justice is a good; and these things cannot be shared or had in exclusive possession, but must simply exist. Of goods, then, some are possessed exclusively, some shared, and others merely subsist. [ 106 ] Counsel is divided under three heads. One is taken from past time, one from the future, and the third from the present. That from past time consists of examples; for instance, what the Lacedaemonians suffered through trusting others. Counsel drawn from the present is to show, for instance, that the walls are weak, the men cowards, and the supplies running short. Counsel from the future is. for instance, to urge that we should not wrong the embassies by suspicions, lest the fair fame of Hellas be stained. Thus counsel is derived from the past, the present and the future. [ 107 ] Vocal sound falls into two divisions according as it is animate or inanimate. The voice of living things is animate sound; notes of instruments and noises are inanimate. And of the animate voice part is articulate, part inarticulate, that of men being articulate speech, that of the animals inarticulate. Thus vocal sound is either animate or inanimate. Whatever exists is either divisible or indivisible. Of divisible things some are divisible into similar and others into dissimilar parts. Those things are indivisible which cannot be divided and are not compounded of elements, for example, the unit, the point and the musical note; whereas those which have constituent parts, for instance, syllables, concords in music, animals, water, gold, are divisible. [ 108 ] If they are composed of similar parts, so that the whole does not differ from the part except in bulk, as water, gold and all that is fusible, and the like, then they are termed homogeneous. But whatever is composed of dissimilar parts, as a house and the like, is termed heterogeneous. Thus all things whatever are either divisible or indivisible, and of those which are divisible some are homogeneous, others heterogeneous in their parts. Of existing things some are absolute and some are called relative. Things said to exist absolutely are those which need nothing else to explain them, as man, horse, and all other animals. [ 109 ] For none of these gains by explanation. To those which are called relative belong all which stand in need of some explanation, as that which is greater than something or quicker than something, or more beautiful and the like. For the greater implies a less, and the quicker is quicker than something. Thus existing things are either absolute or relative. And in this way, according to Aristotle, Plato used to divide the primary conceptions also. There was also another man named Plato, a philosopher of Rhodes, a pupil of Panaetius, as is stated by Seleucus the grammarian in his first book On Philosophy ; another a Peripatetic and pupil of Aristotle; and another who was a pupil of Praxiphanes; and lastly, there was Plato, the poet of the Old Comedy.'}"
      ]
     },
     "execution_count": 64,
     "metadata": {},
     "output_type": "execute_result"
    }
   ],
   "source": [
    "np.argmax(counts)\n",
    "df_dict[74688]"
   ]
  },
  {
   "cell_type": "code",
   "execution_count": 6,
   "id": "234bc1b0-7b32-4810-802e-e79bcd1149b4",
   "metadata": {},
   "outputs": [
    {
     "data": {
      "application/vnd.jupyter.widget-view+json": {
       "model_id": "c01c6372e081446cb9f13c8d35809ff8",
       "version_major": 2,
       "version_minor": 0
      },
      "text/plain": [
       "tokenizer_config.json:   0%|          | 0.00/1.02k [00:00<?, ?B/s]"
      ]
     },
     "metadata": {},
     "output_type": "display_data"
    },
    {
     "data": {
      "application/vnd.jupyter.widget-view+json": {
       "model_id": "e214e00f394f4a70bead15a29416a86a",
       "version_major": 2,
       "version_minor": 0
      },
      "text/plain": [
       "spiece.model:   0%|          | 0.00/846k [00:00<?, ?B/s]"
      ]
     },
     "metadata": {},
     "output_type": "display_data"
    },
    {
     "data": {
      "application/vnd.jupyter.widget-view+json": {
       "model_id": "f6539a62d8ed48b5a70d6d53aa234cc5",
       "version_major": 2,
       "version_minor": 0
      },
      "text/plain": [
       "special_tokens_map.json:   0%|          | 0.00/775 [00:00<?, ?B/s]"
      ]
     },
     "metadata": {},
     "output_type": "display_data"
    },
    {
     "data": {
      "application/vnd.jupyter.widget-view+json": {
       "model_id": "9940839f69184f3da11749eb96a8f704",
       "version_major": 2,
       "version_minor": 0
      },
      "text/plain": [
       "config.json:   0%|          | 0.00/760 [00:00<?, ?B/s]"
      ]
     },
     "metadata": {},
     "output_type": "display_data"
    },
    {
     "name": "stderr",
     "output_type": "stream",
     "text": [
      "/usr/local/python/3.12.1/lib/python3.12/site-packages/transformers/tokenization_utils_base.py:1601: FutureWarning: `clean_up_tokenization_spaces` was not set. It will be set to `True` by default. This behavior will be depracted in transformers v4.45, and will be then set to `False` by default. For more details check this issue: https://github.com/huggingface/transformers/issues/31884\n",
      "  warnings.warn(\n"
     ]
    },
    {
     "data": {
      "application/vnd.jupyter.widget-view+json": {
       "model_id": "4644cf7b7fb942d3addb300c567b2538",
       "version_major": 2,
       "version_minor": 0
      },
      "text/plain": [
       "pytorch_model.bin:   0%|          | 0.00/513M [00:00<?, ?B/s]"
      ]
     },
     "metadata": {},
     "output_type": "display_data"
    }
   ],
   "source": [
    "# Initialize tokenizer and model\n",
    "model_name = \"google/bigbird-roberta-base\"\n",
    "tokenizer = BigBirdTokenizer.from_pretrained(model_name)\n",
    "model = BigBirdModel.from_pretrained(model_name)"
   ]
  }
 ],
 "metadata": {
  "kernelspec": {
   "display_name": "Python 3 (ipykernel)",
   "language": "python",
   "name": "python3"
  },
  "language_info": {
   "codemirror_mode": {
    "name": "ipython",
    "version": 3
   },
   "file_extension": ".py",
   "mimetype": "text/x-python",
   "name": "python",
   "nbconvert_exporter": "python",
   "pygments_lexer": "ipython3",
   "version": "3.12.1"
  }
 },
 "nbformat": 4,
 "nbformat_minor": 5
}
