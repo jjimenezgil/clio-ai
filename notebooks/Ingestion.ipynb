{
 "cells": [
  {
   "cell_type": "markdown",
   "id": "cd32f1c8-0d0a-4f39-a62d-04bcc5a3f33f",
   "metadata": {},
   "source": [
    "# Data preparation and ingestion"
   ]
  },
  {
   "cell_type": "code",
   "execution_count": 1,
   "id": "5e4a621b-6c69-418a-b0bf-311088f5ca18",
   "metadata": {
    "tags": []
   },
   "outputs": [
    {
     "name": "stderr",
     "output_type": "stream",
     "text": [
      "/usr/local/python/3.12.1/lib/python3.12/site-packages/sentence_transformers/cross_encoder/CrossEncoder.py:11: TqdmExperimentalWarning: Using `tqdm.autonotebook.tqdm` in notebook mode. Use `tqdm.tqdm` instead to force console mode (e.g. in jupyter console)\n",
      "  from tqdm.autonotebook import tqdm, trange\n"
     ]
    }
   ],
   "source": [
    "# Imports\n",
    "import pandas as pd\n",
    "import numpy as np\n",
    "from tqdm.notebook import trange, tqdm\n",
    "from elasticsearch import Elasticsearch\n",
    "from statistics import median\n",
    "from sentence_transformers import SentenceTransformer\n",
    "import pickle\n",
    "import matplotlib.pyplot as plt\n",
    "import torch\n",
    "import h5py"
   ]
  },
  {
   "cell_type": "markdown",
   "id": "72a45e88-8705-4fca-b0bb-4bc5892a0aeb",
   "metadata": {},
   "source": [
    "## Load the data"
   ]
  },
  {
   "cell_type": "code",
   "execution_count": 2,
   "id": "5aef7c64-1791-416f-bab9-0ef5ca5ab38e",
   "metadata": {
    "tags": []
   },
   "outputs": [
    {
     "data": {
      "text/html": [
       "<div>\n",
       "<style scoped>\n",
       "    .dataframe tbody tr th:only-of-type {\n",
       "        vertical-align: middle;\n",
       "    }\n",
       "\n",
       "    .dataframe tbody tr th {\n",
       "        vertical-align: top;\n",
       "    }\n",
       "\n",
       "    .dataframe thead th {\n",
       "        text-align: right;\n",
       "    }\n",
       "</style>\n",
       "<table border=\"1\" class=\"dataframe\">\n",
       "  <thead>\n",
       "    <tr style=\"text-align: right;\">\n",
       "      <th></th>\n",
       "      <th>author</th>\n",
       "      <th>title</th>\n",
       "      <th>section</th>\n",
       "      <th>text</th>\n",
       "    </tr>\n",
       "  </thead>\n",
       "  <tbody>\n",
       "    <tr>\n",
       "      <th>0</th>\n",
       "      <td>Aeschylus</td>\n",
       "      <td>Agamemnon</td>\n",
       "      <td>lines 1-39</td>\n",
       "      <td>Release from this weary task of mine has been ...</td>\n",
       "    </tr>\n",
       "    <tr>\n",
       "      <th>1</th>\n",
       "      <td>Euripides</td>\n",
       "      <td>Ion</td>\n",
       "      <td>lines 1-40</td>\n",
       "      <td>Before the Temple of Apollo at Delphi . The su...</td>\n",
       "    </tr>\n",
       "    <tr>\n",
       "      <th>2</th>\n",
       "      <td>Euripides</td>\n",
       "      <td>Heracles</td>\n",
       "      <td>lines 1-25</td>\n",
       "      <td>Before the palace of Heracles at Thebes . Near...</td>\n",
       "    </tr>\n",
       "    <tr>\n",
       "      <th>3</th>\n",
       "      <td>Euripides</td>\n",
       "      <td>Hippolytus</td>\n",
       "      <td>lines 1-33</td>\n",
       "      <td>Aphrodite enters above the skene. Aphrodite Ap...</td>\n",
       "    </tr>\n",
       "    <tr>\n",
       "      <th>4</th>\n",
       "      <td>Euripides</td>\n",
       "      <td>Heracleidae</td>\n",
       "      <td>lines 1-47</td>\n",
       "      <td>The skene represents the temple of Zeus Agorai...</td>\n",
       "    </tr>\n",
       "  </tbody>\n",
       "</table>\n",
       "</div>"
      ],
      "text/plain": [
       "      author        title     section  \\\n",
       "0  Aeschylus    Agamemnon  lines 1-39   \n",
       "1  Euripides          Ion  lines 1-40   \n",
       "2  Euripides     Heracles  lines 1-25   \n",
       "3  Euripides   Hippolytus  lines 1-33   \n",
       "4  Euripides  Heracleidae  lines 1-47   \n",
       "\n",
       "                                                text  \n",
       "0  Release from this weary task of mine has been ...  \n",
       "1  Before the Temple of Apollo at Delphi . The su...  \n",
       "2  Before the palace of Heracles at Thebes . Near...  \n",
       "3  Aphrodite enters above the skene. Aphrodite Ap...  \n",
       "4  The skene represents the temple of Zeus Agorai...  "
      ]
     },
     "execution_count": 2,
     "metadata": {},
     "output_type": "execute_result"
    }
   ],
   "source": [
    "# Load in Pandas df\n",
    "data_path = \"../data/ancient_sources.csv.gz\"\n",
    "df = pd.read_csv(data_path, compression=\"gzip\")\n",
    "df.head()"
   ]
  },
  {
   "cell_type": "code",
   "execution_count": 3,
   "id": "07f78d48-8bcd-4041-8b5f-5ecfa7960c8a",
   "metadata": {
    "tags": []
   },
   "outputs": [
    {
     "data": {
      "text/plain": [
       "(111709, 4)"
      ]
     },
     "execution_count": 3,
     "metadata": {},
     "output_type": "execute_result"
    }
   ],
   "source": [
    "# Check size\n",
    "df.shape"
   ]
  },
  {
   "cell_type": "markdown",
   "id": "07fe66f1-2da3-4dfe-a2fc-cd60b0d89358",
   "metadata": {},
   "source": [
    "## Data cleaning and EDA"
   ]
  },
  {
   "cell_type": "code",
   "execution_count": 4,
   "id": "13611913-2c27-4084-9b01-2393fbf6cdae",
   "metadata": {
    "tags": []
   },
   "outputs": [],
   "source": [
    "# Append index as ID\n",
    "df['Id'] = df.index"
   ]
  },
  {
   "cell_type": "code",
   "execution_count": 5,
   "id": "dc6b9b01-f951-4672-be1e-71752a1651e2",
   "metadata": {
    "tags": []
   },
   "outputs": [],
   "source": [
    "# Delete rows without text\n",
    "df.drop(df[df[\"text\"].isna()].index, inplace=True)\n",
    "\n",
    "# Transform rows with NaN section to \"\"\n",
    "df['section'] = df['section'].fillna(\"\")"
   ]
  },
  {
   "cell_type": "code",
   "execution_count": 6,
   "id": "5b83d70a-72ea-4b6f-bb76-2c8549a9d868",
   "metadata": {
    "tags": []
   },
   "outputs": [
    {
     "data": {
      "text/plain": [
       "(111707, 5)"
      ]
     },
     "execution_count": 6,
     "metadata": {},
     "output_type": "execute_result"
    }
   ],
   "source": [
    "# Check new size\n",
    "df.shape"
   ]
  },
  {
   "cell_type": "code",
   "execution_count": 7,
   "id": "d09d1d0b-7f5a-416c-bf8d-70819c4dd0f7",
   "metadata": {
    "tags": []
   },
   "outputs": [
    {
     "data": {
      "text/html": [
       "<div>\n",
       "<style scoped>\n",
       "    .dataframe tbody tr th:only-of-type {\n",
       "        vertical-align: middle;\n",
       "    }\n",
       "\n",
       "    .dataframe tbody tr th {\n",
       "        vertical-align: top;\n",
       "    }\n",
       "\n",
       "    .dataframe thead th {\n",
       "        text-align: right;\n",
       "    }\n",
       "</style>\n",
       "<table border=\"1\" class=\"dataframe\">\n",
       "  <thead>\n",
       "    <tr style=\"text-align: right;\">\n",
       "      <th></th>\n",
       "      <th>author</th>\n",
       "      <th>title</th>\n",
       "      <th>section</th>\n",
       "      <th>text</th>\n",
       "      <th>Id</th>\n",
       "      <th>num_words</th>\n",
       "    </tr>\n",
       "  </thead>\n",
       "  <tbody>\n",
       "    <tr>\n",
       "      <th>0</th>\n",
       "      <td>Aeschylus</td>\n",
       "      <td>Agamemnon</td>\n",
       "      <td>lines 1-39</td>\n",
       "      <td>Release from this weary task of mine has been ...</td>\n",
       "      <td>0</td>\n",
       "      <td>445</td>\n",
       "    </tr>\n",
       "    <tr>\n",
       "      <th>1</th>\n",
       "      <td>Euripides</td>\n",
       "      <td>Ion</td>\n",
       "      <td>lines 1-40</td>\n",
       "      <td>Before the Temple of Apollo at Delphi . The su...</td>\n",
       "      <td>1</td>\n",
       "      <td>357</td>\n",
       "    </tr>\n",
       "    <tr>\n",
       "      <th>2</th>\n",
       "      <td>Euripides</td>\n",
       "      <td>Heracles</td>\n",
       "      <td>lines 1-25</td>\n",
       "      <td>Before the palace of Heracles at Thebes . Near...</td>\n",
       "      <td>2</td>\n",
       "      <td>279</td>\n",
       "    </tr>\n",
       "    <tr>\n",
       "      <th>3</th>\n",
       "      <td>Euripides</td>\n",
       "      <td>Hippolytus</td>\n",
       "      <td>lines 1-33</td>\n",
       "      <td>Aphrodite enters above the skene. Aphrodite Ap...</td>\n",
       "      <td>3</td>\n",
       "      <td>349</td>\n",
       "    </tr>\n",
       "    <tr>\n",
       "      <th>4</th>\n",
       "      <td>Euripides</td>\n",
       "      <td>Heracleidae</td>\n",
       "      <td>lines 1-47</td>\n",
       "      <td>The skene represents the temple of Zeus Agorai...</td>\n",
       "      <td>4</td>\n",
       "      <td>554</td>\n",
       "    </tr>\n",
       "  </tbody>\n",
       "</table>\n",
       "</div>"
      ],
      "text/plain": [
       "      author        title     section  \\\n",
       "0  Aeschylus    Agamemnon  lines 1-39   \n",
       "1  Euripides          Ion  lines 1-40   \n",
       "2  Euripides     Heracles  lines 1-25   \n",
       "3  Euripides   Hippolytus  lines 1-33   \n",
       "4  Euripides  Heracleidae  lines 1-47   \n",
       "\n",
       "                                                text  Id  num_words  \n",
       "0  Release from this weary task of mine has been ...   0        445  \n",
       "1  Before the Temple of Apollo at Delphi . The su...   1        357  \n",
       "2  Before the palace of Heracles at Thebes . Near...   2        279  \n",
       "3  Aphrodite enters above the skene. Aphrodite Ap...   3        349  \n",
       "4  The skene represents the temple of Zeus Agorai...   4        554  "
      ]
     },
     "execution_count": 7,
     "metadata": {},
     "output_type": "execute_result"
    }
   ],
   "source": [
    "# Create a function that counts number of words of a text\n",
    "def count_words(text):\n",
    "    return len(text.split())\n",
    "\n",
    "# Append a column with the number of words of the texts\n",
    "df[\"num_words\"] = df[\"text\"].apply(count_words)\n",
    "\n",
    "# Show first rows\n",
    "df.head()"
   ]
  },
  {
   "cell_type": "code",
   "execution_count": 8,
   "id": "084e26e2-6dbb-45d9-91db-f212327fa7be",
   "metadata": {
    "tags": []
   },
   "outputs": [
    {
     "data": {
      "text/plain": [
       "count    111707.000000\n",
       "mean        179.352252\n",
       "std         367.455390\n",
       "min           1.000000\n",
       "25%          58.000000\n",
       "50%          94.000000\n",
       "75%         173.000000\n",
       "max       31177.000000\n",
       "Name: num_words, dtype: float64"
      ]
     },
     "execution_count": 8,
     "metadata": {},
     "output_type": "execute_result"
    }
   ],
   "source": [
    "df[\"num_words\"].describe()"
   ]
  },
  {
   "cell_type": "code",
   "execution_count": 9,
   "id": "e3390e5b-7d30-49b9-9c71-1e13412e1578",
   "metadata": {
    "tags": []
   },
   "outputs": [
    {
     "data": {
      "image/png": "[encoded data removed]",
      "text/plain": [
       "<Figure size 640x480 with 1 Axes>"
      ]
     },
     "metadata": {},
     "output_type": "display_data"
    }
   ],
   "source": [
    "# Boxplot\n",
    "boxplot_stats = plt.boxplot(df['num_words'])\n",
    "plt.title('Number of words per text');"
   ]
  },
  {
   "cell_type": "code",
   "execution_count": 10,
   "id": "b160ea2a-974b-4629-b7d7-9156888af039",
   "metadata": {
    "tags": []
   },
   "outputs": [
    {
     "name": "stdout",
     "output_type": "stream",
     "text": [
      "Upper whisker: 345.0\n"
     ]
    }
   ],
   "source": [
    "whiskers = [item.get_ydata() for item in boxplot_stats['whiskers']]\n",
    "upp_whisker = whiskers[1][1]\n",
    "print(\"Upper whisker:\", upp_whisker)"
   ]
  },
  {
   "cell_type": "code",
   "execution_count": 11,
   "id": "8d8c7fe2-983e-4c0e-9909-d4258f3b7ccc",
   "metadata": {
    "tags": []
   },
   "outputs": [
    {
     "data": {
      "text/plain": [
       "(7786, 6)"
      ]
     },
     "execution_count": 11,
     "metadata": {},
     "output_type": "execute_result"
    }
   ],
   "source": [
    "df[df[\"num_words\"] > 512].shape"
   ]
  },
  {
   "cell_type": "markdown",
   "id": "979c9035-96a5-40dc-80d8-b9851ee64997",
   "metadata": {},
   "source": [
    "The upper limit stablished by boxplot is 345 words, so let's cut all the texts with a number of words higher than 512 (a bit higher than the boxplot upper limit). With this change, more of the 90% of the text will remain with the full text. Hopefully, this will make the embbeding calculation ligther."
   ]
  },
  {
   "cell_type": "code",
   "execution_count": 12,
   "id": "1a55e9a4-1582-44df-9ae2-a05d5fec0678",
   "metadata": {
    "tags": []
   },
   "outputs": [
    {
     "data": {
      "text/html": [
       "<div>\n",
       "<style scoped>\n",
       "    .dataframe tbody tr th:only-of-type {\n",
       "        vertical-align: middle;\n",
       "    }\n",
       "\n",
       "    .dataframe tbody tr th {\n",
       "        vertical-align: top;\n",
       "    }\n",
       "\n",
       "    .dataframe thead th {\n",
       "        text-align: right;\n",
       "    }\n",
       "</style>\n",
       "<table border=\"1\" class=\"dataframe\">\n",
       "  <thead>\n",
       "    <tr style=\"text-align: right;\">\n",
       "      <th></th>\n",
       "      <th>author</th>\n",
       "      <th>title</th>\n",
       "      <th>section</th>\n",
       "      <th>text</th>\n",
       "      <th>Id</th>\n",
       "      <th>num_words</th>\n",
       "    </tr>\n",
       "  </thead>\n",
       "  <tbody>\n",
       "    <tr>\n",
       "      <th>0</th>\n",
       "      <td>Aeschylus</td>\n",
       "      <td>Agamemnon</td>\n",
       "      <td>lines 1-39</td>\n",
       "      <td>Release from this weary task of mine has been ...</td>\n",
       "      <td>0</td>\n",
       "      <td>445</td>\n",
       "    </tr>\n",
       "    <tr>\n",
       "      <th>1</th>\n",
       "      <td>Euripides</td>\n",
       "      <td>Ion</td>\n",
       "      <td>lines 1-40</td>\n",
       "      <td>Before the Temple of Apollo at Delphi . The su...</td>\n",
       "      <td>1</td>\n",
       "      <td>357</td>\n",
       "    </tr>\n",
       "    <tr>\n",
       "      <th>2</th>\n",
       "      <td>Euripides</td>\n",
       "      <td>Heracles</td>\n",
       "      <td>lines 1-25</td>\n",
       "      <td>Before the palace of Heracles at Thebes . Near...</td>\n",
       "      <td>2</td>\n",
       "      <td>279</td>\n",
       "    </tr>\n",
       "    <tr>\n",
       "      <th>3</th>\n",
       "      <td>Euripides</td>\n",
       "      <td>Hippolytus</td>\n",
       "      <td>lines 1-33</td>\n",
       "      <td>Aphrodite enters above the skene. Aphrodite Ap...</td>\n",
       "      <td>3</td>\n",
       "      <td>349</td>\n",
       "    </tr>\n",
       "    <tr>\n",
       "      <th>4</th>\n",
       "      <td>Euripides</td>\n",
       "      <td>Heracleidae</td>\n",
       "      <td>lines 1-47</td>\n",
       "      <td>The skene represents the temple of Zeus Agorai...</td>\n",
       "      <td>4</td>\n",
       "      <td>512</td>\n",
       "    </tr>\n",
       "  </tbody>\n",
       "</table>\n",
       "</div>"
      ],
      "text/plain": [
       "      author        title     section  \\\n",
       "0  Aeschylus    Agamemnon  lines 1-39   \n",
       "1  Euripides          Ion  lines 1-40   \n",
       "2  Euripides     Heracles  lines 1-25   \n",
       "3  Euripides   Hippolytus  lines 1-33   \n",
       "4  Euripides  Heracleidae  lines 1-47   \n",
       "\n",
       "                                                text  Id  num_words  \n",
       "0  Release from this weary task of mine has been ...   0        445  \n",
       "1  Before the Temple of Apollo at Delphi . The su...   1        357  \n",
       "2  Before the palace of Heracles at Thebes . Near...   2        279  \n",
       "3  Aphrodite enters above the skene. Aphrodite Ap...   3        349  \n",
       "4  The skene represents the temple of Zeus Agorai...   4        512  "
      ]
     },
     "execution_count": 12,
     "metadata": {},
     "output_type": "execute_result"
    }
   ],
   "source": [
    "# Define function that truncates the longer texts\n",
    "def truncate_texts(text, max_num_words=512):\n",
    "    word_list = text.split()\n",
    "    if len(word_list) > max_num_words:\n",
    "        word_list = word_list[:max_num_words]\n",
    "\n",
    "    return \" \".join(word_list)\n",
    "\n",
    "# Apply to all the texts\n",
    "df[\"text\"] = df[\"text\"].apply(truncate_texts)\n",
    "\n",
    "# Count again the num of words\n",
    "df[\"num_words\"] = df[\"text\"].apply(count_words)\n",
    "\n",
    "# Check df\n",
    "df.head()"
   ]
  },
  {
   "cell_type": "code",
   "execution_count": 13,
   "id": "531c4e52-7df6-421d-9676-7190ee2f40e8",
   "metadata": {
    "tags": []
   },
   "outputs": [
    {
     "data": {
      "text/plain": [
       "count    111707.000000\n",
       "mean        148.231821\n",
       "std         143.268450\n",
       "min           1.000000\n",
       "25%          58.000000\n",
       "50%          94.000000\n",
       "75%         173.000000\n",
       "max         512.000000\n",
       "Name: num_words, dtype: float64"
      ]
     },
     "execution_count": 13,
     "metadata": {},
     "output_type": "execute_result"
    }
   ],
   "source": [
    "# Check statistics again\n",
    "df[\"num_words\"].describe()"
   ]
  },
  {
   "cell_type": "code",
   "execution_count": 14,
   "id": "146915e6-8705-49a3-8f3e-4da171e15990",
   "metadata": {
    "tags": []
   },
   "outputs": [],
   "source": [
    "# Drop number of words column\n",
    "df.drop('num_words', axis=1, inplace=True)"
   ]
  },
  {
   "cell_type": "markdown",
   "id": "c45a63ca-6394-444d-93bb-9a46769d5948",
   "metadata": {},
   "source": [
    "## Generate embeddings for vector search"
   ]
  },
  {
   "cell_type": "markdown",
   "id": "98f6b467-9157-4839-9c3f-399c6116a609",
   "metadata": {},
   "source": [
    "We are going to use *msmarco-roberta-base-ance-firstp* model, which is well suited for long passages of text and is fine-tunned for dot product similarity, which is usually preferred for long passages of text (our case). Also, it is optimized for ANCE (Approximate Nearest Neighbor Search). Later, we will have to take all this into account by configuring Elasticsearch k-NN to use dot product and Approximate Nearest Neighbor Search."
   ]
  },
  {
   "cell_type": "code",
   "execution_count": 15,
   "id": "bc619f8e-b6df-4fa3-b9f1-423114e3ff54",
   "metadata": {
    "tags": []
   },
   "outputs": [],
   "source": [
    "# Transform into a list of dicts\n",
    "df_dict = df.to_dict(orient=\"records\")\n",
    "\n",
    "# Generate list with all the texts\n",
    "texts_list = [source[\"text\"]for source in df_dict]"
   ]
  },
  {
   "cell_type": "code",
   "execution_count": 18,
   "id": "caa031f1-a233-4315-a00a-ca299afe8264",
   "metadata": {
    "execution": {
     "iopub.execute_input": "2024-09-05T11:27:18.394523Z",
     "iopub.status.busy": "2024-09-05T11:27:18.394140Z",
     "iopub.status.idle": "2024-09-05T11:27:49.656209Z",
     "shell.execute_reply": "2024-09-05T11:27:49.655502Z",
     "shell.execute_reply.started": "2024-09-05T11:27:18.394497Z"
    },
    "tags": []
   },
   "outputs": [
    {
     "name": "stderr",
     "output_type": "stream",
     "text": [
      "/opt/saturncloud/envs/saturn/lib/python3.9/site-packages/huggingface_hub/utils/_deprecation.py:131: FutureWarning: 'cached_download' (from 'huggingface_hub.file_download') is deprecated and will be removed from version '0.26'. Use `hf_hub_download` instead.\n",
      "  warnings.warn(warning_message, FutureWarning)\n"
     ]
    },
    {
     "data": {
      "application/vnd.jupyter.widget-view+json": {
       "model_id": "f7348741f1f4469e99e942dd545d83a9",
       "version_major": 2,
       "version_minor": 0
      },
      "text/plain": [
       ".gitattributes:   0%|          | 0.00/744 [00:00<?, ?B/s]"
      ]
     },
     "metadata": {},
     "output_type": "display_data"
    },
    {
     "data": {
      "application/vnd.jupyter.widget-view+json": {
       "model_id": "2c3e0fca53ba4f8fb7d4e8c65786b213",
       "version_major": 2,
       "version_minor": 0
      },
      "text/plain": [
       "1_Pooling/config.json:   0%|          | 0.00/190 [00:00<?, ?B/s]"
      ]
     },
     "metadata": {},
     "output_type": "display_data"
    },
    {
     "data": {
      "application/vnd.jupyter.widget-view+json": {
       "model_id": "f95e7f0f134941ba910a0425b818c851",
       "version_major": 2,
       "version_minor": 0
      },
      "text/plain": [
       "2_Dense/config.json:   0%|          | 0.00/114 [00:00<?, ?B/s]"
      ]
     },
     "metadata": {},
     "output_type": "display_data"
    },
    {
     "data": {
      "application/vnd.jupyter.widget-view+json": {
       "model_id": "752ff7f45b1c49e8b40e4fcc42dbe7a3",
       "version_major": 2,
       "version_minor": 0
      },
      "text/plain": [
       "model.safetensors:   0%|          | 0.00/2.36M [00:00<?, ?B/s]"
      ]
     },
     "metadata": {},
     "output_type": "display_data"
    },
    {
     "data": {
      "application/vnd.jupyter.widget-view+json": {
       "model_id": "0bf8058f7622479482e5a39d6b6497cc",
       "version_major": 2,
       "version_minor": 0
      },
      "text/plain": [
       "pytorch_model.bin:   0%|          | 0.00/2.36M [00:00<?, ?B/s]"
      ]
     },
     "metadata": {},
     "output_type": "display_data"
    },
    {
     "data": {
      "application/vnd.jupyter.widget-view+json": {
       "model_id": "87a3842c21b64cea9dd0eaa7c88cba22",
       "version_major": 2,
       "version_minor": 0
      },
      "text/plain": [
       "3_LayerNorm/config.json:   0%|          | 0.00/22.0 [00:00<?, ?B/s]"
      ]
     },
     "metadata": {},
     "output_type": "display_data"
    },
    {
     "data": {
      "application/vnd.jupyter.widget-view+json": {
       "model_id": "50e7eada6dfa4b37aad0cae578ac2578",
       "version_major": 2,
       "version_minor": 0
      },
      "text/plain": [
       "3_LayerNorm/model.safetensors:   0%|          | 0.00/6.33k [00:00<?, ?B/s]"
      ]
     },
     "metadata": {},
     "output_type": "display_data"
    },
    {
     "data": {
      "application/vnd.jupyter.widget-view+json": {
       "model_id": "37b68d10f8074e67b98a9849c037bc24",
       "version_major": 2,
       "version_minor": 0
      },
      "text/plain": [
       "pytorch_model.bin:   0%|          | 0.00/7.14k [00:00<?, ?B/s]"
      ]
     },
     "metadata": {},
     "output_type": "display_data"
    },
    {
     "data": {
      "application/vnd.jupyter.widget-view+json": {
       "model_id": "625ae1c7d09848e7ae8c425ccf758570",
       "version_major": 2,
       "version_minor": 0
      },
      "text/plain": [
       "README.md:   0%|          | 0.00/1.90k [00:00<?, ?B/s]"
      ]
     },
     "metadata": {},
     "output_type": "display_data"
    },
    {
     "data": {
      "application/vnd.jupyter.widget-view+json": {
       "model_id": "01aa36e4716c4ff1a332a3c3d1e84b44",
       "version_major": 2,
       "version_minor": 0
      },
      "text/plain": [
       "config.json:   0%|          | 0.00/787 [00:00<?, ?B/s]"
      ]
     },
     "metadata": {},
     "output_type": "display_data"
    },
    {
     "data": {
      "application/vnd.jupyter.widget-view+json": {
       "model_id": "01bb833cd53f4494957795ea3a4a92fb",
       "version_major": 2,
       "version_minor": 0
      },
      "text/plain": [
       "config_sentence_transformers.json:   0%|          | 0.00/122 [00:00<?, ?B/s]"
      ]
     },
     "metadata": {},
     "output_type": "display_data"
    },
    {
     "data": {
      "application/vnd.jupyter.widget-view+json": {
       "model_id": "11a90fb6006642f1948cf522dae7cf69",
       "version_major": 2,
       "version_minor": 0
      },
      "text/plain": [
       "merges.txt:   0%|          | 0.00/456k [00:00<?, ?B/s]"
      ]
     },
     "metadata": {},
     "output_type": "display_data"
    },
    {
     "data": {
      "application/vnd.jupyter.widget-view+json": {
       "model_id": "f498e34bec534bb8a95d1eee9ffca709",
       "version_major": 2,
       "version_minor": 0
      },
      "text/plain": [
       "model.safetensors:   0%|          | 0.00/499M [00:00<?, ?B/s]"
      ]
     },
     "metadata": {},
     "output_type": "display_data"
    },
    {
     "data": {
      "application/vnd.jupyter.widget-view+json": {
       "model_id": "d05da00aa34e4558a10de78eebae8e10",
       "version_major": 2,
       "version_minor": 0
      },
      "text/plain": [
       "pytorch_model.bin:   0%|          | 0.00/499M [00:00<?, ?B/s]"
      ]
     },
     "metadata": {},
     "output_type": "display_data"
    },
    {
     "data": {
      "application/vnd.jupyter.widget-view+json": {
       "model_id": "2eaf58470b4840c29107b1e249237c24",
       "version_major": 2,
       "version_minor": 0
      },
      "text/plain": [
       "sentence_bert_config.json:   0%|          | 0.00/52.0 [00:00<?, ?B/s]"
      ]
     },
     "metadata": {},
     "output_type": "display_data"
    },
    {
     "data": {
      "application/vnd.jupyter.widget-view+json": {
       "model_id": "35b7c37fdbd34588be0e886a50af59bb",
       "version_major": 2,
       "version_minor": 0
      },
      "text/plain": [
       "special_tokens_map.json:   0%|          | 0.00/239 [00:00<?, ?B/s]"
      ]
     },
     "metadata": {},
     "output_type": "display_data"
    },
    {
     "data": {
      "application/vnd.jupyter.widget-view+json": {
       "model_id": "2cfb09c27f4e41799bc1fa9bf3e9a124",
       "version_major": 2,
       "version_minor": 0
      },
      "text/plain": [
       "tokenizer.json:   0%|          | 0.00/1.36M [00:00<?, ?B/s]"
      ]
     },
     "metadata": {},
     "output_type": "display_data"
    },
    {
     "data": {
      "application/vnd.jupyter.widget-view+json": {
       "model_id": "2d3d9971d1f44e01a8ff82e552b971f9",
       "version_major": 2,
       "version_minor": 0
      },
      "text/plain": [
       "tokenizer_config.json:   0%|          | 0.00/1.21k [00:00<?, ?B/s]"
      ]
     },
     "metadata": {},
     "output_type": "display_data"
    },
    {
     "data": {
      "application/vnd.jupyter.widget-view+json": {
       "model_id": "def4ac199a4d4f1f8b4add5d9736796e",
       "version_major": 2,
       "version_minor": 0
      },
      "text/plain": [
       "vocab.json:   0%|          | 0.00/798k [00:00<?, ?B/s]"
      ]
     },
     "metadata": {},
     "output_type": "display_data"
    },
    {
     "data": {
      "application/vnd.jupyter.widget-view+json": {
       "model_id": "fb82d1daa31c4ce0be3b25877efb3a03",
       "version_major": 2,
       "version_minor": 0
      },
      "text/plain": [
       "modules.json:   0%|          | 0.00/461 [00:00<?, ?B/s]"
      ]
     },
     "metadata": {},
     "output_type": "display_data"
    },
    {
     "name": "stderr",
     "output_type": "stream",
     "text": [
      "/opt/saturncloud/envs/saturn/lib/python3.9/site-packages/transformers/tokenization_utils_base.py:1601: FutureWarning: `clean_up_tokenization_spaces` was not set. It will be set to `True` by default. This behavior will be depracted in transformers v4.45, and will be then set to `False` by default. For more details check this issue: https://github.com/huggingface/transformers/issues/31884\n",
      "  warnings.warn(\n"
     ]
    }
   ],
   "source": [
    "# Load the msmarco-roberta-base-ance-firstp\n",
    "# model = SentenceTransformer('msmarco-roberta-base-ance-firstp')\n",
    "\n",
    "# Load it for GPU exec\n",
    "model = SentenceTransformer('msmarco-roberta-base-ance-firstp', device='cuda')"
   ]
  },
  {
   "cell_type": "code",
   "execution_count": 20,
   "id": "6c9141ff-c23c-4680-a7fa-ffc0106401e2",
   "metadata": {
    "execution": {
     "iopub.execute_input": "2024-09-05T11:30:48.147716Z",
     "iopub.status.busy": "2024-09-05T11:30:48.147331Z",
     "iopub.status.idle": "2024-09-05T11:30:48.235579Z",
     "shell.execute_reply": "2024-09-05T11:30:48.234575Z",
     "shell.execute_reply.started": "2024-09-05T11:30:48.147690Z"
    },
    "tags": []
   },
   "outputs": [
    {
     "name": "stdout",
     "output_type": "stream",
     "text": [
      "CUDA Available: True\n",
      "Device Count: 1\n",
      "Current Device: 0\n",
      "Device Name: Tesla T4\n"
     ]
    }
   ],
   "source": [
    "# Check for GPU availability\n",
    "print(f\"CUDA Available: {torch.cuda.is_available()}\")\n",
    "print(f\"Device Count: {torch.cuda.device_count()}\")\n",
    "print(f\"Current Device: {torch.cuda.current_device()}\")\n",
    "print(f\"Device Name: {torch.cuda.get_device_name(torch.cuda.current_device())}\")"
   ]
  },
  {
   "cell_type": "code",
   "execution_count": 21,
   "id": "3f1264cb-12aa-4746-8e5c-219bd76634bf",
   "metadata": {
    "execution": {
     "iopub.execute_input": "2024-09-05T11:31:32.763142Z",
     "iopub.status.busy": "2024-09-05T11:31:32.762437Z",
     "iopub.status.idle": "2024-09-05T12:04:36.189124Z",
     "shell.execute_reply": "2024-09-05T12:04:36.188393Z",
     "shell.execute_reply.started": "2024-09-05T11:31:32.763111Z"
    },
    "tags": []
   },
   "outputs": [
    {
     "data": {
      "application/vnd.jupyter.widget-view+json": {
       "model_id": "3e5d13b840cd4b1998b15e174cbfc260",
       "version_major": 2,
       "version_minor": 0
      },
      "text/plain": [
       "Batches:   0%|          | 0/3491 [00:00<?, ?it/s]"
      ]
     },
     "metadata": {},
     "output_type": "display_data"
    }
   ],
   "source": [
    "# Compute embeddings\n",
    "embeddings = model.encode(texts_list, batch_size=32, show_progress_bar=True)"
   ]
  },
  {
   "cell_type": "code",
   "execution_count": null,
   "id": "bc99cf59-27cf-4f56-9539-729e057b5307",
   "metadata": {},
   "outputs": [],
   "source": [
    "# Save embeddings\n",
    "with h5py.File('../data/embeddings.h5', 'w') as hf:\n",
    "    hf.create_dataset('embeddings', data=embeddings, compression='gzip', compression_opts=9)"
   ]
  },
  {
   "cell_type": "code",
   "execution_count": 17,
   "id": "4a3843d9-2c71-48fd-b79b-144316f5072e",
   "metadata": {},
   "outputs": [
    {
     "name": "stdout",
     "output_type": "stream",
     "text": [
      "total 353228\n",
      "drwxrwxrwx+ 5 codespace root           4096 Sep  6 06:55 ..\n",
      "-rw-rw-rw-  1 codespace codespace  46743161 Sep  6 06:55 ancient_sources.csv.gz\n",
      "drwxrwxrwx+ 2 codespace codespace      4096 Sep  6 06:57 .\n",
      "-rw-rw-rw-  1 codespace codespace 314946082 Sep  6 07:01 embeddings.h5\n"
     ]
    }
   ],
   "source": [
    "!ls -ltra ../data"
   ]
  },
  {
   "cell_type": "code",
   "execution_count": 18,
   "id": "85c838dd",
   "metadata": {},
   "outputs": [],
   "source": [
    "# Load embeddings\n",
    "with h5py.File('../data/embeddings.h5', 'r') as hf:\n",
    "    dataset = hf['embeddings']\n",
    "    \n",
    "    # Load the data into a NumPy array\n",
    "    embeddings = dataset[:]"
   ]
  },
  {
   "cell_type": "code",
   "execution_count": 21,
   "id": "5de9a4d4-71f5-4598-abda-2839592de13a",
   "metadata": {},
   "outputs": [],
   "source": [
    "# Append embeddings to the corresponding sources\n",
    "for i, source in enumerate(df_dict):\n",
    "    source[\"text_embedding\"] = embeddings[i]"
   ]
  },
  {
   "cell_type": "code",
   "execution_count": 23,
   "id": "32ecc907-c9b6-4a5b-8da1-a6117678a744",
   "metadata": {},
   "outputs": [
    {
     "data": {
      "text/plain": [
       "{'author': 'Euripides',\n",
       " 'title': 'Ion',\n",
       " 'section': 'lines 1-40',\n",
       " 'text': \"Before the Temple of Apollo at Delphi . The sun is about to rise. Hermes enters. Hermes Hermes Atlas, who wears away heaven, the ancient home of the gods, on his bronze shoulders, was the father of Maia by a goddess; she bore me, Hermes, to great Zeus; and I am the gods' servant. I have come to Delphi , this land where Phoebus from his central throne chants to mortals, always declaring the present and the future. For Hellas has a famous city, which received its name from Pallas of the golden lance; here Apollo forced a union on Creusa, the child of Erechtheus, where the rocks, turned to the north beneath the hill of Pallas' Athenian land, are called Macrai by the lords of Attica . Unknown to her father —such was the pleasure of the god— she bore the weight in her womb. When the time came, Creusa gave birth in the house to a child, and brought the infant to the same cave where the god had bedded her, and there exposed him to die in the round circle of a hollow cradle, observant of the customs of her ancestors, and of Erichthonius, the earth-born. For the daughter of Zeus set beside him two serpents to guard his body, and gave him in charge to the daughters of Aglauros; from which the Erechthidae have a custom to rear their children in gold serpents. Ornaments which the girl had she hung around her son, and left him to die. And Phoebus, as my brother, asked me this: “O brother, go to the native-born people of glorious Athens , for you know the city of the goddess; take the new-born baby from the hollow rock, with his cradle and baby-clothes; bring him to my shrine at Delphi , and place him at the very entrance of my temple; The rest—know that the child is mine—will be my care.” To gratify my brother Loxias I took up the woven basket and brought it here, and placed the boy at the base of this temple, opening up the wreathed cradle, so that the infant might be seen.\",\n",
       " 'Id': 1,\n",
       " 'text_embedding': array([-1.189149  ,  0.18087828, -0.17377746,  0.4985118 , -0.5016763 ,\n",
       "        -0.4935167 ,  1.6259909 ,  0.23709029,  1.6298393 ,  0.5567141 ,\n",
       "         0.34810805,  1.5348067 ,  0.08446733, -1.5895724 , -0.16167347,\n",
       "        -2.219142  ,  0.8908998 , -0.17570455, -0.31106266, -1.1322244 ,\n",
       "        -0.44141102,  0.9192593 , -0.19635105, -0.65654504,  0.68331736,\n",
       "        -0.6864232 , -0.23028944, -0.8286644 ,  1.0511088 ,  0.8961177 ,\n",
       "        -0.42196923, -1.2567372 ,  0.48771608,  0.5237813 ,  1.3386536 ,\n",
       "        -1.4096344 ,  0.47828275, -1.3858993 , -0.24084464,  0.6820592 ,\n",
       "        -0.11493101,  0.8705771 , -1.5400875 ,  0.02870486,  1.0212766 ,\n",
       "         1.3768153 , -2.04528   , -1.5663527 , -0.20503251, -0.15045877,\n",
       "        -0.3748755 ,  1.4578074 , -1.6137838 , -1.4633176 , -0.20559463,\n",
       "        -2.4121153 , -0.16192223, -0.43263897, -0.53671336,  1.4525841 ,\n",
       "        -1.157084  ,  0.9273906 , -1.582299  ,  0.23793942,  0.27300593,\n",
       "         1.1327137 ,  0.52159125,  0.8423611 ,  0.45162567,  0.33393767,\n",
       "         1.089707  , -0.61293525, -0.57972735,  1.1524798 , -0.25728497,\n",
       "        -0.47178832,  0.98142534,  1.0346081 , -0.14982419, -0.85131127,\n",
       "        -0.8593559 , -0.6651661 ,  1.0557959 ,  0.44348544,  0.46872607,\n",
       "        -1.367175  ,  1.3421279 ,  0.3020277 , -0.24075991, -0.04834796,\n",
       "        -1.4734267 ,  0.9299976 ,  0.16740091, -0.18659692,  0.52541244,\n",
       "        -0.19402592,  0.00378829,  2.3526733 ,  0.36683753,  0.26434213,\n",
       "         0.21675992, -1.6105393 ,  1.0140746 , -0.9596266 , -0.36492684,\n",
       "        -0.4570049 , -0.12293174,  0.6580834 ,  0.9340146 , -0.35269898,\n",
       "        -0.6892041 ,  0.5218848 , -0.21811466,  0.04985838,  0.56643295,\n",
       "         0.9669604 , -1.1609356 ,  0.8394848 , -0.04545264, -1.0507956 ,\n",
       "         0.5735182 , -0.24053404, -0.583072  ,  1.3530904 ,  0.69812185,\n",
       "        -0.7853643 ,  0.29655606,  1.9451513 , -0.8253205 ,  0.06102609,\n",
       "        -1.6004224 ,  0.4668996 ,  0.7264566 , -0.45432523, -0.7211345 ,\n",
       "        -0.1370656 , -0.13584334, -1.0609629 ,  0.14711125,  1.3556771 ,\n",
       "        -1.4535671 , -1.9701405 , -0.9575851 , -0.14894626,  0.10687871,\n",
       "        -0.64036876, -0.8455322 ,  0.21456717,  1.9063914 ,  0.14793606,\n",
       "         1.0078722 ,  1.6569295 ,  0.4918163 ,  0.07975492, -0.87822527,\n",
       "        -0.53969854,  0.956426  ,  1.1926596 ,  2.2671623 ,  1.3994821 ,\n",
       "        -1.3872209 , -0.9416328 ,  0.53625536, -0.32662302, -0.1742325 ,\n",
       "        -1.5074215 , -0.02540563,  1.658532  , -0.2590258 ,  0.76414233,\n",
       "        -1.1894516 , -0.7435595 ,  1.6405966 ,  0.8158609 ,  1.9102253 ,\n",
       "        -0.24125615,  0.9212057 , -0.45668465, -0.529479  ,  1.2156631 ,\n",
       "         0.55570316, -0.54528785,  1.4962555 ,  1.0800773 ,  0.4825356 ,\n",
       "        -0.9753314 ,  0.8918307 ,  1.7224253 ,  0.5851304 ,  0.94733787,\n",
       "         0.9680977 ,  0.22714922,  0.19970615,  0.5670092 , -2.2523017 ,\n",
       "        -0.9798493 ,  0.49210086, -0.97174007, -0.6550663 ,  2.1542227 ,\n",
       "        -0.62727493, -1.3021381 , -0.4831424 ,  0.66614985,  1.4530267 ,\n",
       "        -0.4092697 ,  0.7052349 , -0.71583855,  0.39907   , -1.5680743 ,\n",
       "        -0.9090484 ,  1.0822006 ,  2.5834448 , -0.39772615, -1.1805667 ,\n",
       "        -1.166658  , -0.6694784 , -0.44498947, -0.35857826, -0.95592225,\n",
       "         0.36074847,  0.75101584, -0.27078462,  1.6131263 , -2.0713491 ,\n",
       "        -0.45304462,  0.7633126 , -0.6234455 ,  1.3986152 ,  0.3750741 ,\n",
       "        -0.534058  ,  0.06389422,  1.3093945 , -0.5995716 , -1.1880718 ,\n",
       "         0.35739705, -1.5352179 , -2.7618518 ,  0.7202856 , -1.3111635 ,\n",
       "        -0.53501093,  1.5868226 , -0.06427653,  0.77599037, -2.0140119 ,\n",
       "         0.56733394, -0.07309018, -1.3567224 , -0.57530254, -0.08646839,\n",
       "         0.12911531,  1.937918  ,  1.5189099 ,  1.8007277 ,  0.05526234,\n",
       "        -0.39339578, -0.5014698 ,  0.25735956,  0.26090407,  0.12424462,\n",
       "        -1.2188009 ,  0.64995533, -1.8997941 ,  0.15278822, -0.16754262,\n",
       "        -0.29834473,  0.03221593,  0.8188155 ,  0.24147302, -0.27865615,\n",
       "        -1.6367967 , -1.4557073 , -1.308171  , -1.1499842 ,  0.07698902,\n",
       "        -0.83318806,  0.8089949 ,  1.5660089 ,  0.49235684,  0.52875865,\n",
       "        -0.49378204, -0.63703287,  1.0319778 ,  0.00470475, -0.80279934,\n",
       "        -0.63415897,  0.12147468, -1.073469  , -0.31143498, -1.1698925 ,\n",
       "         1.0438974 , -0.52573866,  1.2181    ,  0.9627259 , -0.22649248,\n",
       "        -1.3286314 ,  0.22344445, -0.05536957, -0.22947563, -0.14321478,\n",
       "         1.202345  ,  1.5522401 , -0.27753678,  1.8318812 ,  1.1333965 ,\n",
       "         0.13199717,  0.26426646, -2.42135   ,  0.3300685 , -1.2786167 ,\n",
       "        -1.14431   , -0.7907072 , -1.2014558 ,  1.6111445 , -0.5048354 ,\n",
       "         0.08103672,  1.1741351 ,  0.5712964 , -0.71155375, -1.7955419 ,\n",
       "        -0.2409028 , -1.3426225 ,  0.7417488 , -0.9391754 ,  0.16962259,\n",
       "         0.03158561,  0.51468635,  0.6736192 , -0.7626944 ,  0.07557242,\n",
       "         1.5206157 , -0.17267397, -0.502601  , -0.4740228 ,  0.26866922,\n",
       "        -1.1856096 ,  0.2142504 , -0.5379803 ,  0.34505135, -0.06371783,\n",
       "         0.11295612, -1.4911776 , -0.56532055,  0.47279757,  1.5201561 ,\n",
       "        -0.18915348,  0.15698184,  0.9756641 , -0.4750074 ,  0.7513468 ,\n",
       "        -1.0317942 , -0.07325898, -1.3000785 , -0.94853926,  0.35250577,\n",
       "         0.8945526 ,  1.5469974 , -0.33915052,  2.4129891 , -0.07443522,\n",
       "        -0.1780943 ,  1.3367829 , -1.369827  ,  0.4523169 ,  0.4692347 ,\n",
       "         0.98834425, -0.40396118,  0.76744425,  0.37183332,  0.56359345,\n",
       "        -1.2659268 , -0.13585724, -0.37948126,  1.4172442 ,  0.21328321,\n",
       "         0.05836364, -0.06398956, -0.1722631 , -0.17171925,  0.701582  ,\n",
       "        -0.70386016, -1.4598405 , -0.9571488 ,  0.07653952, -1.1490382 ,\n",
       "        -0.15325561, -0.43777627,  0.5530824 , -0.758705  , -0.8958515 ,\n",
       "        -0.10476066, -0.3164585 , -0.00331728,  0.45397055,  1.1035687 ,\n",
       "         0.35511604,  1.6091462 , -0.09563519,  0.92441523, -0.4879104 ,\n",
       "         0.96406776,  0.69309676,  0.8413652 , -0.11670153,  0.2717696 ,\n",
       "        -0.54369473,  1.7933596 ,  1.4809885 ,  0.504971  ,  1.1800289 ,\n",
       "        -0.61113524,  0.05235811,  2.3621182 , -1.3580995 ,  0.4733499 ,\n",
       "        -0.9111528 , -0.94718236,  0.23920605, -1.557042  , -0.19921258,\n",
       "         0.7312202 , -0.50805444,  0.5563732 ,  0.4582854 ,  0.6890171 ,\n",
       "        -0.7053954 ,  0.304351  , -0.2602616 , -0.79551035, -1.2283752 ,\n",
       "        -0.11766176, -2.101584  ,  0.93997765, -1.1717757 ,  0.7401204 ,\n",
       "        -0.11162063, -1.8130972 ,  0.90683556, -1.4437788 ,  0.86740863,\n",
       "        -0.4739797 , -1.007595  , -0.76833355,  0.0307677 ,  0.09294319,\n",
       "         1.0856682 ,  0.9167184 , -0.06673778,  0.14122254,  0.610721  ,\n",
       "         0.17447555,  0.97632855,  0.8839233 , -1.193244  ,  1.8245472 ,\n",
       "        -1.9648228 , -1.3887886 , -0.1919574 , -1.3266275 , -1.7430309 ,\n",
       "         0.18564168, -1.6438534 , -0.15556698,  2.3787153 ,  0.34424147,\n",
       "         1.0311099 ,  0.65023845,  1.5963546 , -1.0277894 , -1.1651497 ,\n",
       "         0.6473534 , -0.8451053 ,  1.0078666 ,  0.6084771 ,  1.4188416 ,\n",
       "        -0.51831484,  0.735141  ,  0.0218193 ,  0.02344024,  0.3029427 ,\n",
       "         0.8728081 ,  0.25812054,  0.24434686,  0.10276913,  0.03514745,\n",
       "         0.41333693, -1.2939823 , -1.6360545 , -0.23965329, -1.7479715 ,\n",
       "         1.9402121 , -0.04849991, -2.1977506 , -0.97506726,  1.0487533 ,\n",
       "         0.9848094 , -0.72081393,  0.5450301 ,  0.15722771, -1.6128477 ,\n",
       "        -0.24180628, -0.8505186 , -1.5869005 , -0.8666067 , -0.98603934,\n",
       "        -0.5370764 , -1.5555891 , -0.29557294,  1.0591784 , -1.0100875 ,\n",
       "         0.5124158 ,  0.5476244 ,  0.24977477, -0.97228664,  0.67429495,\n",
       "        -0.01835226, -0.21636656,  2.0453503 ,  1.3326344 ,  2.111138  ,\n",
       "        -0.45045623,  0.5048951 , -1.7912277 , -1.0604768 , -1.3636938 ,\n",
       "        -1.6077044 , -1.2927818 , -0.95388144, -1.1488101 ,  0.32974267,\n",
       "        -0.7951734 , -0.03681729, -1.1029371 , -0.1427129 ,  0.41200006,\n",
       "         0.9184682 , -0.25076643,  0.7272611 ,  0.46630144, -1.5373037 ,\n",
       "        -0.09287196,  0.3428888 ,  0.85328   ,  1.3025329 ,  0.03714688,\n",
       "        -0.68678063,  1.3533448 ,  0.8778641 ,  0.45495147, -1.0931051 ,\n",
       "         1.2975308 ,  0.3980703 , -0.55035377, -1.7570788 , -1.7590468 ,\n",
       "        -1.0661476 , -1.1350342 ,  2.445045  , -1.4266456 , -0.628872  ,\n",
       "         0.5993246 , -0.43931958,  0.68151253,  0.83456   , -0.08160714,\n",
       "         1.1504154 , -0.74200577,  0.22163536,  1.4300255 ,  1.5653366 ,\n",
       "         0.36118066,  0.42092007,  0.8985696 ,  0.00649265, -0.5478598 ,\n",
       "         0.9378346 ,  2.0442781 , -0.04923474, -1.303976  ,  1.1456647 ,\n",
       "         0.15836973, -0.70636904,  1.4321405 ,  0.5466007 , -1.4125091 ,\n",
       "         0.34141856, -0.37899792,  1.9016187 ,  0.13921231, -1.0300561 ,\n",
       "        -0.11176481, -1.2076503 , -0.47477132,  0.3855285 , -0.4599752 ,\n",
       "         0.76205546, -0.51532227, -0.8930871 ,  0.87828314,  0.193787  ,\n",
       "        -0.6574587 ,  0.07183843, -1.3621624 ,  0.9913095 ,  0.98018146,\n",
       "        -0.40961888, -0.71633214, -0.3520688 ,  0.8337877 , -1.2590294 ,\n",
       "        -0.94756097,  1.1055963 , -0.4393757 ,  1.0567088 ,  0.04830583,\n",
       "        -0.3346224 , -0.37616438,  1.601678  ,  1.2772132 ,  1.3117355 ,\n",
       "        -0.13541563, -0.17980547,  1.330206  , -1.1429762 ,  0.5802991 ,\n",
       "         0.22504151,  2.3293002 , -0.7015251 , -0.16157232,  0.44812933,\n",
       "         0.81901884,  0.37759382,  0.15963241,  1.3301737 ,  0.33597514,\n",
       "        -0.12852788, -0.87721175,  0.8948411 ,  0.2510399 , -1.0949576 ,\n",
       "        -0.16982867, -0.6561995 , -0.2923554 ,  0.7774602 , -0.9493126 ,\n",
       "         0.5448804 ,  0.11247063,  0.5389319 ,  1.8919973 , -1.3743553 ,\n",
       "        -0.45361415, -1.1152096 , -1.648843  ,  1.5187626 ,  0.7405802 ,\n",
       "         0.7603363 ,  0.49014097,  0.8964833 , -0.5474929 ,  0.93621194,\n",
       "         1.0380194 ,  0.00381014, -0.02673415,  0.7260537 , -1.184965  ,\n",
       "         1.3932003 , -0.22553883,  0.27455425,  0.7558466 , -0.26648653,\n",
       "        -0.03300257, -0.45456117,  0.42231974, -0.5689156 , -0.6821219 ,\n",
       "        -0.5250562 ,  0.7861458 ,  0.2954174 , -1.7732577 , -0.15003033,\n",
       "         0.62073684, -0.692302  ,  0.01997482,  0.19681999, -0.00744101,\n",
       "         2.1051562 ,  0.30125257, -1.6241577 , -1.1924706 ,  0.25538757,\n",
       "        -0.9020011 ,  1.1125492 , -2.0774336 , -1.0548973 ,  0.7157924 ,\n",
       "        -2.1721394 , -0.55604345, -0.09396846, -0.43423367,  1.0848346 ,\n",
       "         0.3936658 , -1.6765424 ,  1.8371232 ,  1.2679802 , -0.13557504,\n",
       "        -0.1962722 ,  1.7520572 , -0.20340775, -1.241466  , -0.39364395,\n",
       "        -0.31271493,  0.77671206, -0.8728226 ,  0.4111356 ,  0.14494216,\n",
       "        -1.5082935 , -0.34721562,  0.71391034, -0.29794744, -0.4941432 ,\n",
       "        -0.9375643 , -0.2287198 ,  0.29377812, -1.6687431 , -0.3501242 ,\n",
       "        -0.46394867, -2.2213757 , -0.39207754, -1.3078766 , -0.21440835,\n",
       "        -0.40283734,  1.0336928 ,  1.0006427 , -1.203006  ,  1.7386556 ,\n",
       "         1.7071263 ,  1.1585481 ,  0.41658399, -0.6621923 ,  0.74678963,\n",
       "        -0.5527555 ,  0.9424212 ,  1.0268726 ,  0.90469366, -0.5308442 ,\n",
       "         0.76783407, -0.08452734,  0.6766555 ,  0.45123404, -1.019831  ,\n",
       "        -0.8515591 , -1.2992531 ,  1.7805338 ,  0.7926465 , -1.1168649 ,\n",
       "         0.82488394,  1.1714784 ,  0.38937822,  0.2525026 , -0.54439604,\n",
       "        -0.12079481,  0.6161756 , -0.6578101 , -0.23316231,  0.63699013,\n",
       "        -0.6779456 ,  1.1449203 , -1.4507028 ], dtype=float32)}"
      ]
     },
     "execution_count": 23,
     "metadata": {},
     "output_type": "execute_result"
    }
   ],
   "source": [
    "# Show example\n",
    "df_dict[1]"
   ]
  }
 ],
 "metadata": {
  "kernelspec": {
   "display_name": "Python 3 (ipykernel)",
   "language": "python",
   "name": "python3"
  },
  "language_info": {
   "codemirror_mode": {
    "name": "ipython",
    "version": 3
   },
   "file_extension": ".py",
   "mimetype": "text/x-python",
   "name": "python",
   "nbconvert_exporter": "python",
   "pygments_lexer": "ipython3",
   "version": "3.12.1"
  }
 },
 "nbformat": 4,
 "nbformat_minor": 5
}
