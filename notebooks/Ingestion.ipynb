{
 "cells": [
  {
   "cell_type": "markdown",
   "id": "cd32f1c8-0d0a-4f39-a62d-04bcc5a3f33f",
   "metadata": {},
   "source": [
    "# Data preparation and ingestion"
   ]
  },
  {
   "cell_type": "code",
   "execution_count": 1,
   "id": "5e4a621b-6c69-418a-b0bf-311088f5ca18",
   "metadata": {},
   "outputs": [],
   "source": [
    "# Imports\n",
    "import pandas as pd\n",
    "import numpy as np\n",
    "from tqdm.notebook import trange, tqdm\n",
    "from elasticsearch import Elasticsearch\n",
    "from statistics import median\n",
    "from transformers import BigBirdModel, BigBirdTokenizer, LongformerTokenizer, LongformerModel\n",
    "import matplotlib.pyplot as plt\n",
    "import torch\n",
    "from torch.utils.data import Dataset, DataLoader"
   ]
  },
  {
   "cell_type": "markdown",
   "id": "72a45e88-8705-4fca-b0bb-4bc5892a0aeb",
   "metadata": {},
   "source": [
    "## Load the data"
   ]
  },
  {
   "cell_type": "code",
   "execution_count": 2,
   "id": "5aef7c64-1791-416f-bab9-0ef5ca5ab38e",
   "metadata": {},
   "outputs": [
    {
     "data": {
      "text/html": [
       "<div>\n",
       "<style scoped>\n",
       "    .dataframe tbody tr th:only-of-type {\n",
       "        vertical-align: middle;\n",
       "    }\n",
       "\n",
       "    .dataframe tbody tr th {\n",
       "        vertical-align: top;\n",
       "    }\n",
       "\n",
       "    .dataframe thead th {\n",
       "        text-align: right;\n",
       "    }\n",
       "</style>\n",
       "<table border=\"1\" class=\"dataframe\">\n",
       "  <thead>\n",
       "    <tr style=\"text-align: right;\">\n",
       "      <th></th>\n",
       "      <th>author</th>\n",
       "      <th>title</th>\n",
       "      <th>section</th>\n",
       "      <th>text</th>\n",
       "    </tr>\n",
       "  </thead>\n",
       "  <tbody>\n",
       "    <tr>\n",
       "      <th>0</th>\n",
       "      <td>Aeschylus</td>\n",
       "      <td>Agamemnon</td>\n",
       "      <td>lines 1-39</td>\n",
       "      <td>Release from this weary task of mine has been ...</td>\n",
       "    </tr>\n",
       "    <tr>\n",
       "      <th>1</th>\n",
       "      <td>Euripides</td>\n",
       "      <td>Ion</td>\n",
       "      <td>lines 1-40</td>\n",
       "      <td>Before the Temple of Apollo at Delphi . The su...</td>\n",
       "    </tr>\n",
       "    <tr>\n",
       "      <th>2</th>\n",
       "      <td>Euripides</td>\n",
       "      <td>Heracles</td>\n",
       "      <td>lines 1-25</td>\n",
       "      <td>Before the palace of Heracles at Thebes . Near...</td>\n",
       "    </tr>\n",
       "    <tr>\n",
       "      <th>3</th>\n",
       "      <td>Euripides</td>\n",
       "      <td>Hippolytus</td>\n",
       "      <td>lines 1-33</td>\n",
       "      <td>Aphrodite enters above the skene. Aphrodite Ap...</td>\n",
       "    </tr>\n",
       "    <tr>\n",
       "      <th>4</th>\n",
       "      <td>Euripides</td>\n",
       "      <td>Heracleidae</td>\n",
       "      <td>lines 1-47</td>\n",
       "      <td>The skene represents the temple of Zeus Agorai...</td>\n",
       "    </tr>\n",
       "  </tbody>\n",
       "</table>\n",
       "</div>"
      ],
      "text/plain": [
       "      author        title     section  \\\n",
       "0  Aeschylus    Agamemnon  lines 1-39   \n",
       "1  Euripides          Ion  lines 1-40   \n",
       "2  Euripides     Heracles  lines 1-25   \n",
       "3  Euripides   Hippolytus  lines 1-33   \n",
       "4  Euripides  Heracleidae  lines 1-47   \n",
       "\n",
       "                                                text  \n",
       "0  Release from this weary task of mine has been ...  \n",
       "1  Before the Temple of Apollo at Delphi . The su...  \n",
       "2  Before the palace of Heracles at Thebes . Near...  \n",
       "3  Aphrodite enters above the skene. Aphrodite Ap...  \n",
       "4  The skene represents the temple of Zeus Agorai...  "
      ]
     },
     "execution_count": 2,
     "metadata": {},
     "output_type": "execute_result"
    }
   ],
   "source": [
    "# Load in Pandas df\n",
    "data_path = \"../data/ancient_sources.csv.gz\"\n",
    "df = pd.read_csv(data_path, compression=\"gzip\")\n",
    "df.head()"
   ]
  },
  {
   "cell_type": "code",
   "execution_count": 4,
   "id": "07f78d48-8bcd-4041-8b5f-5ecfa7960c8a",
   "metadata": {},
   "outputs": [
    {
     "data": {
      "text/plain": [
       "(111709, 4)"
      ]
     },
     "execution_count": 4,
     "metadata": {},
     "output_type": "execute_result"
    }
   ],
   "source": [
    "# Check size\n",
    "df.shape"
   ]
  },
  {
   "cell_type": "markdown",
   "id": "07fe66f1-2da3-4dfe-a2fc-cd60b0d89358",
   "metadata": {},
   "source": [
    "## Data cleaning and EDA"
   ]
  },
  {
   "cell_type": "code",
   "execution_count": 5,
   "id": "13611913-2c27-4084-9b01-2393fbf6cdae",
   "metadata": {},
   "outputs": [],
   "source": [
    "# Append index as ID\n",
    "df['Id'] = df.index"
   ]
  },
  {
   "cell_type": "code",
   "execution_count": 13,
   "id": "dc6b9b01-f951-4672-be1e-71752a1651e2",
   "metadata": {},
   "outputs": [],
   "source": [
    "# Delete rows without text or section\n",
    "df.drop(df[df[\"section\"].isna()].index, inplace=True)\n",
    "df.drop(df[df[\"text\"].isna()].index, inplace=True)"
   ]
  },
  {
   "cell_type": "code",
   "execution_count": 14,
   "id": "5b83d70a-72ea-4b6f-bb76-2c8549a9d868",
   "metadata": {},
   "outputs": [
    {
     "data": {
      "text/plain": [
       "(111584, 5)"
      ]
     },
     "execution_count": 14,
     "metadata": {},
     "output_type": "execute_result"
    }
   ],
   "source": [
    "# Check new size\n",
    "df.shape"
   ]
  },
  {
   "cell_type": "code",
   "execution_count": 15,
   "id": "d09d1d0b-7f5a-416c-bf8d-70819c4dd0f7",
   "metadata": {},
   "outputs": [
    {
     "data": {
      "text/html": [
       "<div>\n",
       "<style scoped>\n",
       "    .dataframe tbody tr th:only-of-type {\n",
       "        vertical-align: middle;\n",
       "    }\n",
       "\n",
       "    .dataframe tbody tr th {\n",
       "        vertical-align: top;\n",
       "    }\n",
       "\n",
       "    .dataframe thead th {\n",
       "        text-align: right;\n",
       "    }\n",
       "</style>\n",
       "<table border=\"1\" class=\"dataframe\">\n",
       "  <thead>\n",
       "    <tr style=\"text-align: right;\">\n",
       "      <th></th>\n",
       "      <th>author</th>\n",
       "      <th>title</th>\n",
       "      <th>section</th>\n",
       "      <th>text</th>\n",
       "      <th>Id</th>\n",
       "      <th>num_words</th>\n",
       "    </tr>\n",
       "  </thead>\n",
       "  <tbody>\n",
       "    <tr>\n",
       "      <th>0</th>\n",
       "      <td>Aeschylus</td>\n",
       "      <td>Agamemnon</td>\n",
       "      <td>lines 1-39</td>\n",
       "      <td>Release from this weary task of mine has been ...</td>\n",
       "      <td>0</td>\n",
       "      <td>445</td>\n",
       "    </tr>\n",
       "    <tr>\n",
       "      <th>1</th>\n",
       "      <td>Euripides</td>\n",
       "      <td>Ion</td>\n",
       "      <td>lines 1-40</td>\n",
       "      <td>Before the Temple of Apollo at Delphi . The su...</td>\n",
       "      <td>1</td>\n",
       "      <td>357</td>\n",
       "    </tr>\n",
       "    <tr>\n",
       "      <th>2</th>\n",
       "      <td>Euripides</td>\n",
       "      <td>Heracles</td>\n",
       "      <td>lines 1-25</td>\n",
       "      <td>Before the palace of Heracles at Thebes . Near...</td>\n",
       "      <td>2</td>\n",
       "      <td>279</td>\n",
       "    </tr>\n",
       "    <tr>\n",
       "      <th>3</th>\n",
       "      <td>Euripides</td>\n",
       "      <td>Hippolytus</td>\n",
       "      <td>lines 1-33</td>\n",
       "      <td>Aphrodite enters above the skene. Aphrodite Ap...</td>\n",
       "      <td>3</td>\n",
       "      <td>349</td>\n",
       "    </tr>\n",
       "    <tr>\n",
       "      <th>4</th>\n",
       "      <td>Euripides</td>\n",
       "      <td>Heracleidae</td>\n",
       "      <td>lines 1-47</td>\n",
       "      <td>The skene represents the temple of Zeus Agorai...</td>\n",
       "      <td>4</td>\n",
       "      <td>554</td>\n",
       "    </tr>\n",
       "  </tbody>\n",
       "</table>\n",
       "</div>"
      ],
      "text/plain": [
       "      author        title     section  \\\n",
       "0  Aeschylus    Agamemnon  lines 1-39   \n",
       "1  Euripides          Ion  lines 1-40   \n",
       "2  Euripides     Heracles  lines 1-25   \n",
       "3  Euripides   Hippolytus  lines 1-33   \n",
       "4  Euripides  Heracleidae  lines 1-47   \n",
       "\n",
       "                                                text  Id  num_words  \n",
       "0  Release from this weary task of mine has been ...   0        445  \n",
       "1  Before the Temple of Apollo at Delphi . The su...   1        357  \n",
       "2  Before the palace of Heracles at Thebes . Near...   2        279  \n",
       "3  Aphrodite enters above the skene. Aphrodite Ap...   3        349  \n",
       "4  The skene represents the temple of Zeus Agorai...   4        554  "
      ]
     },
     "execution_count": 15,
     "metadata": {},
     "output_type": "execute_result"
    }
   ],
   "source": [
    "# Create a function that counts number of words of a text\n",
    "def count_words(text):\n",
    "    return len(text.split())\n",
    "\n",
    "# Append a column with the number of words of the texts\n",
    "df[\"num_words\"] = df[\"text\"].apply(count_words)\n",
    "\n",
    "# Show first rows\n",
    "df.head()"
   ]
  },
  {
   "cell_type": "code",
   "execution_count": 16,
   "id": "084e26e2-6dbb-45d9-91db-f212327fa7be",
   "metadata": {},
   "outputs": [
    {
     "data": {
      "text/plain": [
       "count    111584.000000\n",
       "mean        178.670365\n",
       "std         363.700589\n",
       "min           1.000000\n",
       "25%          58.000000\n",
       "50%          94.000000\n",
       "75%         173.000000\n",
       "max       31177.000000\n",
       "Name: num_words, dtype: float64"
      ]
     },
     "execution_count": 16,
     "metadata": {},
     "output_type": "execute_result"
    }
   ],
   "source": [
    "df[\"num_words\"].describe()"
   ]
  },
  {
   "cell_type": "code",
   "execution_count": 17,
   "id": "e3390e5b-7d30-49b9-9c71-1e13412e1578",
   "metadata": {},
   "outputs": [
    {
     "data": {
      "image/png": "[encoded data removed]",
      "text/plain": [
       "<Figure size 640x480 with 1 Axes>"
      ]
     },
     "metadata": {},
     "output_type": "display_data"
    }
   ],
   "source": [
    "# Boxplot\n",
    "boxplot_stats = plt.boxplot(df['num_words'])\n",
    "plt.title('Number of words per text');"
   ]
  },
  {
   "cell_type": "code",
   "execution_count": 18,
   "id": "b160ea2a-974b-4629-b7d7-9156888af039",
   "metadata": {},
   "outputs": [
    {
     "name": "stdout",
     "output_type": "stream",
     "text": [
      "Upper whisker: 345.0\n"
     ]
    }
   ],
   "source": [
    "whiskers = [item.get_ydata() for item in boxplot_stats['whiskers']]\n",
    "upp_whisker = whiskers[1][1]\n",
    "print(\"Upper whisker:\", upp_whisker)"
   ]
  },
  {
   "cell_type": "code",
   "execution_count": 21,
   "id": "8d8c7fe2-983e-4c0e-9909-d4258f3b7ccc",
   "metadata": {},
   "outputs": [
    {
     "data": {
      "text/html": [
       "<div>\n",
       "<style scoped>\n",
       "    .dataframe tbody tr th:only-of-type {\n",
       "        vertical-align: middle;\n",
       "    }\n",
       "\n",
       "    .dataframe tbody tr th {\n",
       "        vertical-align: top;\n",
       "    }\n",
       "\n",
       "    .dataframe thead th {\n",
       "        text-align: right;\n",
       "    }\n",
       "</style>\n",
       "<table border=\"1\" class=\"dataframe\">\n",
       "  <thead>\n",
       "    <tr style=\"text-align: right;\">\n",
       "      <th></th>\n",
       "      <th>author</th>\n",
       "      <th>title</th>\n",
       "      <th>section</th>\n",
       "      <th>text</th>\n",
       "      <th>Id</th>\n",
       "      <th>num_words</th>\n",
       "    </tr>\n",
       "  </thead>\n",
       "  <tbody>\n",
       "    <tr>\n",
       "      <th>12</th>\n",
       "      <td>Diogenes Laertius</td>\n",
       "      <td>Lives of Eminent Philosophers</td>\n",
       "      <td>BOOK I, Prologue</td>\n",
       "      <td>Prologue There are some who say that the study...</td>\n",
       "      <td>12</td>\n",
       "      <td>3233</td>\n",
       "    </tr>\n",
       "    <tr>\n",
       "      <th>20</th>\n",
       "      <td>M. Tullius Cicero</td>\n",
       "      <td>Letters</td>\n",
       "      <td>PREFACE</td>\n",
       "      <td>PREFACE The object of this book is to give the...</td>\n",
       "      <td>20</td>\n",
       "      <td>1099</td>\n",
       "    </tr>\n",
       "    <tr>\n",
       "      <th>38</th>\n",
       "      <td>Diogenes Laertius</td>\n",
       "      <td>Lives of Eminent Philosophers</td>\n",
       "      <td>BOOK I, Chapter 1. THALES (floruit circa 585 B...</td>\n",
       "      <td>Chapter 1. THALES (floruit circa 585 B.C., the...</td>\n",
       "      <td>38</td>\n",
       "      <td>3490</td>\n",
       "    </tr>\n",
       "    <tr>\n",
       "      <th>70</th>\n",
       "      <td>Diogenes Laertius</td>\n",
       "      <td>Lives of Eminent Philosophers</td>\n",
       "      <td>BOOK I, Chapter 2. SOLON (archon 594 B.C.)</td>\n",
       "      <td>Chapter 2. SOLON (archon 594 B.C.) [ 45 ] Solo...</td>\n",
       "      <td>70</td>\n",
       "      <td>3403</td>\n",
       "    </tr>\n",
       "    <tr>\n",
       "      <th>75</th>\n",
       "      <td>M. Tullius Cicero</td>\n",
       "      <td>Letters</td>\n",
       "      <td>Introduction</td>\n",
       "      <td>Introduction Ground covered by the Corresponde...</td>\n",
       "      <td>75</td>\n",
       "      <td>14254</td>\n",
       "    </tr>\n",
       "    <tr>\n",
       "      <th>...</th>\n",
       "      <td>...</td>\n",
       "      <td>...</td>\n",
       "      <td>...</td>\n",
       "      <td>...</td>\n",
       "      <td>...</td>\n",
       "      <td>...</td>\n",
       "    </tr>\n",
       "    <tr>\n",
       "      <th>95424</th>\n",
       "      <td>William Watson Goodwin</td>\n",
       "      <td>Syntax of the Moods and Tenses of the Greek Verb</td>\n",
       "      <td>In Object Clauses after Verbs of Striving etc.</td>\n",
       "      <td>In Object Clauses after Verbs of Striving etc....</td>\n",
       "      <td>95424</td>\n",
       "      <td>1058</td>\n",
       "    </tr>\n",
       "    <tr>\n",
       "      <th>95724</th>\n",
       "      <td>Athenaeus</td>\n",
       "      <td>The Deipnosophists</td>\n",
       "      <td>Book XI.</td>\n",
       "      <td>BOOK X. Ulysses -- Voracity of certain Persons...</td>\n",
       "      <td>95724</td>\n",
       "      <td>30158</td>\n",
       "    </tr>\n",
       "    <tr>\n",
       "      <th>103095</th>\n",
       "      <td>John Conington</td>\n",
       "      <td>Commentary on Vergil's Aeneid, Volume 1</td>\n",
       "      <td>P. VERGILI MARONIS, lines 743, 744-744</td>\n",
       "      <td>[743, 744] These lines are among the hardest i...</td>\n",
       "      <td>103095</td>\n",
       "      <td>1285</td>\n",
       "    </tr>\n",
       "    <tr>\n",
       "      <th>109282</th>\n",
       "      <td>Titus Livius (Livy)</td>\n",
       "      <td>Ab urbe condita, Index</td>\n",
       "      <td>P., Prodigia</td>\n",
       "      <td>Prodigia Aedes Vulcani de coelo tacta 24.10 . ...</td>\n",
       "      <td>109282</td>\n",
       "      <td>1768</td>\n",
       "    </tr>\n",
       "    <tr>\n",
       "      <th>110028</th>\n",
       "      <td>Titus Livius (Livy)</td>\n",
       "      <td>Ab urbe condita, Index</td>\n",
       "      <td>S., Senatus</td>\n",
       "      <td>[p. 92] Senatus est consilium publicum 1.8 . 2...</td>\n",
       "      <td>110028</td>\n",
       "      <td>1125</td>\n",
       "    </tr>\n",
       "  </tbody>\n",
       "</table>\n",
       "<p>1734 rows × 6 columns</p>\n",
       "</div>"
      ],
      "text/plain": [
       "                        author  \\\n",
       "12           Diogenes Laertius   \n",
       "20           M. Tullius Cicero   \n",
       "38           Diogenes Laertius   \n",
       "70           Diogenes Laertius   \n",
       "75           M. Tullius Cicero   \n",
       "...                        ...   \n",
       "95424   William Watson Goodwin   \n",
       "95724                Athenaeus   \n",
       "103095          John Conington   \n",
       "109282     Titus Livius (Livy)   \n",
       "110028     Titus Livius (Livy)   \n",
       "\n",
       "                                                   title  \\\n",
       "12                         Lives of Eminent Philosophers   \n",
       "20                                               Letters   \n",
       "38                         Lives of Eminent Philosophers   \n",
       "70                         Lives of Eminent Philosophers   \n",
       "75                                               Letters   \n",
       "...                                                  ...   \n",
       "95424   Syntax of the Moods and Tenses of the Greek Verb   \n",
       "95724                                 The Deipnosophists   \n",
       "103095           Commentary on Vergil's Aeneid, Volume 1   \n",
       "109282                            Ab urbe condita, Index   \n",
       "110028                            Ab urbe condita, Index   \n",
       "\n",
       "                                                  section  \\\n",
       "12                                       BOOK I, Prologue   \n",
       "20                                                PREFACE   \n",
       "38      BOOK I, Chapter 1. THALES (floruit circa 585 B...   \n",
       "70             BOOK I, Chapter 2. SOLON (archon 594 B.C.)   \n",
       "75                                           Introduction   \n",
       "...                                                   ...   \n",
       "95424      In Object Clauses after Verbs of Striving etc.   \n",
       "95724                                            Book XI.   \n",
       "103095             P. VERGILI MARONIS, lines 743, 744-744   \n",
       "109282                                       P., Prodigia   \n",
       "110028                                        S., Senatus   \n",
       "\n",
       "                                                     text      Id  num_words  \n",
       "12      Prologue There are some who say that the study...      12       3233  \n",
       "20      PREFACE The object of this book is to give the...      20       1099  \n",
       "38      Chapter 1. THALES (floruit circa 585 B.C., the...      38       3490  \n",
       "70      Chapter 2. SOLON (archon 594 B.C.) [ 45 ] Solo...      70       3403  \n",
       "75      Introduction Ground covered by the Corresponde...      75      14254  \n",
       "...                                                   ...     ...        ...  \n",
       "95424   In Object Clauses after Verbs of Striving etc....   95424       1058  \n",
       "95724   BOOK X. Ulysses -- Voracity of certain Persons...   95724      30158  \n",
       "103095  [743, 744] These lines are among the hardest i...  103095       1285  \n",
       "109282  Prodigia Aedes Vulcani de coelo tacta 24.10 . ...  109282       1768  \n",
       "110028  [p. 92] Senatus est consilium publicum 1.8 . 2...  110028       1125  \n",
       "\n",
       "[1734 rows x 6 columns]"
      ]
     },
     "execution_count": 21,
     "metadata": {},
     "output_type": "execute_result"
    }
   ],
   "source": [
    "df[df[\"num_words\"] > 1000]"
   ]
  },
  {
   "cell_type": "markdown",
   "id": "979c9035-96a5-40dc-80d8-b9851ee64997",
   "metadata": {},
   "source": [
    "Although the limit stablished by boxplot is 320, we are not going to limit the length of the text. The BigBird (the model that we are going to use to generate the embbedings) tokenizer will truncate the texts that exceed the maximum context length (4096 tokens)."
   ]
  },
  {
   "cell_type": "markdown",
   "id": "c45a63ca-6394-444d-93bb-9a46769d5948",
   "metadata": {},
   "source": [
    "## Generate embeddings for vector search"
   ]
  },
  {
   "cell_type": "code",
   "execution_count": 10,
   "id": "bc619f8e-b6df-4fa3-b9f1-423114e3ff54",
   "metadata": {},
   "outputs": [],
   "source": [
    "# Transform into a list of dicts\n",
    "# df_dict = df.to_dict(orient=\"records\")\n",
    "\n",
    "# Obtain list of texts\n",
    "text_list = df[\"text\"].tolist()"
   ]
  },
  {
   "cell_type": "code",
   "execution_count": 11,
   "id": "234bc1b0-7b32-4810-802e-e79bcd1149b4",
   "metadata": {},
   "outputs": [
    {
     "name": "stderr",
     "output_type": "stream",
     "text": [
      "/usr/local/python/3.12.1/lib/python3.12/site-packages/transformers/tokenization_utils_base.py:1601: FutureWarning: `clean_up_tokenization_spaces` was not set. It will be set to `True` by default. This behavior will be depracted in transformers v4.45, and will be then set to `False` by default. For more details check this issue: https://github.com/huggingface/transformers/issues/31884\n",
      "  warnings.warn(\n"
     ]
    }
   ],
   "source": [
    "# Initialize tokenizer and model\n",
    "model_name = \"google/bigbird-roberta-base\"\n",
    "tokenizer = BigBirdTokenizer.from_pretrained(model_name)\n",
    "model = BigBirdModel.from_pretrained(model_name)\n",
    "model.eval();"
   ]
  },
  {
   "cell_type": "code",
   "execution_count": 12,
   "id": "ab1c9857-b543-401a-bf96-557b4adc28a6",
   "metadata": {},
   "outputs": [],
   "source": [
    "class TextDataset(Dataset):\n",
    "    def __init__(self, texts, tokenizer, max_length):\n",
    "        self.texts = texts\n",
    "        self.tokenizer = tokenizer\n",
    "        self.max_length = max_length\n",
    "\n",
    "    def __len__(self):\n",
    "        return len(self.texts)\n",
    "\n",
    "    def __getitem__(self, idx):\n",
    "        text = self.texts[idx]\n",
    "        encoding = self.tokenizer(text, truncation=True, padding='max_length', max_length=self.max_length, return_tensors='pt')\n",
    "        return encoding\n",
    "\n",
    "\n",
    "dataset = TextDataset(texts=text_list, tokenizer=tokenizer, max_length=4096)\n",
    "dataloader = DataLoader(dataset, batch_size=8, shuffle=False, num_workers=2)"
   ]
  },
  {
   "cell_type": "code",
   "execution_count": null,
   "id": "7b3d5c9e-604d-451a-8357-26aabee99599",
   "metadata": {},
   "outputs": [
    {
     "data": {
      "application/vnd.jupyter.widget-view+json": {
       "model_id": "db18dac3768043b0af7fcc8ad7de4246",
       "version_major": 2,
       "version_minor": 0
      },
      "text/plain": [
       "  0%|          | 0/10681 [00:00<?, ?it/s]"
      ]
     },
     "metadata": {},
     "output_type": "display_data"
    }
   ],
   "source": [
    "all_embeddings = []\n",
    "\n",
    "with torch.no_grad():\n",
    "    for batch in tqdm(dataloader):\n",
    "        inputs = {key: value.squeeze(1) for key, value in batch.items()}  # Remove batch dimension\n",
    "        outputs = model(**inputs)\n",
    "        embeddings = outputs.last_hidden_state.mean(dim=1)  # Compute mean embedding\n",
    "        all_embeddings.append(embeddings)"
   ]
  }
 ],
 "metadata": {
  "kernelspec": {
   "display_name": "Python 3 (ipykernel)",
   "language": "python",
   "name": "python3"
  },
  "language_info": {
   "codemirror_mode": {
    "name": "ipython",
    "version": 3
   },
   "file_extension": ".py",
   "mimetype": "text/x-python",
   "name": "python",
   "nbconvert_exporter": "python",
   "pygments_lexer": "ipython3",
   "version": "3.12.1"
  }
 },
 "nbformat": 4,
 "nbformat_minor": 5
}
