{
 "cells": [
  {
   "cell_type": "markdown",
   "id": "cd32f1c8-0d0a-4f39-a62d-04bcc5a3f33f",
   "metadata": {},
   "source": [
    "# Data preparation and ingestion"
   ]
  },
  {
   "cell_type": "code",
   "execution_count": 155,
   "id": "5e4a621b-6c69-418a-b0bf-311088f5ca18",
   "metadata": {
    "tags": []
   },
   "outputs": [],
   "source": [
    "# Imports\n",
    "import pandas as pd\n",
    "import numpy as np\n",
    "from tqdm.notebook import trange, tqdm\n",
    "from elasticsearch import Elasticsearch\n",
    "from statistics import median\n",
    "from sentence_transformers import SentenceTransformer\n",
    "import pickle\n",
    "import matplotlib.pyplot as plt\n",
    "import torch\n",
    "import h5py"
   ]
  },
  {
   "cell_type": "markdown",
   "id": "72a45e88-8705-4fca-b0bb-4bc5892a0aeb",
   "metadata": {},
   "source": [
    "## Load the data"
   ]
  },
  {
   "cell_type": "code",
   "execution_count": 156,
   "id": "5aef7c64-1791-416f-bab9-0ef5ca5ab38e",
   "metadata": {
    "tags": []
   },
   "outputs": [
    {
     "data": {
      "text/html": [
       "<div>\n",
       "<style scoped>\n",
       "    .dataframe tbody tr th:only-of-type {\n",
       "        vertical-align: middle;\n",
       "    }\n",
       "\n",
       "    .dataframe tbody tr th {\n",
       "        vertical-align: top;\n",
       "    }\n",
       "\n",
       "    .dataframe thead th {\n",
       "        text-align: right;\n",
       "    }\n",
       "</style>\n",
       "<table border=\"1\" class=\"dataframe\">\n",
       "  <thead>\n",
       "    <tr style=\"text-align: right;\">\n",
       "      <th></th>\n",
       "      <th>author</th>\n",
       "      <th>title</th>\n",
       "      <th>section</th>\n",
       "      <th>text</th>\n",
       "    </tr>\n",
       "  </thead>\n",
       "  <tbody>\n",
       "    <tr>\n",
       "      <th>0</th>\n",
       "      <td>Aeschylus</td>\n",
       "      <td>Agamemnon</td>\n",
       "      <td>lines 1-39</td>\n",
       "      <td>Release from this weary task of mine has been ...</td>\n",
       "    </tr>\n",
       "    <tr>\n",
       "      <th>1</th>\n",
       "      <td>Euripides</td>\n",
       "      <td>Ion</td>\n",
       "      <td>lines 1-40</td>\n",
       "      <td>Before the Temple of Apollo at Delphi . The su...</td>\n",
       "    </tr>\n",
       "    <tr>\n",
       "      <th>2</th>\n",
       "      <td>Euripides</td>\n",
       "      <td>Heracles</td>\n",
       "      <td>lines 1-25</td>\n",
       "      <td>Before the palace of Heracles at Thebes . Near...</td>\n",
       "    </tr>\n",
       "    <tr>\n",
       "      <th>3</th>\n",
       "      <td>Euripides</td>\n",
       "      <td>Hippolytus</td>\n",
       "      <td>lines 1-33</td>\n",
       "      <td>Aphrodite enters above the skene. Aphrodite Ap...</td>\n",
       "    </tr>\n",
       "    <tr>\n",
       "      <th>4</th>\n",
       "      <td>Euripides</td>\n",
       "      <td>Heracleidae</td>\n",
       "      <td>lines 1-47</td>\n",
       "      <td>The skene represents the temple of Zeus Agorai...</td>\n",
       "    </tr>\n",
       "  </tbody>\n",
       "</table>\n",
       "</div>"
      ],
      "text/plain": [
       "      author        title     section  \\\n",
       "0  Aeschylus    Agamemnon  lines 1-39   \n",
       "1  Euripides          Ion  lines 1-40   \n",
       "2  Euripides     Heracles  lines 1-25   \n",
       "3  Euripides   Hippolytus  lines 1-33   \n",
       "4  Euripides  Heracleidae  lines 1-47   \n",
       "\n",
       "                                                text  \n",
       "0  Release from this weary task of mine has been ...  \n",
       "1  Before the Temple of Apollo at Delphi . The su...  \n",
       "2  Before the palace of Heracles at Thebes . Near...  \n",
       "3  Aphrodite enters above the skene. Aphrodite Ap...  \n",
       "4  The skene represents the temple of Zeus Agorai...  "
      ]
     },
     "execution_count": 156,
     "metadata": {},
     "output_type": "execute_result"
    }
   ],
   "source": [
    "# Load in Pandas df\n",
    "data_path = \"../data/ancient_sources.csv.gz\"\n",
    "df = pd.read_csv(data_path, compression=\"gzip\")\n",
    "df.head()"
   ]
  },
  {
   "cell_type": "code",
   "execution_count": 157,
   "id": "07f78d48-8bcd-4041-8b5f-5ecfa7960c8a",
   "metadata": {
    "tags": []
   },
   "outputs": [
    {
     "data": {
      "text/plain": [
       "(111709, 4)"
      ]
     },
     "execution_count": 157,
     "metadata": {},
     "output_type": "execute_result"
    }
   ],
   "source": [
    "# Check size\n",
    "df.shape"
   ]
  },
  {
   "cell_type": "markdown",
   "id": "07fe66f1-2da3-4dfe-a2fc-cd60b0d89358",
   "metadata": {},
   "source": [
    "## Data cleaning and EDA"
   ]
  },
  {
   "cell_type": "code",
   "execution_count": 158,
   "id": "13611913-2c27-4084-9b01-2393fbf6cdae",
   "metadata": {
    "tags": []
   },
   "outputs": [],
   "source": [
    "# Append index as ID\n",
    "df['Id'] = df.index"
   ]
  },
  {
   "cell_type": "code",
   "execution_count": 159,
   "id": "dc6b9b01-f951-4672-be1e-71752a1651e2",
   "metadata": {
    "tags": []
   },
   "outputs": [],
   "source": [
    "# Delete rows without text\n",
    "df.drop(df[df[\"text\"].isna()].index, inplace=True)\n",
    "\n",
    "# Transform rows with NaN section to \"\"\n",
    "df['section'] = df['section'].fillna(\"\")"
   ]
  },
  {
   "cell_type": "code",
   "execution_count": 160,
   "id": "5b83d70a-72ea-4b6f-bb76-2c8549a9d868",
   "metadata": {
    "tags": []
   },
   "outputs": [
    {
     "data": {
      "text/plain": [
       "(111707, 5)"
      ]
     },
     "execution_count": 160,
     "metadata": {},
     "output_type": "execute_result"
    }
   ],
   "source": [
    "# Check new size\n",
    "df.shape"
   ]
  },
  {
   "cell_type": "code",
   "execution_count": 161,
   "id": "d09d1d0b-7f5a-416c-bf8d-70819c4dd0f7",
   "metadata": {
    "tags": []
   },
   "outputs": [
    {
     "data": {
      "text/html": [
       "<div>\n",
       "<style scoped>\n",
       "    .dataframe tbody tr th:only-of-type {\n",
       "        vertical-align: middle;\n",
       "    }\n",
       "\n",
       "    .dataframe tbody tr th {\n",
       "        vertical-align: top;\n",
       "    }\n",
       "\n",
       "    .dataframe thead th {\n",
       "        text-align: right;\n",
       "    }\n",
       "</style>\n",
       "<table border=\"1\" class=\"dataframe\">\n",
       "  <thead>\n",
       "    <tr style=\"text-align: right;\">\n",
       "      <th></th>\n",
       "      <th>author</th>\n",
       "      <th>title</th>\n",
       "      <th>section</th>\n",
       "      <th>text</th>\n",
       "      <th>Id</th>\n",
       "      <th>num_words</th>\n",
       "    </tr>\n",
       "  </thead>\n",
       "  <tbody>\n",
       "    <tr>\n",
       "      <th>0</th>\n",
       "      <td>Aeschylus</td>\n",
       "      <td>Agamemnon</td>\n",
       "      <td>lines 1-39</td>\n",
       "      <td>Release from this weary task of mine has been ...</td>\n",
       "      <td>0</td>\n",
       "      <td>445</td>\n",
       "    </tr>\n",
       "    <tr>\n",
       "      <th>1</th>\n",
       "      <td>Euripides</td>\n",
       "      <td>Ion</td>\n",
       "      <td>lines 1-40</td>\n",
       "      <td>Before the Temple of Apollo at Delphi . The su...</td>\n",
       "      <td>1</td>\n",
       "      <td>357</td>\n",
       "    </tr>\n",
       "    <tr>\n",
       "      <th>2</th>\n",
       "      <td>Euripides</td>\n",
       "      <td>Heracles</td>\n",
       "      <td>lines 1-25</td>\n",
       "      <td>Before the palace of Heracles at Thebes . Near...</td>\n",
       "      <td>2</td>\n",
       "      <td>279</td>\n",
       "    </tr>\n",
       "    <tr>\n",
       "      <th>3</th>\n",
       "      <td>Euripides</td>\n",
       "      <td>Hippolytus</td>\n",
       "      <td>lines 1-33</td>\n",
       "      <td>Aphrodite enters above the skene. Aphrodite Ap...</td>\n",
       "      <td>3</td>\n",
       "      <td>349</td>\n",
       "    </tr>\n",
       "    <tr>\n",
       "      <th>4</th>\n",
       "      <td>Euripides</td>\n",
       "      <td>Heracleidae</td>\n",
       "      <td>lines 1-47</td>\n",
       "      <td>The skene represents the temple of Zeus Agorai...</td>\n",
       "      <td>4</td>\n",
       "      <td>554</td>\n",
       "    </tr>\n",
       "  </tbody>\n",
       "</table>\n",
       "</div>"
      ],
      "text/plain": [
       "      author        title     section  \\\n",
       "0  Aeschylus    Agamemnon  lines 1-39   \n",
       "1  Euripides          Ion  lines 1-40   \n",
       "2  Euripides     Heracles  lines 1-25   \n",
       "3  Euripides   Hippolytus  lines 1-33   \n",
       "4  Euripides  Heracleidae  lines 1-47   \n",
       "\n",
       "                                                text  Id  num_words  \n",
       "0  Release from this weary task of mine has been ...   0        445  \n",
       "1  Before the Temple of Apollo at Delphi . The su...   1        357  \n",
       "2  Before the palace of Heracles at Thebes . Near...   2        279  \n",
       "3  Aphrodite enters above the skene. Aphrodite Ap...   3        349  \n",
       "4  The skene represents the temple of Zeus Agorai...   4        554  "
      ]
     },
     "execution_count": 161,
     "metadata": {},
     "output_type": "execute_result"
    }
   ],
   "source": [
    "# Create a function that counts number of words of a text\n",
    "def count_words(text):\n",
    "    return len(text.split())\n",
    "\n",
    "# Append a column with the number of words of the texts\n",
    "df[\"num_words\"] = df[\"text\"].apply(count_words)\n",
    "\n",
    "# Show first rows\n",
    "df.head()"
   ]
  },
  {
   "cell_type": "code",
   "execution_count": 162,
   "id": "084e26e2-6dbb-45d9-91db-f212327fa7be",
   "metadata": {
    "tags": []
   },
   "outputs": [
    {
     "data": {
      "text/plain": [
       "count    111707.000000\n",
       "mean        179.352252\n",
       "std         367.455390\n",
       "min           1.000000\n",
       "25%          58.000000\n",
       "50%          94.000000\n",
       "75%         173.000000\n",
       "max       31177.000000\n",
       "Name: num_words, dtype: float64"
      ]
     },
     "execution_count": 162,
     "metadata": {},
     "output_type": "execute_result"
    }
   ],
   "source": [
    "df[\"num_words\"].describe()"
   ]
  },
  {
   "cell_type": "code",
   "execution_count": 163,
   "id": "e3390e5b-7d30-49b9-9c71-1e13412e1578",
   "metadata": {
    "tags": []
   },
   "outputs": [
    {
     "data": {
      "image/png": "[encoded data removed]",
      "text/plain": [
       "<Figure size 640x480 with 1 Axes>"
      ]
     },
     "metadata": {},
     "output_type": "display_data"
    }
   ],
   "source": [
    "# Boxplot\n",
    "boxplot_stats = plt.boxplot(df['num_words'])\n",
    "plt.title('Number of words per text');"
   ]
  },
  {
   "cell_type": "code",
   "execution_count": 164,
   "id": "b160ea2a-974b-4629-b7d7-9156888af039",
   "metadata": {
    "tags": []
   },
   "outputs": [
    {
     "name": "stdout",
     "output_type": "stream",
     "text": [
      "Upper whisker: 345.0\n"
     ]
    }
   ],
   "source": [
    "whiskers = [item.get_ydata() for item in boxplot_stats['whiskers']]\n",
    "upp_whisker = whiskers[1][1]\n",
    "print(\"Upper whisker:\", upp_whisker)"
   ]
  },
  {
   "cell_type": "code",
   "execution_count": 165,
   "id": "8d8c7fe2-983e-4c0e-9909-d4258f3b7ccc",
   "metadata": {
    "tags": []
   },
   "outputs": [
    {
     "data": {
      "text/plain": [
       "(7786, 6)"
      ]
     },
     "execution_count": 165,
     "metadata": {},
     "output_type": "execute_result"
    }
   ],
   "source": [
    "df[df[\"num_words\"] > 512].shape"
   ]
  },
  {
   "cell_type": "markdown",
   "id": "979c9035-96a5-40dc-80d8-b9851ee64997",
   "metadata": {},
   "source": [
    "The upper limit stablished by boxplot is 345 words, so let's cut all the texts with a number of words higher than 512 (a bit higher than the boxplot upper limit). With this change, more of the 90% of the text will remain with the full text. Hopefully, this will make the embbeding calculation ligther."
   ]
  },
  {
   "cell_type": "code",
   "execution_count": 166,
   "id": "1a55e9a4-1582-44df-9ae2-a05d5fec0678",
   "metadata": {
    "tags": []
   },
   "outputs": [
    {
     "data": {
      "text/html": [
       "<div>\n",
       "<style scoped>\n",
       "    .dataframe tbody tr th:only-of-type {\n",
       "        vertical-align: middle;\n",
       "    }\n",
       "\n",
       "    .dataframe tbody tr th {\n",
       "        vertical-align: top;\n",
       "    }\n",
       "\n",
       "    .dataframe thead th {\n",
       "        text-align: right;\n",
       "    }\n",
       "</style>\n",
       "<table border=\"1\" class=\"dataframe\">\n",
       "  <thead>\n",
       "    <tr style=\"text-align: right;\">\n",
       "      <th></th>\n",
       "      <th>author</th>\n",
       "      <th>title</th>\n",
       "      <th>section</th>\n",
       "      <th>text</th>\n",
       "      <th>Id</th>\n",
       "      <th>num_words</th>\n",
       "    </tr>\n",
       "  </thead>\n",
       "  <tbody>\n",
       "    <tr>\n",
       "      <th>0</th>\n",
       "      <td>Aeschylus</td>\n",
       "      <td>Agamemnon</td>\n",
       "      <td>lines 1-39</td>\n",
       "      <td>Release from this weary task of mine has been ...</td>\n",
       "      <td>0</td>\n",
       "      <td>445</td>\n",
       "    </tr>\n",
       "    <tr>\n",
       "      <th>1</th>\n",
       "      <td>Euripides</td>\n",
       "      <td>Ion</td>\n",
       "      <td>lines 1-40</td>\n",
       "      <td>Before the Temple of Apollo at Delphi . The su...</td>\n",
       "      <td>1</td>\n",
       "      <td>357</td>\n",
       "    </tr>\n",
       "    <tr>\n",
       "      <th>2</th>\n",
       "      <td>Euripides</td>\n",
       "      <td>Heracles</td>\n",
       "      <td>lines 1-25</td>\n",
       "      <td>Before the palace of Heracles at Thebes . Near...</td>\n",
       "      <td>2</td>\n",
       "      <td>279</td>\n",
       "    </tr>\n",
       "    <tr>\n",
       "      <th>3</th>\n",
       "      <td>Euripides</td>\n",
       "      <td>Hippolytus</td>\n",
       "      <td>lines 1-33</td>\n",
       "      <td>Aphrodite enters above the skene. Aphrodite Ap...</td>\n",
       "      <td>3</td>\n",
       "      <td>349</td>\n",
       "    </tr>\n",
       "    <tr>\n",
       "      <th>4</th>\n",
       "      <td>Euripides</td>\n",
       "      <td>Heracleidae</td>\n",
       "      <td>lines 1-47</td>\n",
       "      <td>The skene represents the temple of Zeus Agorai...</td>\n",
       "      <td>4</td>\n",
       "      <td>512</td>\n",
       "    </tr>\n",
       "  </tbody>\n",
       "</table>\n",
       "</div>"
      ],
      "text/plain": [
       "      author        title     section  \\\n",
       "0  Aeschylus    Agamemnon  lines 1-39   \n",
       "1  Euripides          Ion  lines 1-40   \n",
       "2  Euripides     Heracles  lines 1-25   \n",
       "3  Euripides   Hippolytus  lines 1-33   \n",
       "4  Euripides  Heracleidae  lines 1-47   \n",
       "\n",
       "                                                text  Id  num_words  \n",
       "0  Release from this weary task of mine has been ...   0        445  \n",
       "1  Before the Temple of Apollo at Delphi . The su...   1        357  \n",
       "2  Before the palace of Heracles at Thebes . Near...   2        279  \n",
       "3  Aphrodite enters above the skene. Aphrodite Ap...   3        349  \n",
       "4  The skene represents the temple of Zeus Agorai...   4        512  "
      ]
     },
     "execution_count": 166,
     "metadata": {},
     "output_type": "execute_result"
    }
   ],
   "source": [
    "# Define function that truncates the longer texts\n",
    "def truncate_texts(text, max_num_words=512):\n",
    "    word_list = text.split()\n",
    "    if len(word_list) > max_num_words:\n",
    "        word_list = word_list[:max_num_words]\n",
    "\n",
    "    return \" \".join(word_list)\n",
    "\n",
    "# Apply to all the texts\n",
    "df[\"text\"] = df[\"text\"].apply(truncate_texts)\n",
    "\n",
    "# Count again the num of words\n",
    "df[\"num_words\"] = df[\"text\"].apply(count_words)\n",
    "\n",
    "# Check df\n",
    "df.head()"
   ]
  },
  {
   "cell_type": "code",
   "execution_count": 167,
   "id": "531c4e52-7df6-421d-9676-7190ee2f40e8",
   "metadata": {
    "tags": []
   },
   "outputs": [
    {
     "data": {
      "text/plain": [
       "count    111707.000000\n",
       "mean        148.231821\n",
       "std         143.268450\n",
       "min           1.000000\n",
       "25%          58.000000\n",
       "50%          94.000000\n",
       "75%         173.000000\n",
       "max         512.000000\n",
       "Name: num_words, dtype: float64"
      ]
     },
     "execution_count": 167,
     "metadata": {},
     "output_type": "execute_result"
    }
   ],
   "source": [
    "# Check statistics again\n",
    "df[\"num_words\"].describe()"
   ]
  },
  {
   "cell_type": "code",
   "execution_count": 168,
   "id": "146915e6-8705-49a3-8f3e-4da171e15990",
   "metadata": {
    "tags": []
   },
   "outputs": [],
   "source": [
    "# Drop number of words column\n",
    "df.drop('num_words', axis=1, inplace=True)"
   ]
  },
  {
   "cell_type": "markdown",
   "id": "c45a63ca-6394-444d-93bb-9a46769d5948",
   "metadata": {},
   "source": [
    "## Generate text embeddings for vector search"
   ]
  },
  {
   "cell_type": "markdown",
   "id": "98f6b467-9157-4839-9c3f-399c6116a609",
   "metadata": {},
   "source": [
    "We are going to use *msmarco-roberta-base-ance-firstp* model, which is well suited for long passages of text and is fine-tunned for dot product similarity, which is usually preferred for long passages of text (our case). Also, it is optimized for ANCE (Approximate Nearest Neighbor Search). Later, we will have to take all this into account by configuring Elasticsearch k-NN to use dot product and Approximate Nearest Neighbor Search."
   ]
  },
  {
   "cell_type": "code",
   "execution_count": 169,
   "id": "bc619f8e-b6df-4fa3-b9f1-423114e3ff54",
   "metadata": {
    "tags": []
   },
   "outputs": [],
   "source": [
    "# Transform into a list of dicts\n",
    "df_dict = df.to_dict(orient=\"records\")\n",
    "\n",
    "# Generate list with all the texts\n",
    "texts_list = [source[\"text\"]for source in df_dict]"
   ]
  },
  {
   "cell_type": "code",
   "execution_count": 180,
   "id": "caa031f1-a233-4315-a00a-ca299afe8264",
   "metadata": {
    "tags": []
   },
   "outputs": [
    {
     "name": "stderr",
     "output_type": "stream",
     "text": [
      "/usr/local/python/3.12.1/lib/python3.12/site-packages/transformers/tokenization_utils_base.py:1601: FutureWarning: `clean_up_tokenization_spaces` was not set. It will be set to `True` by default. This behavior will be depracted in transformers v4.45, and will be then set to `False` by default. For more details check this issue: https://github.com/huggingface/transformers/issues/31884\n",
      "  warnings.warn(\n"
     ]
    }
   ],
   "source": [
    "# Load the msmarco-roberta-base-ance-firstp\n",
    "model = SentenceTransformer('msmarco-roberta-base-ance-firstp')\n",
    "\n",
    "# Load it for GPU exec\n",
    "# model = SentenceTransformer('msmarco-roberta-base-ance-firstp', device='cuda')"
   ]
  },
  {
   "cell_type": "code",
   "execution_count": 20,
   "id": "6c9141ff-c23c-4680-a7fa-ffc0106401e2",
   "metadata": {
    "execution": {
     "iopub.execute_input": "2024-09-05T11:30:48.147716Z",
     "iopub.status.busy": "2024-09-05T11:30:48.147331Z",
     "iopub.status.idle": "2024-09-05T11:30:48.235579Z",
     "shell.execute_reply": "2024-09-05T11:30:48.234575Z",
     "shell.execute_reply.started": "2024-09-05T11:30:48.147690Z"
    },
    "tags": []
   },
   "outputs": [
    {
     "name": "stdout",
     "output_type": "stream",
     "text": [
      "CUDA Available: True\n",
      "Device Count: 1\n",
      "Current Device: 0\n",
      "Device Name: Tesla T4\n"
     ]
    }
   ],
   "source": [
    "# Check for GPU availability\n",
    "print(f\"CUDA Available: {torch.cuda.is_available()}\")\n",
    "print(f\"Device Count: {torch.cuda.device_count()}\")\n",
    "print(f\"Current Device: {torch.cuda.current_device()}\")\n",
    "print(f\"Device Name: {torch.cuda.get_device_name(torch.cuda.current_device())}\")"
   ]
  },
  {
   "cell_type": "code",
   "execution_count": 21,
   "id": "3f1264cb-12aa-4746-8e5c-219bd76634bf",
   "metadata": {
    "execution": {
     "iopub.execute_input": "2024-09-05T11:31:32.763142Z",
     "iopub.status.busy": "2024-09-05T11:31:32.762437Z",
     "iopub.status.idle": "2024-09-05T12:04:36.189124Z",
     "shell.execute_reply": "2024-09-05T12:04:36.188393Z",
     "shell.execute_reply.started": "2024-09-05T11:31:32.763111Z"
    },
    "tags": []
   },
   "outputs": [
    {
     "data": {
      "application/vnd.jupyter.widget-view+json": {
       "model_id": "3e5d13b840cd4b1998b15e174cbfc260",
       "version_major": 2,
       "version_minor": 0
      },
      "text/plain": [
       "Batches:   0%|          | 0/3491 [00:00<?, ?it/s]"
      ]
     },
     "metadata": {},
     "output_type": "display_data"
    }
   ],
   "source": [
    "# Compute embeddings\n",
    "embeddings = model.encode(texts_list, batch_size=32, show_progress_bar=True)"
   ]
  },
  {
   "cell_type": "code",
   "execution_count": null,
   "id": "bc99cf59-27cf-4f56-9539-729e057b5307",
   "metadata": {},
   "outputs": [],
   "source": [
    "# Save embeddings\n",
    "with h5py.File('../data/embeddings.h5', 'w') as hf:\n",
    "    hf.create_dataset('embeddings', data=embeddings, compression='gzip', compression_opts=9)"
   ]
  },
  {
   "cell_type": "code",
   "execution_count": 170,
   "id": "85c838dd",
   "metadata": {},
   "outputs": [],
   "source": [
    "# Load embeddings\n",
    "with h5py.File('../data/embeddings.h5', 'r') as hf:\n",
    "    dataset = hf['embeddings']\n",
    "    \n",
    "    # Load the data into a NumPy array\n",
    "    embeddings = dataset[:]"
   ]
  },
  {
   "cell_type": "code",
   "execution_count": 171,
   "id": "2993218e-cd8f-4d97-94f7-86fd764ffa8d",
   "metadata": {},
   "outputs": [
    {
     "data": {
      "text/plain": [
       "(111707, 768)"
      ]
     },
     "execution_count": 171,
     "metadata": {},
     "output_type": "execute_result"
    }
   ],
   "source": [
    "# Show dims\n",
    "embeddings.shape"
   ]
  },
  {
   "cell_type": "code",
   "execution_count": 172,
   "id": "f89f659d-d85e-43d4-bda4-eb14b3c40ecc",
   "metadata": {},
   "outputs": [],
   "source": [
    "# The vectors have to be normalized in order to use dot product similarity in elasticsearch\n",
    "def normalize_vector(vector):\n",
    "    norm = np.linalg.norm(vector)\n",
    "    if norm == 0:\n",
    "        return vector  # Avoid division by zero\n",
    "    return vector / norm\n",
    "\n",
    "normalized_embeddings = np.apply_along_axis(normalize_vector, 1, embeddings)"
   ]
  },
  {
   "cell_type": "code",
   "execution_count": 173,
   "id": "4fd61067-9162-402c-b9c5-fe99586e5531",
   "metadata": {},
   "outputs": [
    {
     "data": {
      "text/plain": [
       "(111707, 768)"
      ]
     },
     "execution_count": 173,
     "metadata": {},
     "output_type": "execute_result"
    }
   ],
   "source": [
    "normalized_embeddings.shape"
   ]
  },
  {
   "cell_type": "code",
   "execution_count": 174,
   "id": "5de9a4d4-71f5-4598-abda-2839592de13a",
   "metadata": {},
   "outputs": [],
   "source": [
    "# Append embeddings to the corresponding sources\n",
    "for i, source in enumerate(df_dict):\n",
    "    source[\"text_embedding\"] = normalized_embeddings[i]"
   ]
  },
  {
   "cell_type": "markdown",
   "id": "4fdb386b-7336-4ae8-87a7-0434bf625934",
   "metadata": {},
   "source": [
    "## Generate title embeddings with OpenAI"
   ]
  },
  {
   "cell_type": "code",
   "execution_count": 120,
   "id": "78fbe77d-9a23-4153-b44b-7b1b2b1a53f5",
   "metadata": {},
   "outputs": [],
   "source": [
    "# Login keys\n",
    "load_dotenv()\n",
    "\n",
    "# To interact with OpenAI\n",
    "client = OpenAI()"
   ]
  },
  {
   "cell_type": "code",
   "execution_count": 121,
   "id": "29ecacc8-07fb-47fe-9ae1-cc3165831060",
   "metadata": {},
   "outputs": [],
   "source": [
    "# Function that obtains the embeddings of a list of titles\n",
    "def get_embeddings(texts, model=\"text-embedding-3-small\", dimensions=256):\n",
    "    # Ensure texts are in a list and each text is cleaned\n",
    "    cleaned_texts = [text.replace(\"\\n\", \" \") for text in texts]\n",
    "\n",
    "    # Call the OpenAI API to generate embeddings for all texts\n",
    "    response = client.embeddings.create(\n",
    "        input=cleaned_texts, \n",
    "        model=model,\n",
    "        dimensions=dimensions\n",
    "    )\n",
    "\n",
    "    # Extract embeddings from the response\n",
    "    embeddings = [item.embedding for item in response.data]\n",
    "\n",
    "    # Return as numpy array\n",
    "    return np.array(embeddings)"
   ]
  },
  {
   "cell_type": "code",
   "execution_count": 122,
   "id": "f8255bac-c0c2-4012-a4e7-f7b331ce0451",
   "metadata": {},
   "outputs": [],
   "source": [
    "# Obtain all the list of titles\n",
    "titles_list = [source[\"title\"] for source in df_dict]"
   ]
  },
  {
   "cell_type": "code",
   "execution_count": 126,
   "id": "696789f0-7251-49ce-bf08-8d91522a78a8",
   "metadata": {},
   "outputs": [],
   "source": [
    "# Generate batches\n",
    "batch_size = 500\n",
    "batches = [titles_list[i:i + batch_size] for i in range(0, len(titles_list), batch_size)]"
   ]
  },
  {
   "cell_type": "code",
   "execution_count": 132,
   "id": "85aa07ca-2194-4d55-89ec-2193e365a0b1",
   "metadata": {},
   "outputs": [
    {
     "data": {
      "application/vnd.jupyter.widget-view+json": {
       "model_id": "0c130ff0a3de44b38c23af7f5878c8c8",
       "version_major": 2,
       "version_minor": 0
      },
      "text/plain": [
       "  0%|          | 0/224 [00:00<?, ?it/s]"
      ]
     },
     "metadata": {},
     "output_type": "display_data"
    }
   ],
   "source": [
    "# Compute embeddings in batch mode\n",
    "title_embeddings = []\n",
    "\n",
    "for i, batch in enumerate(tqdm(batches)):\n",
    "    try:\n",
    "        title_embeddings.append(get_embeddings(batch))\n",
    "    except Exception as e:\n",
    "        print(f\"Failed to generate embeddings for batch: {i}. Error: {str(e)}\")"
   ]
  },
  {
   "cell_type": "code",
   "execution_count": 137,
   "id": "5925cbcf-596a-4ba9-b748-ba30d5dadde1",
   "metadata": {},
   "outputs": [],
   "source": [
    "title_embeddings_def = []\n",
    "\n",
    "for batch in title_embeddings:\n",
    "    for emb in batch:\n",
    "        title_embeddings_def.append(emb)"
   ]
  },
  {
   "cell_type": "code",
   "execution_count": 142,
   "id": "52dd5299-0b00-4ff3-b308-a99c9733d941",
   "metadata": {},
   "outputs": [],
   "source": [
    "title_embeddings_array = np.array(title_embeddings_def)"
   ]
  },
  {
   "cell_type": "code",
   "execution_count": 144,
   "id": "56e04964-ddbe-4bd4-aeb3-30e8cbd00a4f",
   "metadata": {},
   "outputs": [
    {
     "data": {
      "text/plain": [
       "(111707, 256)"
      ]
     },
     "execution_count": 144,
     "metadata": {},
     "output_type": "execute_result"
    }
   ],
   "source": [
    "title_embeddings_array.shape"
   ]
  },
  {
   "cell_type": "code",
   "execution_count": 145,
   "id": "b7847e4f-3e0c-4ff3-bc0a-fba2edadadd8",
   "metadata": {},
   "outputs": [],
   "source": [
    "# Save title embeddings\n",
    "with h5py.File('../data/title_embeddings.h5', 'w') as hf:\n",
    "    hf.create_dataset('title_embeddings', data=title_embeddings_array, compression='gzip', compression_opts=9)"
   ]
  },
  {
   "cell_type": "code",
   "execution_count": null,
   "id": "36725729-ca1b-4fd3-a830-ef44b7d92ae6",
   "metadata": {},
   "outputs": [],
   "source": [
    "# Load title embeddings\n",
    "with h5py.File('../data/title_embeddings.h5', 'r') as hf:\n",
    "    dataset = hf['title_embeddings']\n",
    "    \n",
    "    # Load the data into a NumPy array\n",
    "    title_embeddings_array = dataset[:]"
   ]
  },
  {
   "cell_type": "code",
   "execution_count": 151,
   "id": "42623319-95f6-4435-80f6-78af575f472e",
   "metadata": {},
   "outputs": [],
   "source": [
    "# Append embeddings to the corresponding sources\n",
    "for i, source in enumerate(df_dict):\n",
    "    source[\"title_embedding\"] = title_embeddings_array[i]"
   ]
  },
  {
   "cell_type": "markdown",
   "id": "4abbdd7b-5ead-4a31-b1a1-c4cc3b79d64f",
   "metadata": {},
   "source": [
    "## Indexing with Elasticsearch"
   ]
  },
  {
   "cell_type": "code",
   "execution_count": 175,
   "id": "d50f3ac6-646d-447a-be35-9744e6e6a5b3",
   "metadata": {},
   "outputs": [],
   "source": [
    "es_client = Elasticsearch(\"http://localhost:9200\")"
   ]
  },
  {
   "cell_type": "code",
   "execution_count": 176,
   "id": "0b4c2df9-b982-40c9-8668-0ff22ba02c64",
   "metadata": {},
   "outputs": [
    {
     "data": {
      "text/plain": [
       "ObjectApiResponse({'name': 'a990a1e2e254', 'cluster_name': 'docker-cluster', 'cluster_uuid': 'AfI-EwkTQRS7S0r8-lovww', 'version': {'number': '8.15.0', 'build_flavor': 'default', 'build_type': 'docker', 'build_hash': '1a77947f34deddb41af25e6f0ddb8e830159c179', 'build_date': '2024-08-05T10:05:34.233336849Z', 'build_snapshot': False, 'lucene_version': '9.11.1', 'minimum_wire_compatibility_version': '7.17.0', 'minimum_index_compatibility_version': '7.0.0'}, 'tagline': 'You Know, for Search'})"
      ]
     },
     "execution_count": 176,
     "metadata": {},
     "output_type": "execute_result"
    }
   ],
   "source": [
    "es_client.info()"
   ]
  },
  {
   "cell_type": "code",
   "execution_count": 177,
   "id": "3820fa7a-c721-42d7-8d57-f6263567aa39",
   "metadata": {},
   "outputs": [
    {
     "data": {
      "text/plain": [
       "ObjectApiResponse({'acknowledged': True, 'shards_acknowledged': True, 'index': 'ancient_sources_db_index'})"
      ]
     },
     "execution_count": 177,
     "metadata": {},
     "output_type": "execute_result"
    }
   ],
   "source": [
    "# Create Elasticsearch index\n",
    "index_settings = {\n",
    "    \"settings\": {\n",
    "        \"number_of_shards\": 1,\n",
    "        \"number_of_replicas\": 0\n",
    "    },\n",
    "    \"mappings\": {\n",
    "        \"properties\": {\n",
    "            \"author\": {\"type\": \"text\"},\n",
    "            \"title\": {\"type\": \"text\"},\n",
    "            \"text\": {\"type\": \"text\"},\n",
    "            \"section\": {\"type\": \"keyword\"},\n",
    "            \"id\": {\"type\": \"keyword\"},\n",
    "            \"text_embedding\": {\n",
    "                \"type\": \"dense_vector\",\n",
    "                \"dims\": 768,\n",
    "                \"element_type\": \"float\",\n",
    "                \"index\": True,\n",
    "                \"similarity\": \"dot_product\",\n",
    "                \"index_options\": {\n",
    "                    \"type\": \"int8_hnsw\"\n",
    "                }\n",
    "            }\n",
    "        }\n",
    "    }\n",
    "}\n",
    "\n",
    "index_name = \"ancient_sources_db_index\"\n",
    "\n",
    "es_client.indices.delete(index=index_name, ignore_unavailable=True)\n",
    "es_client.indices.create(index=index_name, body=index_settings)"
   ]
  },
  {
   "cell_type": "code",
   "execution_count": 179,
   "id": "ada78e79-9295-4715-9604-745f40250eb2",
   "metadata": {},
   "outputs": [
    {
     "data": {
      "application/vnd.jupyter.widget-view+json": {
       "model_id": "db9424b7cbbe4b0b9d6efa3bf067e82f",
       "version_major": 2,
       "version_minor": 0
      },
      "text/plain": [
       "  0%|          | 0/111707 [00:00<?, ?it/s]"
      ]
     },
     "metadata": {},
     "output_type": "display_data"
    }
   ],
   "source": [
    "# Index all the ancient sources\n",
    "for src in tqdm(df_dict):\n",
    "    es_client.index(index=index_name, document=src)"
   ]
  },
  {
   "cell_type": "code",
   "execution_count": 181,
   "id": "07163cd9-7fd5-4af9-b563-556816c3d154",
   "metadata": {},
   "outputs": [],
   "source": [
    "# Test question\n",
    "question = \"Could you give me the Hannibal description?\"\n",
    "\n",
    "q_embedding = model.encode(question)\n",
    "q_emb_normalized = normalize_vector(q_embedding)"
   ]
  },
  {
   "cell_type": "code",
   "execution_count": 182,
   "id": "df09e63c-a518-48a9-8a41-f8c61045c6de",
   "metadata": {},
   "outputs": [],
   "source": [
    "# Vector search query\n",
    "knn_query = {\n",
    "    \"field\": \"text_embedding\",\n",
    "    \"query_vector\": q_emb_normalized,\n",
    "    \"k\": 5,\n",
    "    \"num_candidates\": 1000,\n",
    "    \"boost\": 1,\n",
    "}"
   ]
  },
  {
   "cell_type": "code",
   "execution_count": 183,
   "id": "244c7f00-791d-42ee-a9d1-fb2aa80b87d3",
   "metadata": {},
   "outputs": [],
   "source": [
    "# Semantic search query\n",
    "keyword_query = {\n",
    "    \"bool\": {\n",
    "        \"must\": {\n",
    "            \"multi_match\": {\n",
    "                \"query\": question,\n",
    "                \"fields\": [\"author\", \"title^2\", \"text\"],\n",
    "                \"type\": \"best_fields\",\n",
    "                \"boost\": 1,\n",
    "            }\n",
    "        }\n",
    "    }\n",
    "}"
   ]
  },
  {
   "cell_type": "code",
   "execution_count": 184,
   "id": "ab56e02f-b901-4b80-b186-57d5dd54730f",
   "metadata": {},
   "outputs": [],
   "source": [
    "index_name = \"ancient_sources_db_index\"\n",
    "\n",
    "response = es_client.search(\n",
    "    index=index_name,\n",
    "    query=keyword_query,\n",
    "    knn=knn_query,\n",
    "    size=5,\n",
    "    _source={\n",
    "        \"excludes\": [\"text_embedding\"]  # Exclude the embedding vectors of the response\n",
    "    }\n",
    ")"
   ]
  },
  {
   "cell_type": "code",
   "execution_count": 185,
   "id": "cb3b7630-951c-44b0-97dc-084349c4faf3",
   "metadata": {},
   "outputs": [
    {
     "name": "stdout",
     "output_type": "stream",
     "text": [
      "Author: Demosthenes\n",
      "Title: On the Crown\n",
      "Section: On the Crown, section 250\n",
      "Text: [ 250 ] When, on my impeachment, you acquitted me, and did not give the prosecutors the fifth part of your votes, your verdict implied approval of my policy. When I was indicted, I satisfied you that my proposals and my speeches had been constitutional. When you put the seal on my accounts, you further admitted that I had done my business honestly and without corruption. That being so, what description could Ctesiphon properly and honestly have applied to my conduct, other than that which he had seen applied by the whole nation and by sworn juries, and confirmed by the truth in the eyes of all men?\n",
      "\n",
      "Author: Plato\n",
      "Title: Euthydemus\n",
      "Section: Euthydemus, section 286a\n",
      "Text: [ 286a ] as each is, or as it is not? As it is. Yes, he said, for if you recollect, Ctesippus, we showed just now that no one speaks of a thing as it is not; since we saw that no one speaks what is not. Well, what of that? asked Ctesippus: are you and I contradicting any the less? Now tell me, he said, could we contradict if we both spoke the description of the same thing? In this case should we not surely speak the same words? He agreed. But when neither of us speaks the description of the thing, he asked,\n",
      "\n",
      "Author: Titus Livius (Livy)\n",
      "Title: The History of Rome, Book 28\n",
      "Section: BOOK XXVIII., chapter 41\n",
      "Text: 41. \"It is but fair, Publius Cornelius, that you should pardon me, if I, who in my own case never preferred the honour of men to the interest of the state, do not place even your fame before the public good. [ 2 ] Although, if there were either no war in Italy, or an enemy of such a description that no glory could be acquired from conquering him, the man who would retain you in Italy, though actuated by a desire to promote the public good, might appear to wish to deprive you of an opportunity of acquiring renown when he objected to your removing the war. [ 3 ] But since Hannibal is our antagonist, who is besieging Italy for now the fourteenth year, with an army unimpaired, will you have reason to be dissatisfied, Publius Cornelius, with the glory you will acquire, if you in your consulate shall drive out of Italy an enemy who has been the cause of so many deaths and so many disasters to us, and if you should enjoy the distinction of having terminated this, as Caius Lutatius did the former Punic war? [ 4 ] Unless either Hamilcar is a general more worthy of consideration than Hannibal, or a war in Africa of more importance, or a victory there greater and more glorious, (should it be our lot to be victorious while you are consul,) than one here. Would you rather have drawn away Hamilcar from Drepanum and Eryx than have expelled the Carthaginians and Hannibal from Italy? [ 5 ] Although you naturally prize more highly the renown which you have acquired than that which [ 6?? ] you hope for, yet surely you would not boast more of having freed Spain from war than of having freed Italy. [ 7 ] Hannibal is not as yet in such a state as that the man who prefers another war would not appear to have feared rather than to have despised him. Why then do you not apply yourself to this, and carry the war in a straightforward manner to the place where Hannibal is, rather than pursue that circuitous course, according to which you expect that when you shall have crossed over into Africa Hannibal will follow you thither? Do you seek to obtain the distinguished honour of having finished the Punic war? [ 8 ] After you have defended your own possessions, for this is naturally the first object, then proceed to attack those of others. [ 9 ] Let there be peace in Italy before war in [p. 1219] Africa; and let us be free from fear ourselves before we bring it upon others. [ 10 ] If it is possible that both objects may be accomplished under your conduct and auspices, having first conquered Hannibal here, then go and lay siege to Carthage; but if one or other of these conquests must be left for the succeeding consuls, the former is both the greater and more glorious, and also the cause of the second. [ 11 ] For now\n",
      "\n",
      "Author: Titus Livius (Livy)\n",
      "Title: The History of Rome, Book 23\n",
      "Section: BOOK XXIII., chapter 9\n",
      "Text: 9. On hearing and seeing which the old man, as though he were actually present at the transactions which were being [ 2?? ] named to him, wild with fear, exclaimed, “I implore, I beseech you, my son, by all the ties which unite children to parents, that you will not resolve to commit and to suffer every thing that is horrible before the eyes of a father. [ 3 ] Did we but a few hours ago, swearing by every deity, and joining right hands, pledge our fidelity to Hannibal, that immediately on separating from the conference we should arm against him the hands which were employed as the sacred pledges of our faith? [ 4 ] Do you rise from the hospitable board to which as one of three of the Campanians you have been admitted by Hannibal, that you may ensanguine that very board with the blood of your host. Could I conciliate Hannibal to my son, and not my son to Hannibal? [ 5 ] But let nothing be held sacred by you, neither our pledges, nor the sense of religion, nor filial duty; let the most horrid deeds be dared, if with guilt they bring not ruin upon us. [ 6 ] Will you singly attack Hannibal? What will that numerous throng of freemen and slaves be doing? What the eyes of all intent on him alone? [ 7 ] What those so many right hands? Will they be torpid amidst your madness? Will you be able to bear the look of Hannibal him- self, which armed hosts cannot sustain, from which the Roman people shrink with horror? [ 8 ] And though other assistance be wanting, will you have the hardihood to strike me when I oppose my body in defence of Hannibal's? But know that through my breast you must strike and transfix him. Suffer yourself to be deterred from your attempt here, rather than to be defeated there. May my entreaties prevail with you, as they did for you this day.” [ 9 ] Upon this, perceiving the youth in tears, he threw his arms around him, and kissing him affectionately, ceased not his entreaties until he prevailed upon him to lay aside his sword and give his promise that he would do no such thing. [ 10 ] The young man then observed, “I will in- [p. 845] deed pay to my father the debt of duty which I owe to my country, but I am grieved for you on whom the guilt of having thrice betrayed your country rests; [ 11 ] once when you sanctioned the revolt from the Romans; next when you advised the alliance with Hannibal; and thirdly, this day, when you are the delay and impediment of the restoration of Capua to the Romans. [ 12 ] Do thou, my country, receive this weapon, armed with which in thy behalf I would fain have defended this citadel, since a father wrests it from me.” [ 13 ] Having thus said, he threw the sword into the highway over\n",
      "\n",
      "Author: M. Tullius Cicero\n",
      "Title: Divination\n",
      "Section: Book II, section 52\n",
      "Text: [ 52 ] For how many things predicted by them really come true? If any [p. 431] do come true, then what reason can be advanced why the agreement of the event with the prophecy was not due to chance? While Hannibal was in exile at the court of King Prusias he advised the king to go to war, but the king replied, 'I do not dare, because the entrails forbid.' ' And do you,' said Hannibal, 'put more reliance in pieces of ox-meat than you do in a veteran commander?' Again, when Caesar himself was warned by a most eminent soothsayer not to cross over to Africa before the winter solstice, did he not cross? If he had not done so all the forces opposed to him would have effected a junction. Why need I give instances—and, in fact, I could give countless ones—where the prophecies of soothsayers either were without result or the issue was directly the reverse of the prophecy?\n",
      "\n"
     ]
    }
   ],
   "source": [
    "for answer in response[\"hits\"][\"hits\"]:\n",
    "    print(f\"Author: {answer[\"_source\"][\"author\"]}\\nTitle: {answer[\"_source\"][\"title\"]}\\nSection: {answer[\"_source\"][\"section\"]}\\nText: {answer[\"_source\"][\"text\"]}\\n\")"
   ]
  }
 ],
 "metadata": {
  "kernelspec": {
   "display_name": "Python 3 (ipykernel)",
   "language": "python",
   "name": "python3"
  },
  "language_info": {
   "codemirror_mode": {
    "name": "ipython",
    "version": 3
   },
   "file_extension": ".py",
   "mimetype": "text/x-python",
   "name": "python",
   "nbconvert_exporter": "python",
   "pygments_lexer": "ipython3",
   "version": "3.12.1"
  }
 },
 "nbformat": 4,
 "nbformat_minor": 5
}
