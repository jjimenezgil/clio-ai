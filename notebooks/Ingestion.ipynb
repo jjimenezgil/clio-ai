{
 "cells": [
  {
   "cell_type": "markdown",
   "id": "cd32f1c8-0d0a-4f39-a62d-04bcc5a3f33f",
   "metadata": {},
   "source": [
    "# Data preparation and ingestion"
   ]
  },
  {
   "cell_type": "code",
   "execution_count": 1,
   "id": "5e4a621b-6c69-418a-b0bf-311088f5ca18",
   "metadata": {
    "tags": []
   },
   "outputs": [
    {
     "name": "stderr",
     "output_type": "stream",
     "text": [
      "/usr/local/python/3.12.1/lib/python3.12/site-packages/sentence_transformers/cross_encoder/CrossEncoder.py:11: TqdmExperimentalWarning: Using `tqdm.autonotebook.tqdm` in notebook mode. Use `tqdm.tqdm` instead to force console mode (e.g. in jupyter console)\n",
      "  from tqdm.autonotebook import tqdm, trange\n"
     ]
    }
   ],
   "source": [
    "# Imports\n",
    "import pandas as pd\n",
    "import numpy as np\n",
    "from tqdm.notebook import trange, tqdm\n",
    "from elasticsearch import Elasticsearch\n",
    "from statistics import median\n",
    "from sentence_transformers import SentenceTransformer\n",
    "import pickle\n",
    "import matplotlib.pyplot as plt\n",
    "import torch\n",
    "import h5py"
   ]
  },
  {
   "cell_type": "markdown",
   "id": "72a45e88-8705-4fca-b0bb-4bc5892a0aeb",
   "metadata": {},
   "source": [
    "## Load the data"
   ]
  },
  {
   "cell_type": "code",
   "execution_count": 2,
   "id": "5aef7c64-1791-416f-bab9-0ef5ca5ab38e",
   "metadata": {
    "tags": []
   },
   "outputs": [
    {
     "data": {
      "text/html": [
       "<div>\n",
       "<style scoped>\n",
       "    .dataframe tbody tr th:only-of-type {\n",
       "        vertical-align: middle;\n",
       "    }\n",
       "\n",
       "    .dataframe tbody tr th {\n",
       "        vertical-align: top;\n",
       "    }\n",
       "\n",
       "    .dataframe thead th {\n",
       "        text-align: right;\n",
       "    }\n",
       "</style>\n",
       "<table border=\"1\" class=\"dataframe\">\n",
       "  <thead>\n",
       "    <tr style=\"text-align: right;\">\n",
       "      <th></th>\n",
       "      <th>author</th>\n",
       "      <th>title</th>\n",
       "      <th>section</th>\n",
       "      <th>text</th>\n",
       "    </tr>\n",
       "  </thead>\n",
       "  <tbody>\n",
       "    <tr>\n",
       "      <th>0</th>\n",
       "      <td>Aeschylus</td>\n",
       "      <td>Agamemnon</td>\n",
       "      <td>lines 1-39</td>\n",
       "      <td>Release from this weary task of mine has been ...</td>\n",
       "    </tr>\n",
       "    <tr>\n",
       "      <th>1</th>\n",
       "      <td>Euripides</td>\n",
       "      <td>Ion</td>\n",
       "      <td>lines 1-40</td>\n",
       "      <td>Before the Temple of Apollo at Delphi . The su...</td>\n",
       "    </tr>\n",
       "    <tr>\n",
       "      <th>2</th>\n",
       "      <td>Euripides</td>\n",
       "      <td>Heracles</td>\n",
       "      <td>lines 1-25</td>\n",
       "      <td>Before the palace of Heracles at Thebes . Near...</td>\n",
       "    </tr>\n",
       "    <tr>\n",
       "      <th>3</th>\n",
       "      <td>Euripides</td>\n",
       "      <td>Hippolytus</td>\n",
       "      <td>lines 1-33</td>\n",
       "      <td>Aphrodite enters above the skene. Aphrodite Ap...</td>\n",
       "    </tr>\n",
       "    <tr>\n",
       "      <th>4</th>\n",
       "      <td>Euripides</td>\n",
       "      <td>Heracleidae</td>\n",
       "      <td>lines 1-47</td>\n",
       "      <td>The skene represents the temple of Zeus Agorai...</td>\n",
       "    </tr>\n",
       "  </tbody>\n",
       "</table>\n",
       "</div>"
      ],
      "text/plain": [
       "      author        title     section  \\\n",
       "0  Aeschylus    Agamemnon  lines 1-39   \n",
       "1  Euripides          Ion  lines 1-40   \n",
       "2  Euripides     Heracles  lines 1-25   \n",
       "3  Euripides   Hippolytus  lines 1-33   \n",
       "4  Euripides  Heracleidae  lines 1-47   \n",
       "\n",
       "                                                text  \n",
       "0  Release from this weary task of mine has been ...  \n",
       "1  Before the Temple of Apollo at Delphi . The su...  \n",
       "2  Before the palace of Heracles at Thebes . Near...  \n",
       "3  Aphrodite enters above the skene. Aphrodite Ap...  \n",
       "4  The skene represents the temple of Zeus Agorai...  "
      ]
     },
     "execution_count": 2,
     "metadata": {},
     "output_type": "execute_result"
    }
   ],
   "source": [
    "# Load in Pandas df\n",
    "data_path = \"../data/ancient_sources.csv.gz\"\n",
    "df = pd.read_csv(data_path, compression=\"gzip\")\n",
    "df.head()"
   ]
  },
  {
   "cell_type": "code",
   "execution_count": 3,
   "id": "07f78d48-8bcd-4041-8b5f-5ecfa7960c8a",
   "metadata": {
    "tags": []
   },
   "outputs": [
    {
     "data": {
      "text/plain": [
       "(111709, 4)"
      ]
     },
     "execution_count": 3,
     "metadata": {},
     "output_type": "execute_result"
    }
   ],
   "source": [
    "# Check size\n",
    "df.shape"
   ]
  },
  {
   "cell_type": "markdown",
   "id": "07fe66f1-2da3-4dfe-a2fc-cd60b0d89358",
   "metadata": {},
   "source": [
    "## Data cleaning and EDA"
   ]
  },
  {
   "cell_type": "code",
   "execution_count": 4,
   "id": "13611913-2c27-4084-9b01-2393fbf6cdae",
   "metadata": {
    "tags": []
   },
   "outputs": [],
   "source": [
    "# Append index as ID\n",
    "df['Id'] = df.index"
   ]
  },
  {
   "cell_type": "code",
   "execution_count": 5,
   "id": "dc6b9b01-f951-4672-be1e-71752a1651e2",
   "metadata": {
    "tags": []
   },
   "outputs": [],
   "source": [
    "# Delete rows without text\n",
    "df.drop(df[df[\"text\"].isna()].index, inplace=True)\n",
    "\n",
    "# Transform rows with NaN section to \"\"\n",
    "df['section'] = df['section'].fillna(\"\")"
   ]
  },
  {
   "cell_type": "code",
   "execution_count": 6,
   "id": "5b83d70a-72ea-4b6f-bb76-2c8549a9d868",
   "metadata": {
    "tags": []
   },
   "outputs": [
    {
     "data": {
      "text/plain": [
       "(111707, 5)"
      ]
     },
     "execution_count": 6,
     "metadata": {},
     "output_type": "execute_result"
    }
   ],
   "source": [
    "# Check new size\n",
    "df.shape"
   ]
  },
  {
   "cell_type": "code",
   "execution_count": 7,
   "id": "d09d1d0b-7f5a-416c-bf8d-70819c4dd0f7",
   "metadata": {
    "tags": []
   },
   "outputs": [
    {
     "data": {
      "text/html": [
       "<div>\n",
       "<style scoped>\n",
       "    .dataframe tbody tr th:only-of-type {\n",
       "        vertical-align: middle;\n",
       "    }\n",
       "\n",
       "    .dataframe tbody tr th {\n",
       "        vertical-align: top;\n",
       "    }\n",
       "\n",
       "    .dataframe thead th {\n",
       "        text-align: right;\n",
       "    }\n",
       "</style>\n",
       "<table border=\"1\" class=\"dataframe\">\n",
       "  <thead>\n",
       "    <tr style=\"text-align: right;\">\n",
       "      <th></th>\n",
       "      <th>author</th>\n",
       "      <th>title</th>\n",
       "      <th>section</th>\n",
       "      <th>text</th>\n",
       "      <th>Id</th>\n",
       "      <th>num_words</th>\n",
       "    </tr>\n",
       "  </thead>\n",
       "  <tbody>\n",
       "    <tr>\n",
       "      <th>0</th>\n",
       "      <td>Aeschylus</td>\n",
       "      <td>Agamemnon</td>\n",
       "      <td>lines 1-39</td>\n",
       "      <td>Release from this weary task of mine has been ...</td>\n",
       "      <td>0</td>\n",
       "      <td>445</td>\n",
       "    </tr>\n",
       "    <tr>\n",
       "      <th>1</th>\n",
       "      <td>Euripides</td>\n",
       "      <td>Ion</td>\n",
       "      <td>lines 1-40</td>\n",
       "      <td>Before the Temple of Apollo at Delphi . The su...</td>\n",
       "      <td>1</td>\n",
       "      <td>357</td>\n",
       "    </tr>\n",
       "    <tr>\n",
       "      <th>2</th>\n",
       "      <td>Euripides</td>\n",
       "      <td>Heracles</td>\n",
       "      <td>lines 1-25</td>\n",
       "      <td>Before the palace of Heracles at Thebes . Near...</td>\n",
       "      <td>2</td>\n",
       "      <td>279</td>\n",
       "    </tr>\n",
       "    <tr>\n",
       "      <th>3</th>\n",
       "      <td>Euripides</td>\n",
       "      <td>Hippolytus</td>\n",
       "      <td>lines 1-33</td>\n",
       "      <td>Aphrodite enters above the skene. Aphrodite Ap...</td>\n",
       "      <td>3</td>\n",
       "      <td>349</td>\n",
       "    </tr>\n",
       "    <tr>\n",
       "      <th>4</th>\n",
       "      <td>Euripides</td>\n",
       "      <td>Heracleidae</td>\n",
       "      <td>lines 1-47</td>\n",
       "      <td>The skene represents the temple of Zeus Agorai...</td>\n",
       "      <td>4</td>\n",
       "      <td>554</td>\n",
       "    </tr>\n",
       "  </tbody>\n",
       "</table>\n",
       "</div>"
      ],
      "text/plain": [
       "      author        title     section  \\\n",
       "0  Aeschylus    Agamemnon  lines 1-39   \n",
       "1  Euripides          Ion  lines 1-40   \n",
       "2  Euripides     Heracles  lines 1-25   \n",
       "3  Euripides   Hippolytus  lines 1-33   \n",
       "4  Euripides  Heracleidae  lines 1-47   \n",
       "\n",
       "                                                text  Id  num_words  \n",
       "0  Release from this weary task of mine has been ...   0        445  \n",
       "1  Before the Temple of Apollo at Delphi . The su...   1        357  \n",
       "2  Before the palace of Heracles at Thebes . Near...   2        279  \n",
       "3  Aphrodite enters above the skene. Aphrodite Ap...   3        349  \n",
       "4  The skene represents the temple of Zeus Agorai...   4        554  "
      ]
     },
     "execution_count": 7,
     "metadata": {},
     "output_type": "execute_result"
    }
   ],
   "source": [
    "# Create a function that counts number of words of a text\n",
    "def count_words(text):\n",
    "    return len(text.split())\n",
    "\n",
    "# Append a column with the number of words of the texts\n",
    "df[\"num_words\"] = df[\"text\"].apply(count_words)\n",
    "\n",
    "# Show first rows\n",
    "df.head()"
   ]
  },
  {
   "cell_type": "code",
   "execution_count": 8,
   "id": "084e26e2-6dbb-45d9-91db-f212327fa7be",
   "metadata": {
    "tags": []
   },
   "outputs": [
    {
     "data": {
      "text/plain": [
       "count    111707.000000\n",
       "mean        179.352252\n",
       "std         367.455390\n",
       "min           1.000000\n",
       "25%          58.000000\n",
       "50%          94.000000\n",
       "75%         173.000000\n",
       "max       31177.000000\n",
       "Name: num_words, dtype: float64"
      ]
     },
     "execution_count": 8,
     "metadata": {},
     "output_type": "execute_result"
    }
   ],
   "source": [
    "df[\"num_words\"].describe()"
   ]
  },
  {
   "cell_type": "code",
   "execution_count": 9,
   "id": "e3390e5b-7d30-49b9-9c71-1e13412e1578",
   "metadata": {
    "tags": []
   },
   "outputs": [
    {
     "data": {
      "image/png": "[encoded data removed]",
      "text/plain": [
       "<Figure size 640x480 with 1 Axes>"
      ]
     },
     "metadata": {},
     "output_type": "display_data"
    }
   ],
   "source": [
    "# Boxplot\n",
    "boxplot_stats = plt.boxplot(df['num_words'])\n",
    "plt.title('Number of words per text');"
   ]
  },
  {
   "cell_type": "code",
   "execution_count": 10,
   "id": "b160ea2a-974b-4629-b7d7-9156888af039",
   "metadata": {
    "tags": []
   },
   "outputs": [
    {
     "name": "stdout",
     "output_type": "stream",
     "text": [
      "Upper whisker: 345.0\n"
     ]
    }
   ],
   "source": [
    "whiskers = [item.get_ydata() for item in boxplot_stats['whiskers']]\n",
    "upp_whisker = whiskers[1][1]\n",
    "print(\"Upper whisker:\", upp_whisker)"
   ]
  },
  {
   "cell_type": "code",
   "execution_count": 11,
   "id": "8d8c7fe2-983e-4c0e-9909-d4258f3b7ccc",
   "metadata": {
    "tags": []
   },
   "outputs": [
    {
     "data": {
      "text/plain": [
       "(7786, 6)"
      ]
     },
     "execution_count": 11,
     "metadata": {},
     "output_type": "execute_result"
    }
   ],
   "source": [
    "df[df[\"num_words\"] > 512].shape"
   ]
  },
  {
   "cell_type": "markdown",
   "id": "979c9035-96a5-40dc-80d8-b9851ee64997",
   "metadata": {},
   "source": [
    "The upper limit stablished by boxplot is 345 words, so let's cut all the texts with a number of words higher than 512 (a bit higher than the boxplot upper limit). With this change, more of the 90% of the text will remain with the full text. Hopefully, this will make the embbeding calculation ligther."
   ]
  },
  {
   "cell_type": "code",
   "execution_count": 12,
   "id": "1a55e9a4-1582-44df-9ae2-a05d5fec0678",
   "metadata": {
    "tags": []
   },
   "outputs": [
    {
     "data": {
      "text/html": [
       "<div>\n",
       "<style scoped>\n",
       "    .dataframe tbody tr th:only-of-type {\n",
       "        vertical-align: middle;\n",
       "    }\n",
       "\n",
       "    .dataframe tbody tr th {\n",
       "        vertical-align: top;\n",
       "    }\n",
       "\n",
       "    .dataframe thead th {\n",
       "        text-align: right;\n",
       "    }\n",
       "</style>\n",
       "<table border=\"1\" class=\"dataframe\">\n",
       "  <thead>\n",
       "    <tr style=\"text-align: right;\">\n",
       "      <th></th>\n",
       "      <th>author</th>\n",
       "      <th>title</th>\n",
       "      <th>section</th>\n",
       "      <th>text</th>\n",
       "      <th>Id</th>\n",
       "      <th>num_words</th>\n",
       "    </tr>\n",
       "  </thead>\n",
       "  <tbody>\n",
       "    <tr>\n",
       "      <th>0</th>\n",
       "      <td>Aeschylus</td>\n",
       "      <td>Agamemnon</td>\n",
       "      <td>lines 1-39</td>\n",
       "      <td>Release from this weary task of mine has been ...</td>\n",
       "      <td>0</td>\n",
       "      <td>445</td>\n",
       "    </tr>\n",
       "    <tr>\n",
       "      <th>1</th>\n",
       "      <td>Euripides</td>\n",
       "      <td>Ion</td>\n",
       "      <td>lines 1-40</td>\n",
       "      <td>Before the Temple of Apollo at Delphi . The su...</td>\n",
       "      <td>1</td>\n",
       "      <td>357</td>\n",
       "    </tr>\n",
       "    <tr>\n",
       "      <th>2</th>\n",
       "      <td>Euripides</td>\n",
       "      <td>Heracles</td>\n",
       "      <td>lines 1-25</td>\n",
       "      <td>Before the palace of Heracles at Thebes . Near...</td>\n",
       "      <td>2</td>\n",
       "      <td>279</td>\n",
       "    </tr>\n",
       "    <tr>\n",
       "      <th>3</th>\n",
       "      <td>Euripides</td>\n",
       "      <td>Hippolytus</td>\n",
       "      <td>lines 1-33</td>\n",
       "      <td>Aphrodite enters above the skene. Aphrodite Ap...</td>\n",
       "      <td>3</td>\n",
       "      <td>349</td>\n",
       "    </tr>\n",
       "    <tr>\n",
       "      <th>4</th>\n",
       "      <td>Euripides</td>\n",
       "      <td>Heracleidae</td>\n",
       "      <td>lines 1-47</td>\n",
       "      <td>The skene represents the temple of Zeus Agorai...</td>\n",
       "      <td>4</td>\n",
       "      <td>512</td>\n",
       "    </tr>\n",
       "  </tbody>\n",
       "</table>\n",
       "</div>"
      ],
      "text/plain": [
       "      author        title     section  \\\n",
       "0  Aeschylus    Agamemnon  lines 1-39   \n",
       "1  Euripides          Ion  lines 1-40   \n",
       "2  Euripides     Heracles  lines 1-25   \n",
       "3  Euripides   Hippolytus  lines 1-33   \n",
       "4  Euripides  Heracleidae  lines 1-47   \n",
       "\n",
       "                                                text  Id  num_words  \n",
       "0  Release from this weary task of mine has been ...   0        445  \n",
       "1  Before the Temple of Apollo at Delphi . The su...   1        357  \n",
       "2  Before the palace of Heracles at Thebes . Near...   2        279  \n",
       "3  Aphrodite enters above the skene. Aphrodite Ap...   3        349  \n",
       "4  The skene represents the temple of Zeus Agorai...   4        512  "
      ]
     },
     "execution_count": 12,
     "metadata": {},
     "output_type": "execute_result"
    }
   ],
   "source": [
    "# Define function that truncates the longer texts\n",
    "def truncate_texts(text, max_num_words=512):\n",
    "    word_list = text.split()\n",
    "    if len(word_list) > max_num_words:\n",
    "        word_list = word_list[:max_num_words]\n",
    "\n",
    "    return \" \".join(word_list)\n",
    "\n",
    "# Apply to all the texts\n",
    "df[\"text\"] = df[\"text\"].apply(truncate_texts)\n",
    "\n",
    "# Count again the num of words\n",
    "df[\"num_words\"] = df[\"text\"].apply(count_words)\n",
    "\n",
    "# Check df\n",
    "df.head()"
   ]
  },
  {
   "cell_type": "code",
   "execution_count": 13,
   "id": "531c4e52-7df6-421d-9676-7190ee2f40e8",
   "metadata": {
    "tags": []
   },
   "outputs": [
    {
     "data": {
      "text/plain": [
       "count    111707.000000\n",
       "mean        148.231821\n",
       "std         143.268450\n",
       "min           1.000000\n",
       "25%          58.000000\n",
       "50%          94.000000\n",
       "75%         173.000000\n",
       "max         512.000000\n",
       "Name: num_words, dtype: float64"
      ]
     },
     "execution_count": 13,
     "metadata": {},
     "output_type": "execute_result"
    }
   ],
   "source": [
    "# Check statistics again\n",
    "df[\"num_words\"].describe()"
   ]
  },
  {
   "cell_type": "code",
   "execution_count": 14,
   "id": "146915e6-8705-49a3-8f3e-4da171e15990",
   "metadata": {
    "tags": []
   },
   "outputs": [],
   "source": [
    "# Drop number of words column\n",
    "df.drop('num_words', axis=1, inplace=True)"
   ]
  },
  {
   "cell_type": "markdown",
   "id": "c45a63ca-6394-444d-93bb-9a46769d5948",
   "metadata": {},
   "source": [
    "## Generate embeddings for vector search"
   ]
  },
  {
   "cell_type": "markdown",
   "id": "98f6b467-9157-4839-9c3f-399c6116a609",
   "metadata": {},
   "source": [
    "We are going to use *msmarco-roberta-base-ance-firstp* model, which is well suited for long passages of text and is fine-tunned for dot product similarity, which is usually preferred for long passages of text (our case). Also, it is optimized for ANCE (Approximate Nearest Neighbor Search). Later, we will have to take all this into account by configuring Elasticsearch k-NN to use dot product and Approximate Nearest Neighbor Search."
   ]
  },
  {
   "cell_type": "code",
   "execution_count": 15,
   "id": "bc619f8e-b6df-4fa3-b9f1-423114e3ff54",
   "metadata": {
    "tags": []
   },
   "outputs": [],
   "source": [
    "# Transform into a list of dicts\n",
    "df_dict = df.to_dict(orient=\"records\")\n",
    "\n",
    "# Generate list with all the texts\n",
    "texts_list = [source[\"text\"]for source in df_dict]"
   ]
  },
  {
   "cell_type": "code",
   "execution_count": 2,
   "id": "caa031f1-a233-4315-a00a-ca299afe8264",
   "metadata": {
    "tags": []
   },
   "outputs": [
    {
     "name": "stderr",
     "output_type": "stream",
     "text": [
      "/usr/local/python/3.12.1/lib/python3.12/site-packages/transformers/tokenization_utils_base.py:1601: FutureWarning: `clean_up_tokenization_spaces` was not set. It will be set to `True` by default. This behavior will be depracted in transformers v4.45, and will be then set to `False` by default. For more details check this issue: https://github.com/huggingface/transformers/issues/31884\n",
      "  warnings.warn(\n"
     ]
    }
   ],
   "source": [
    "# Load the msmarco-roberta-base-ance-firstp\n",
    "model = SentenceTransformer('msmarco-roberta-base-ance-firstp')\n",
    "\n",
    "# Load it for GPU exec\n",
    "# model = SentenceTransformer('msmarco-roberta-base-ance-firstp', device='cuda')"
   ]
  },
  {
   "cell_type": "code",
   "execution_count": 20,
   "id": "6c9141ff-c23c-4680-a7fa-ffc0106401e2",
   "metadata": {
    "execution": {
     "iopub.execute_input": "2024-09-05T11:30:48.147716Z",
     "iopub.status.busy": "2024-09-05T11:30:48.147331Z",
     "iopub.status.idle": "2024-09-05T11:30:48.235579Z",
     "shell.execute_reply": "2024-09-05T11:30:48.234575Z",
     "shell.execute_reply.started": "2024-09-05T11:30:48.147690Z"
    },
    "tags": []
   },
   "outputs": [
    {
     "name": "stdout",
     "output_type": "stream",
     "text": [
      "CUDA Available: True\n",
      "Device Count: 1\n",
      "Current Device: 0\n",
      "Device Name: Tesla T4\n"
     ]
    }
   ],
   "source": [
    "# Check for GPU availability\n",
    "print(f\"CUDA Available: {torch.cuda.is_available()}\")\n",
    "print(f\"Device Count: {torch.cuda.device_count()}\")\n",
    "print(f\"Current Device: {torch.cuda.current_device()}\")\n",
    "print(f\"Device Name: {torch.cuda.get_device_name(torch.cuda.current_device())}\")"
   ]
  },
  {
   "cell_type": "code",
   "execution_count": 21,
   "id": "3f1264cb-12aa-4746-8e5c-219bd76634bf",
   "metadata": {
    "execution": {
     "iopub.execute_input": "2024-09-05T11:31:32.763142Z",
     "iopub.status.busy": "2024-09-05T11:31:32.762437Z",
     "iopub.status.idle": "2024-09-05T12:04:36.189124Z",
     "shell.execute_reply": "2024-09-05T12:04:36.188393Z",
     "shell.execute_reply.started": "2024-09-05T11:31:32.763111Z"
    },
    "tags": []
   },
   "outputs": [
    {
     "data": {
      "application/vnd.jupyter.widget-view+json": {
       "model_id": "3e5d13b840cd4b1998b15e174cbfc260",
       "version_major": 2,
       "version_minor": 0
      },
      "text/plain": [
       "Batches:   0%|          | 0/3491 [00:00<?, ?it/s]"
      ]
     },
     "metadata": {},
     "output_type": "display_data"
    }
   ],
   "source": [
    "# Compute embeddings\n",
    "embeddings = model.encode(texts_list, batch_size=32, show_progress_bar=True)"
   ]
  },
  {
   "cell_type": "code",
   "execution_count": null,
   "id": "bc99cf59-27cf-4f56-9539-729e057b5307",
   "metadata": {},
   "outputs": [],
   "source": [
    "# Save embeddings\n",
    "with h5py.File('../data/embeddings.h5', 'w') as hf:\n",
    "    hf.create_dataset('embeddings', data=embeddings, compression='gzip', compression_opts=9)"
   ]
  },
  {
   "cell_type": "code",
   "execution_count": 16,
   "id": "85c838dd",
   "metadata": {},
   "outputs": [],
   "source": [
    "# Load embeddings\n",
    "with h5py.File('../data/embeddings.h5', 'r') as hf:\n",
    "    dataset = hf['embeddings']\n",
    "    \n",
    "    # Load the data into a NumPy array\n",
    "    embeddings = dataset[:]"
   ]
  },
  {
   "cell_type": "code",
   "execution_count": 17,
   "id": "2993218e-cd8f-4d97-94f7-86fd764ffa8d",
   "metadata": {},
   "outputs": [
    {
     "data": {
      "text/plain": [
       "(111707, 768)"
      ]
     },
     "execution_count": 17,
     "metadata": {},
     "output_type": "execute_result"
    }
   ],
   "source": [
    "# Show dims\n",
    "embeddings.shape"
   ]
  },
  {
   "cell_type": "code",
   "execution_count": 6,
   "id": "f89f659d-d85e-43d4-bda4-eb14b3c40ecc",
   "metadata": {},
   "outputs": [],
   "source": [
    "# The vectors have to be normalized in order to use dot product similarity in elasticsearch\n",
    "def normalize_vector(vector):\n",
    "    norm = np.linalg.norm(vector)\n",
    "    if norm == 0:\n",
    "        return vector  # Avoid division by zero\n",
    "    return vector / norm\n",
    "\n",
    "normalized_embeddings = np.apply_along_axis(normalize_vector, 1, embeddings)"
   ]
  },
  {
   "cell_type": "code",
   "execution_count": 27,
   "id": "4fd61067-9162-402c-b9c5-fe99586e5531",
   "metadata": {},
   "outputs": [
    {
     "data": {
      "text/plain": [
       "(111707, 768)"
      ]
     },
     "execution_count": 27,
     "metadata": {},
     "output_type": "execute_result"
    }
   ],
   "source": [
    "normalized_embeddings.shape"
   ]
  },
  {
   "cell_type": "code",
   "execution_count": 28,
   "id": "5de9a4d4-71f5-4598-abda-2839592de13a",
   "metadata": {},
   "outputs": [],
   "source": [
    "# Append embeddings to the corresponding sources\n",
    "for i, source in enumerate(df_dict):\n",
    "    source[\"text_embedding\"] = normalized_embeddings[i]"
   ]
  },
  {
   "cell_type": "markdown",
   "id": "4abbdd7b-5ead-4a31-b1a1-c4cc3b79d64f",
   "metadata": {},
   "source": [
    "## Indexing with Elasticsearch"
   ]
  },
  {
   "cell_type": "code",
   "execution_count": 3,
   "id": "d50f3ac6-646d-447a-be35-9744e6e6a5b3",
   "metadata": {},
   "outputs": [],
   "source": [
    "es_client = Elasticsearch(\"http://localhost:9200\")"
   ]
  },
  {
   "cell_type": "code",
   "execution_count": 4,
   "id": "0b4c2df9-b982-40c9-8668-0ff22ba02c64",
   "metadata": {},
   "outputs": [
    {
     "data": {
      "text/plain": [
       "ObjectApiResponse({'name': '4ef77c03f492', 'cluster_name': 'docker-cluster', 'cluster_uuid': 'iTn8qOQfQfGf5IrgpVRuow', 'version': {'number': '8.15.0', 'build_flavor': 'default', 'build_type': 'docker', 'build_hash': '1a77947f34deddb41af25e6f0ddb8e830159c179', 'build_date': '2024-08-05T10:05:34.233336849Z', 'build_snapshot': False, 'lucene_version': '9.11.1', 'minimum_wire_compatibility_version': '7.17.0', 'minimum_index_compatibility_version': '7.0.0'}, 'tagline': 'You Know, for Search'})"
      ]
     },
     "execution_count": 4,
     "metadata": {},
     "output_type": "execute_result"
    }
   ],
   "source": [
    "es_client.info()"
   ]
  },
  {
   "cell_type": "code",
   "execution_count": 32,
   "id": "3820fa7a-c721-42d7-8d57-f6263567aa39",
   "metadata": {},
   "outputs": [
    {
     "data": {
      "text/plain": [
       "ObjectApiResponse({'acknowledged': True, 'shards_acknowledged': True, 'index': 'ancient_sources_db_index'})"
      ]
     },
     "execution_count": 32,
     "metadata": {},
     "output_type": "execute_result"
    }
   ],
   "source": [
    "# Create Elasticsearch index\n",
    "index_settings = {\n",
    "    \"settings\": {\n",
    "        \"number_of_shards\": 1,\n",
    "        \"number_of_replicas\": 0\n",
    "    },\n",
    "    \"mappings\": {\n",
    "        \"properties\": {\n",
    "            \"author\": {\"type\": \"text\"},\n",
    "            \"title\": {\"type\": \"text\"},\n",
    "            \"text\": {\"type\": \"text\"},\n",
    "            \"section\": {\"type\": \"keyword\"},\n",
    "            \"id\": {\"type\": \"keyword\"},\n",
    "            \"text_embedding\": {\n",
    "                \"type\": \"dense_vector\",\n",
    "                \"dims\": 768,\n",
    "                \"element_type\": \"float\",\n",
    "                \"index\": True,\n",
    "                \"similarity\": \"dot_product\",\n",
    "                #\"similarity\": \"cosine\"\n",
    "                \"index_options\": {\n",
    "                    \"type\": \"int8_hnsw\"\n",
    "                }\n",
    "            }\n",
    "        }\n",
    "    }\n",
    "}\n",
    "\n",
    "index_name = \"ancient_sources_db_index\"\n",
    "\n",
    "es_client.indices.delete(index=index_name, ignore_unavailable=True)\n",
    "es_client.indices.create(index=index_name, body=index_settings)"
   ]
  },
  {
   "cell_type": "code",
   "execution_count": 33,
   "id": "ada78e79-9295-4715-9604-745f40250eb2",
   "metadata": {},
   "outputs": [
    {
     "data": {
      "application/vnd.jupyter.widget-view+json": {
       "model_id": "f158523f19ec4e04a9d602331522181d",
       "version_major": 2,
       "version_minor": 0
      },
      "text/plain": [
       "  0%|          | 0/111707 [00:00<?, ?it/s]"
      ]
     },
     "metadata": {},
     "output_type": "display_data"
    }
   ],
   "source": [
    "# Index all the ancient sources\n",
    "for src in tqdm(df_dict):\n",
    "    es_client.index(index=index_name, document=src)"
   ]
  },
  {
   "cell_type": "code",
   "execution_count": 7,
   "id": "07163cd9-7fd5-4af9-b563-556816c3d154",
   "metadata": {},
   "outputs": [],
   "source": [
    "# Test question\n",
    "question = \"What explains Plutarch about what happened with Hannibal at the end of the Second Punic War?\"\n",
    "\n",
    "q_embedding = model.encode(question)\n",
    "q_emb_normalized = normalize_vector(q_embedding)"
   ]
  },
  {
   "cell_type": "code",
   "execution_count": 8,
   "id": "df09e63c-a518-48a9-8a41-f8c61045c6de",
   "metadata": {},
   "outputs": [],
   "source": [
    "# Vector search query\n",
    "knn_query = {\n",
    "    \"field\": \"text_embedding\",\n",
    "    \"query_vector\": q_emb_normalized,\n",
    "    \"k\": 10,\n",
    "    \"num_candidates\": 1000,\n",
    "    \"boost\": 0.5,\n",
    "}"
   ]
  },
  {
   "cell_type": "code",
   "execution_count": 9,
   "id": "244c7f00-791d-42ee-a9d1-fb2aa80b87d3",
   "metadata": {},
   "outputs": [],
   "source": [
    "# Semantic search query\n",
    "keyword_query = {\n",
    "    \"bool\": {\n",
    "        \"must\": {\n",
    "            \"multi_match\": {\n",
    "                \"query\": question,\n",
    "                \"fields\": [\"author\", \"title\", \"text\"],\n",
    "                \"type\": \"best_fields\",\n",
    "                \"boost\": 0.5,\n",
    "            }\n",
    "        }\n",
    "    }\n",
    "}"
   ]
  },
  {
   "cell_type": "code",
   "execution_count": 10,
   "id": "ab56e02f-b901-4b80-b186-57d5dd54730f",
   "metadata": {},
   "outputs": [
    {
     "ename": "NotFoundError",
     "evalue": "NotFoundError(404, 'index_not_found_exception', 'no such index [ancient_sources_db_index]', ancient_sources_db_index, index_or_alias)",
     "output_type": "error",
     "traceback": [
      "\u001b[0;31m---------------------------------------------------------------------------\u001b[0m",
      "\u001b[0;31mNotFoundError\u001b[0m                             Traceback (most recent call last)",
      "Cell \u001b[0;32mIn[10], line 3\u001b[0m\n\u001b[1;32m      1\u001b[0m index_name \u001b[38;5;241m=\u001b[39m \u001b[38;5;124m\"\u001b[39m\u001b[38;5;124mancient_sources_db_index\u001b[39m\u001b[38;5;124m\"\u001b[39m\n\u001b[0;32m----> 3\u001b[0m response \u001b[38;5;241m=\u001b[39m \u001b[43mes_client\u001b[49m\u001b[38;5;241;43m.\u001b[39;49m\u001b[43msearch\u001b[49m\u001b[43m(\u001b[49m\n\u001b[1;32m      4\u001b[0m \u001b[43m    \u001b[49m\u001b[43mindex\u001b[49m\u001b[38;5;241;43m=\u001b[39;49m\u001b[43mindex_name\u001b[49m\u001b[43m,\u001b[49m\n\u001b[1;32m      5\u001b[0m \u001b[43m    \u001b[49m\u001b[43mquery\u001b[49m\u001b[38;5;241;43m=\u001b[39;49m\u001b[43mkeyword_query\u001b[49m\u001b[43m,\u001b[49m\n\u001b[1;32m      6\u001b[0m \u001b[43m    \u001b[49m\u001b[43mknn\u001b[49m\u001b[38;5;241;43m=\u001b[39;49m\u001b[43mknn_query\u001b[49m\u001b[43m,\u001b[49m\n\u001b[1;32m      7\u001b[0m \u001b[43m    \u001b[49m\u001b[43msize\u001b[49m\u001b[38;5;241;43m=\u001b[39;49m\u001b[38;5;241;43m10\u001b[39;49m\n\u001b[1;32m      8\u001b[0m \u001b[43m)\u001b[49m\n",
      "File \u001b[0;32m/usr/local/python/3.12.1/lib/python3.12/site-packages/elasticsearch/_sync/client/utils.py:446\u001b[0m, in \u001b[0;36m_rewrite_parameters.<locals>.wrapper.<locals>.wrapped\u001b[0;34m(*args, **kwargs)\u001b[0m\n\u001b[1;32m    443\u001b[0m         \u001b[38;5;28;01mexcept\u001b[39;00m \u001b[38;5;167;01mKeyError\u001b[39;00m:\n\u001b[1;32m    444\u001b[0m             \u001b[38;5;28;01mpass\u001b[39;00m\n\u001b[0;32m--> 446\u001b[0m \u001b[38;5;28;01mreturn\u001b[39;00m \u001b[43mapi\u001b[49m\u001b[43m(\u001b[49m\u001b[38;5;241;43m*\u001b[39;49m\u001b[43margs\u001b[49m\u001b[43m,\u001b[49m\u001b[43m \u001b[49m\u001b[38;5;241;43m*\u001b[39;49m\u001b[38;5;241;43m*\u001b[39;49m\u001b[43mkwargs\u001b[49m\u001b[43m)\u001b[49m\n",
      "File \u001b[0;32m/usr/local/python/3.12.1/lib/python3.12/site-packages/elasticsearch/_sync/client/__init__.py:4149\u001b[0m, in \u001b[0;36mElasticsearch.search\u001b[0;34m(self, index, aggregations, aggs, allow_no_indices, allow_partial_search_results, analyze_wildcard, analyzer, batched_reduce_size, ccs_minimize_roundtrips, collapse, default_operator, df, docvalue_fields, error_trace, expand_wildcards, explain, ext, fields, filter_path, force_synthetic_source, from_, highlight, human, ignore_throttled, ignore_unavailable, include_named_queries_score, indices_boost, knn, lenient, max_concurrent_shard_requests, min_compatible_shard_node, min_score, pit, post_filter, pre_filter_shard_size, preference, pretty, profile, q, query, rank, request_cache, rescore, rest_total_hits_as_int, retriever, routing, runtime_mappings, script_fields, scroll, search_after, search_type, seq_no_primary_term, size, slice, sort, source, source_excludes, source_includes, stats, stored_fields, suggest, suggest_field, suggest_mode, suggest_size, suggest_text, terminate_after, timeout, track_scores, track_total_hits, typed_keys, version, body)\u001b[0m\n\u001b[1;32m   4147\u001b[0m \u001b[38;5;28;01mif\u001b[39;00m __body \u001b[38;5;129;01mis\u001b[39;00m \u001b[38;5;129;01mnot\u001b[39;00m \u001b[38;5;28;01mNone\u001b[39;00m:\n\u001b[1;32m   4148\u001b[0m     __headers[\u001b[38;5;124m\"\u001b[39m\u001b[38;5;124mcontent-type\u001b[39m\u001b[38;5;124m\"\u001b[39m] \u001b[38;5;241m=\u001b[39m \u001b[38;5;124m\"\u001b[39m\u001b[38;5;124mapplication/json\u001b[39m\u001b[38;5;124m\"\u001b[39m\n\u001b[0;32m-> 4149\u001b[0m \u001b[38;5;28;01mreturn\u001b[39;00m \u001b[38;5;28;43mself\u001b[39;49m\u001b[38;5;241;43m.\u001b[39;49m\u001b[43mperform_request\u001b[49m\u001b[43m(\u001b[49m\u001b[43m  \u001b[49m\u001b[38;5;66;43;03m# type: ignore[return-value]\u001b[39;49;00m\n\u001b[1;32m   4150\u001b[0m \u001b[43m    \u001b[49m\u001b[38;5;124;43m\"\u001b[39;49m\u001b[38;5;124;43mPOST\u001b[39;49m\u001b[38;5;124;43m\"\u001b[39;49m\u001b[43m,\u001b[49m\n\u001b[1;32m   4151\u001b[0m \u001b[43m    \u001b[49m\u001b[43m__path\u001b[49m\u001b[43m,\u001b[49m\n\u001b[1;32m   4152\u001b[0m \u001b[43m    \u001b[49m\u001b[43mparams\u001b[49m\u001b[38;5;241;43m=\u001b[39;49m\u001b[43m__query\u001b[49m\u001b[43m,\u001b[49m\n\u001b[1;32m   4153\u001b[0m \u001b[43m    \u001b[49m\u001b[43mheaders\u001b[49m\u001b[38;5;241;43m=\u001b[39;49m\u001b[43m__headers\u001b[49m\u001b[43m,\u001b[49m\n\u001b[1;32m   4154\u001b[0m \u001b[43m    \u001b[49m\u001b[43mbody\u001b[49m\u001b[38;5;241;43m=\u001b[39;49m\u001b[43m__body\u001b[49m\u001b[43m,\u001b[49m\n\u001b[1;32m   4155\u001b[0m \u001b[43m    \u001b[49m\u001b[43mendpoint_id\u001b[49m\u001b[38;5;241;43m=\u001b[39;49m\u001b[38;5;124;43m\"\u001b[39;49m\u001b[38;5;124;43msearch\u001b[39;49m\u001b[38;5;124;43m\"\u001b[39;49m\u001b[43m,\u001b[49m\n\u001b[1;32m   4156\u001b[0m \u001b[43m    \u001b[49m\u001b[43mpath_parts\u001b[49m\u001b[38;5;241;43m=\u001b[39;49m\u001b[43m__path_parts\u001b[49m\u001b[43m,\u001b[49m\n\u001b[1;32m   4157\u001b[0m \u001b[43m\u001b[49m\u001b[43m)\u001b[49m\n",
      "File \u001b[0;32m/usr/local/python/3.12.1/lib/python3.12/site-packages/elasticsearch/_sync/client/_base.py:271\u001b[0m, in \u001b[0;36mBaseClient.perform_request\u001b[0;34m(self, method, path, params, headers, body, endpoint_id, path_parts)\u001b[0m\n\u001b[1;32m    255\u001b[0m \u001b[38;5;28;01mdef\u001b[39;00m \u001b[38;5;21mperform_request\u001b[39m(\n\u001b[1;32m    256\u001b[0m     \u001b[38;5;28mself\u001b[39m,\n\u001b[1;32m    257\u001b[0m     method: \u001b[38;5;28mstr\u001b[39m,\n\u001b[0;32m   (...)\u001b[0m\n\u001b[1;32m    264\u001b[0m     path_parts: Optional[Mapping[\u001b[38;5;28mstr\u001b[39m, Any]] \u001b[38;5;241m=\u001b[39m \u001b[38;5;28;01mNone\u001b[39;00m,\n\u001b[1;32m    265\u001b[0m ) \u001b[38;5;241m-\u001b[39m\u001b[38;5;241m>\u001b[39m ApiResponse[Any]:\n\u001b[1;32m    266\u001b[0m     \u001b[38;5;28;01mwith\u001b[39;00m \u001b[38;5;28mself\u001b[39m\u001b[38;5;241m.\u001b[39m_otel\u001b[38;5;241m.\u001b[39mspan(\n\u001b[1;32m    267\u001b[0m         method,\n\u001b[1;32m    268\u001b[0m         endpoint_id\u001b[38;5;241m=\u001b[39mendpoint_id,\n\u001b[1;32m    269\u001b[0m         path_parts\u001b[38;5;241m=\u001b[39mpath_parts \u001b[38;5;129;01mor\u001b[39;00m {},\n\u001b[1;32m    270\u001b[0m     ) \u001b[38;5;28;01mas\u001b[39;00m otel_span:\n\u001b[0;32m--> 271\u001b[0m         response \u001b[38;5;241m=\u001b[39m \u001b[38;5;28;43mself\u001b[39;49m\u001b[38;5;241;43m.\u001b[39;49m\u001b[43m_perform_request\u001b[49m\u001b[43m(\u001b[49m\n\u001b[1;32m    272\u001b[0m \u001b[43m            \u001b[49m\u001b[43mmethod\u001b[49m\u001b[43m,\u001b[49m\n\u001b[1;32m    273\u001b[0m \u001b[43m            \u001b[49m\u001b[43mpath\u001b[49m\u001b[43m,\u001b[49m\n\u001b[1;32m    274\u001b[0m \u001b[43m            \u001b[49m\u001b[43mparams\u001b[49m\u001b[38;5;241;43m=\u001b[39;49m\u001b[43mparams\u001b[49m\u001b[43m,\u001b[49m\n\u001b[1;32m    275\u001b[0m \u001b[43m            \u001b[49m\u001b[43mheaders\u001b[49m\u001b[38;5;241;43m=\u001b[39;49m\u001b[43mheaders\u001b[49m\u001b[43m,\u001b[49m\n\u001b[1;32m    276\u001b[0m \u001b[43m            \u001b[49m\u001b[43mbody\u001b[49m\u001b[38;5;241;43m=\u001b[39;49m\u001b[43mbody\u001b[49m\u001b[43m,\u001b[49m\n\u001b[1;32m    277\u001b[0m \u001b[43m            \u001b[49m\u001b[43motel_span\u001b[49m\u001b[38;5;241;43m=\u001b[39;49m\u001b[43motel_span\u001b[49m\u001b[43m,\u001b[49m\n\u001b[1;32m    278\u001b[0m \u001b[43m        \u001b[49m\u001b[43m)\u001b[49m\n\u001b[1;32m    279\u001b[0m         otel_span\u001b[38;5;241m.\u001b[39mset_elastic_cloud_metadata(response\u001b[38;5;241m.\u001b[39mmeta\u001b[38;5;241m.\u001b[39mheaders)\n\u001b[1;32m    280\u001b[0m         \u001b[38;5;28;01mreturn\u001b[39;00m response\n",
      "File \u001b[0;32m/usr/local/python/3.12.1/lib/python3.12/site-packages/elasticsearch/_sync/client/_base.py:352\u001b[0m, in \u001b[0;36mBaseClient._perform_request\u001b[0;34m(self, method, path, params, headers, body, otel_span)\u001b[0m\n\u001b[1;32m    349\u001b[0m         \u001b[38;5;28;01mexcept\u001b[39;00m (\u001b[38;5;167;01mValueError\u001b[39;00m, \u001b[38;5;167;01mKeyError\u001b[39;00m, \u001b[38;5;167;01mTypeError\u001b[39;00m):\n\u001b[1;32m    350\u001b[0m             \u001b[38;5;28;01mpass\u001b[39;00m\n\u001b[0;32m--> 352\u001b[0m     \u001b[38;5;28;01mraise\u001b[39;00m HTTP_EXCEPTIONS\u001b[38;5;241m.\u001b[39mget(meta\u001b[38;5;241m.\u001b[39mstatus, ApiError)(\n\u001b[1;32m    353\u001b[0m         message\u001b[38;5;241m=\u001b[39mmessage, meta\u001b[38;5;241m=\u001b[39mmeta, body\u001b[38;5;241m=\u001b[39mresp_body\n\u001b[1;32m    354\u001b[0m     )\n\u001b[1;32m    356\u001b[0m \u001b[38;5;66;03m# 'X-Elastic-Product: Elasticsearch' should be on every 2XX response.\u001b[39;00m\n\u001b[1;32m    357\u001b[0m \u001b[38;5;28;01mif\u001b[39;00m \u001b[38;5;129;01mnot\u001b[39;00m \u001b[38;5;28mself\u001b[39m\u001b[38;5;241m.\u001b[39m_verified_elasticsearch:\n\u001b[1;32m    358\u001b[0m     \u001b[38;5;66;03m# If the header is set we mark the server as verified.\u001b[39;00m\n",
      "\u001b[0;31mNotFoundError\u001b[0m: NotFoundError(404, 'index_not_found_exception', 'no such index [ancient_sources_db_index]', ancient_sources_db_index, index_or_alias)"
     ]
    }
   ],
   "source": [
    "#index_name = \"ancient_sources_db_index\"\n",
    "\n",
    "response = es_client.search(\n",
    "    index=index_name,\n",
    "    query=keyword_query,\n",
    "    knn=knn_query,\n",
    "    size=10\n",
    ")"
   ]
  },
  {
   "cell_type": "code",
   "execution_count": 52,
   "id": "cb3b7630-951c-44b0-97dc-084349c4faf3",
   "metadata": {},
   "outputs": [
    {
     "name": "stdout",
     "output_type": "stream",
     "text": [
      "Author: Plutarch\n",
      "Title: Marcellus\n",
      "Section: chapter 3, section 1\n",
      "Text: After the first Punic war had come to an end in its twenty-second year, Rome was called upon to renew her struggles with the Gauls. [Note 1: The First Punic War lasted from 265 B.C. till 241 B.C., and the Insubrians invaded Italy in 225 B.C] The Insubrians, a people of Celtic stock inhabiting that part of Italy which lies at the foot of the Alps, and strong even by themselves, called out their forces, and summoned to their aid the mercenary Gauls called Gaesatae.\n",
      "Author: Appian\n",
      "Title: Wars in Spain\n",
      "Section: THE WARS IN SPAIN, CHAPTER III\n",
      "Text: CHAPTER III War declared -- The Two Scipios -- Their Defeat and Death Y.R. 536 [ 13 ] The Romans now sent ambassadors to Carthage to B.C. 218 demand that Hannibal should be delivered up to them as a violator of the treaty unless they wished to assume the responsibility. If they would not give him up, war was to be declared forthwith. The ambassadors obeyed their instructions, and when the Carthaginians refused to give up Hannibal they declared war. It is said that it was done in the following manner. The chief of the embassy, pointing to the fold of his toga and smiling, said: \"Here, Carthaginians, I bring you peace or war, you may take whichever you choose.\" The latter replied: \"You may give us whichever you like.\" When the Romans offered war they all cried out: \"We accept it.\" Then they wrote at once to Hannibal that he was free to overrun all Spain, as the treaty was at an end. Accordingly he marched against all the neighboring tribes and brought them under subjection, persuading some, terrifying others, and subduing the rest. Then he collected a large army, telling nobody what it was for, but intending to hurl it against Italy. He also sent out ambassadors among the Gauls, and caused an examination to be made of the passes of the Alps, which he traversed later, leaving his brother Hasdrubal in command in Spain. [ 14 ] When the Romans saw that war must be waged against the Carthaginians in Spain and Africa (for they never dreamed of an incursion of Africans into Italy), they sent Tiberius Sempronius Longus with 160 ships and two legions into Africa. What Longus and the other Roman generals did in Africa has been related in my Punic history. [Note 1: No doings of Sempronius Longus in Africa are related in Appian's Punic history as it has reached us, or in any other history, so far as my knowledge extends. The consul Sempronius was carrying on war against the Carthaginians in Sicily at the time here mentioned. See Livy, xxii. 49 seq] They also ordered Publius Cornelius Scipio to Spain with sixty ships, 10,000 foot, and 700 horse, and sent his brother Gnæus Cornelius Scipio with him as a legate. The former (Publius), learning from Massilian merchants that Hannibal had crossed the Alps and entered Italy, and fearing lest he should fall upon the Italians unawares, turned over to his brother the command in Spain and sailed with his quinqueremes to Etruria. What he and the other Roman generals after him did in Italy, until, at the end of sixteen years and with exceeding difficulty, they drove Hannibal out of the country, will be shown in the following book, which will contain all the exploits of Hannibal in Italy, and is called the Hannibalic book of Roman history. [ 15 ] Gnæus did nothing in Spain worthy of mention before his brother Publius returned thither. When the latter's term of office expired, the Romans, having despatched the new consuls against Hannibal in Italy, appointed\n",
      "Author: Titus Livius (Livy)\n",
      "Title: The History of Rome, Book 28\n",
      "Section: Book XXVIII, chapter 41\n",
      "Text: 41. \"One thing it will be right, Publius Cornelius, for you to pardon me —inasmuch as in my own case I have never rated what men say more highly than the state —namely, if I do not prefer your glory, either, to the welfare of the state. [ 2 ] If, however, there were no war in Italy, or if the enemy were one from whose defeat no glory was to be earned, only then could a man who kept you in Italy, even if he did so with advantage to the state, be thought to have been bent on taking away the war from you and with it your opportunity for fame. [ 3 ] But since Hannibal as an enemy with army intact is occupying Italy for the fourteenth year, will you be dissatisfied with your fame, Publius Cornelius, if in your consulship you shall have driven out of Italy the enemy who has caused us so many losses, so many disasters, and if you shall have the distinction of finishing the present war, just as Gaius Lutatius had that of ending the former Punic war? [Note 1: Cf. Periocha 19 fin.; Polybius I. lix.-lxi for the naval victory off the Aegates Islands, 241 B.C.; XXII. xiv. 13; XXIII. xiii. 4] [ 4 ] Unless Hamilcar is to be rated above Hannibal as a general, or that war above this [p. 167] one, or unless that victory was greater and more [Note 2: B.C. 205] famous than this one is to be, if only it be our good fortune to win in your consulship. [ 5 ] Would you rather have dragged Hamilcar away from Drepana or down from Eryx [Note 3: Now Monte San Giuliano, 2465 ft. It had a famous temple of Aphrodite, whose cult was presumably of Phoenician origin. Cf. XXI. x. 7; xli. 6 ff.; Polybius I. lv. 7 ff.; Strabo VI. ii. 6. Here Hamilcar held out until the Roman naval victory brought the First Punic War to an end. Drepana (Trapani), the seaport, was 41 miles away] than have driven the Carthaginians and Hannibal out of Italy? [ 6 ] Although you take more delight in glory already won than in glory hoped for, even you would not boast of having rid Spain of the war rather than Italy. [ 7 ] \"Not yet has Hannibal reached such a pass that the man who preferred some other war would not seem to have feared rather than despised him. Therefore gird yourself for this war, and not employing your roundabout method —crossing first to Africa, and then hoping Hannibal will follow you thither —but [ 8 ] rather by a direct march from here aim your campaign at the region where Hannibal is, if you seek your glorious palm for bringing the Punic war to an end. [ 9 ] This is also the natural order: first to defend your own possessions, then to proceed to attack those of others. First peace in Italy, then be it war-in Africa! and let our fear abate before\n",
      "Author: Polybius\n",
      "Title: Histories\n",
      "Section: book 3, Second Cause of the War\n",
      "Text: Second Cause of the War When the Romans, at the conclusion of this mercenary B.C. 238. Bk. i. ch. 88 . Second cause. war, proclaimed war with Carthage , the latter at first was inclined to resist at all hazards, because the goodness of her cause gave her hopes of victory,—as I have shown in my former book, without which it would be impossible to understand adequately either this or what is to follow. The Romans, however, would not listen to anything: and the Carthaginians therefore yielded to the force of circumstances; and though feeling bitterly aggrieved, yet being quite unable to do anything, evacuated Sardinia , and consented to pay a sum of twelve hundred talents, in addition to the former indemnity paid them, on condition of avoiding the war at that time. This is the second and the most important cause of the subsequent war. For Hamilcar, having this public grievance in addition to his private feelings of anger, as soon as he had secured his country's safety by reducing the rebellious mercenaries, set at once about securing the Carthaginian power in Iberia with the intention of using it as a base of operations against Rome . Third cause. So that I record as a third cause of the war the Carthaginian success in Iberia : for it was the confidence inspired by their forces there which encouraged them to embark upon it. It would be easy to adduce other facts to show that Hamilcar, though he had been dead ten years at its commencement, largely contributed to bring about the second Punic war, but what I am about to say will be sufficient to establish the fact.\n",
      "Author: Titus Livius (Livy)\n",
      "Title: The History of Rome, Book 31\n",
      "Section: Book XXXI, chapter 1\n",
      "Text: 1. I also am relieved, just as if I myself had shared [Note 1: B.C. 201] the labour and the peril, that I have come to the end of the Punic War. [ 2 ] For while it is not at all fitting that one who has ventured to promise to write the whole history of Rome should grow wearied in dealing with the single portions of so great a task, nevertheless, when I reflect that sixty-three years —the space between the outbreak of the First and the end of the Second Punic War [Note 2: The dates of the events referred to are, respectively, 267 B.C. and 204 B.C., by Livy's reckoning, or, according to the usual chronology (which is retained in the marginal dates), 264 B.C. and 201 B.C] —have [ 3 ] filled as many books [Note 3: Books I-XV contained the narrative of the earlier period; Books XVI-XXX covered the First and Second Punic Wars] for me as were required for the four hundred and [ 4 ] eighty-seven years from the founding of the city to the consulship of Appius Claudius (who began the first war with the Carthaginians), already I see in my mind's eye that, like men who, attracted by the shallow water near the shore, wade out into the sea, I am being [ 5 ] carried on, whatever progress I make, into depths more vast and, as it were, into the abyss, and that the task almost waxes greater [p. 5] which, as I finished each of the earlier portions, [Note 4: B.C. 201] seemed to be growing smaller. [ 6 ] The Punic peace was followed by the Macedonian war, which, although in no wise comparable as regards its danger, or the prowess of the leader, [Note 5: Philip V, king of the Macedonians, was not to be compared with the Carthaginian Hannibal] or the strength of the military forces employed, yet, because of the fame of Macedonia's ancient kings [Note 6: Livy thinks especially of Philip II, founder of Macedonian power, and of Alexander the Great, who had conquered an empire greater than that of Carthage] and the ancient glory of the nation and the vast extent of its empire, in which [ 7 ] it had at one time gained by its arms dominion over large portions of Europe and the greater part of Asia, was almost more celebrated. [ 8 ] Now the war with Philip, [Note 7: Philip V had come to the Macedonian throne in 217 B.C. at the age of 17, and had continued the aggressive policy of his regent, Antigonus. As an ally of the Achaean League, the Macedonians had fought a successful war against the Aetolian League (see Introductory Note), and in 216 B.C. concluded an alliance with Hannibal by a treaty of which Polybius (VII. xix) preserves some clauses. Meanwhile Philip was pursuing an ambitious policy towards Athens and other Greek states. By 214 B.C., Rome seems to have recognized that something like a “state of war” existed (XXIV. xl. 1), but in\n",
      "Author: Polybius\n",
      "Title: Histories\n",
      "Section: book 3, First Cause of the Second Punic War\n",
      "Text: First Cause of the Second Punic War I do not allude to Fabius and his annals from any fear of their wearing such an air of probability in themselves as to gain any credit,—for the fact is that his assertions are so contrary to reason, that it does not need any argument of mine to help his readers to perceive it,—but I wished to warn those who take up his books not to be misled by the authority of his name, but to be guided by facts. For there is a certain class of readers in whose eyes the personality of the writer is of more account than what he says. They look to the fact that Fabius was a contemporary and a member of the Senate, and assume without more ado that everything he says may be trusted. My view, however, is that we ought not to hold the authority of this writer lightly: yet at the same time that we should not regard it as all-sufficient; but in reading his writings should test them by a reference to the facts themselves. This is a digression from my immediate subject, which is The Hannibalian or Second Punic war. First cause. the war between Carthage and Rome . The cause of this war we must reckon to be the exasperation of Hamilcar, surnamed Barcas, the father of Hannibal. The result of the war in Sicily had not broken the spirit of that commander. He regarded himself as unconquered; for the troops at Eryx which he commanded were still sound and undismayed: and though he yielded so far as to make a treaty, it was a concession to the exigencies of the times brought on by the defeat of the Carthaginians at sea. But he never relaxed in his determined purpose of revenge; and, had it not been for the mutiny of the mercenaries at Carthage , he would at once have sought and made another occasion for bringing about a war, as far as he was able to do so: as it was, he was preoccupied by the domestic war, and had to give his attention entirely to that.\n",
      "Author: Titus Livius (Livy)\n",
      "Title: The History of Rome, Book 35\n",
      "Section: BOOK XXXV., chapter 14\n",
      "Text: 14. Sulpicius, falling sick, staid at Pergamus. Villius, on hearing that the king was carrying on war in Pisidia. went [p. 1567] on to Ephesus, and, during a few days that he halted in that city, took pains [ 2?? ] to procure frequent interviews with Hannibal, who happened to be there at the time, in [ 3?? ] order to sound his intentions, if possible, and to remove his apprehensions of danger threatening him from the Romans. [ 4 ] No other business, indeed, of any kind was brought forward at these meetings; yet they accidentally produced an important consequence, as effectually as if it had been intentionally sought; the lowering Hannibal in the esteem of the king, and rendering him more obnoxious to suspicion in every matter. [ 5 ] Claudius, following the history written in Greek by Acilius, says, that Publius Africanus was employed in this embassy, and that it was he who conversed with Hannibal at Ephesus. He even relates one of their conversations, in which Scipio asked Hannibal, “whom he thought the greatest captain?” [ 6 ] and that he answered, “Alexander, king of Macedonia; because, with a small band, he defeated armies whose numbers were beyond reckoning; [ 7 ] and because he had overrun the remotest regions, the merely visiting of which was a thing above human aspiration.” Scipio then asked, “to whom he gave the second place?” [ 8 ] and he replied, “To Pyrrhus; for he first taught the method of encamping; [ 9 ] and besides, no one ever showed more exquisite judgment, in choosing his ground, and disposing his posts; while he also possessed the art of conciliating mankind to himself to such a degree, that the nations of Italy wished him, though a foreign prince, to hold the sovereignty among them, rather than the Roman people, who had so long possessed the dominion of that part of the world.” [ 10 ] On his proceeding to ask, “whom he esteemed the third?” Hannibal replied, “Myself, beyond doubt.” [ 11 ] On this Scipio laughed, and added, “What would you have said if you had conquered me?” “Then,” replied the other, “I would have placed Hannibal, not only before Alexander and Pyrrhus, but before all other commanders.” [ 12 ] This answer, turned with Punic dexterity, and conveying an unexpected kind of flattery, was highly grateful to Scipio, as it set him apart from the crowd of commanders, as one of incomparable eminence.\n",
      "Author: Titus Livius (Livy)\n",
      "Title: The History of Rome, Book 31\n",
      "Section: Rome and Macedon, chapter 1\n",
      "Text: I, too, feel as much relief in having reached the end of the Punic War as if I had taken a personal part in its toils and dangers. [ 2 ] It ill befits one who has had the courage to promise a complete history of Rome to find the separate sections of such an extensive work fatiguing. [ 3 ] But when I consider that the sixty-three years from the beginning of the First Punic War to the end of the Second take up as many books as the four hundred and eighty-seven years from the foundation of the [ 4?? ] City to the consulship of Appius Claudius under whom the First Punic War commenced, I see that I am like people who are tempted by the shallow water along the beach to wade out to sea; the further I progress, the greater the depth, as though it were a bottomless sea, into which I am carried. [ 5 ] I imagined that as I completed one part after another the task before me would diminish; as it is, it almost becomes greater. The peace with Carthage was very soon followed by war with Macedonia. [ 6 ] There is no comparison between them as regards the critical nature of the contest, or the personality of the commander or the fighting quality of the troops. But the Macedonian war was, if anything, more noteworthy owing to the brilliant reputation of the [ 7?? ] former kings, the ancient fame of the nation and the vast extent of its dominion when it held sway over a large part of Europe and a still larger part of Asia. [ 8 ] The war with Philip which had commenced some ten years previously had been suspended for the last three years, and both the war and its cessation were due to the action of the Aetolians. The peace with Carthage now left the Romans free. [ 9 ] They were angry with Philip for his attacking the Aetolians and the other friendly States in Greece while he was nominally at peace with Rome, and also for his having given assistance in both men and money to Hannibal and Carthage. [ 10 ] He had ravaged the Athenian territory and driven the inhabitants into the city, and it was their request for help which decided the Romans to recommence the war.\n",
      "Author: M. Tullius Cicero\n",
      "Title: Divination\n",
      "Section: Divination Book I, section 49\n",
      "Text: [ 49 ] Another story of Hannibal is found in the history written in Greek by Silenus, whom Coelius follows, and who, by the way, was a very painstaking student of Hannibal's career. After his capture of Saguntum Hannibal dreamed that Jupiter summoned him to a council of the gods. When he arrived Jupiter ordered him to carry the war into Italy, and gave him one of the divine council as a guide whom he employed when he began the march with his army. [p. 279] This guide cautioned Hannibal not to look back But, carried away by curiosity, he could refrain no longer and looked back. Then he saw a horrible beast of enormous size, enveloped with snakes, and wherever it went it overthrew every tree and shrub and every house. In his amazement Hannibal asked what the monster was. The god replied that it was the desolation of Italy and ordered him to press right on and not to worry about what happened behind him and in the rear.\n",
      "Author: Titus Livius (Livy)\n",
      "Title: The History of Rome, Book 31\n",
      "Section: BOOK XXXI., chapter 1\n",
      "Text: 1. IT is delightful even to me to have come to the end of the Punic war, as if I myself had borne a share of the toil and danger. [ 2 ] For though it by no means becomes a person, who has ventured to promise an entire history of all the Roman affairs, to be fatigued by any particular parts of so extensive a [p. 1342] work; [ 3 ] yet when I reflect that sixty-three years (for so many there are from the first Punic war to the end of the second) have occupied as many of my [ 4?? ] volumes, as the four hundred and eighty-seven years, from the building of the city to the consulate of Appius Claudius, who first made war on the Carthaginians, I plainly perceive that, like those who, tempted by the shallows near the shore, walk into the sea, the farther I advance, I am carried, as it were, into a greater depth and abyss; [ 5 ] and that my work almost increases on my hands, which seemed to be diminished by the completion of each of its earlier portions. [ 6 ] The peace with Carthage was quickly followed by a war with Macedonia: a war, not to be compared to the former, indeed, either in danger, or in the abilities of the commander, or the valour of the soldiers; [ 7 ] but almost more remarkable with regard to the renown of their former kings, the ancient fame of that nation, and the vast extent of their empire, in which they had formerly comprehended a large part of Europe, and the greater part of Asia. [ 8 ] The contest with Philip, which had begun about ten years before, had been intermitted for the three last years; the Aetolians having been the occasion both of the war and the peace. [ 9 ] The entreaties of the Athenians whom, having ravaged their lands, Philip had driven into their city, excited the Romans to a renewal of the war, left, as they were, disengaged by the Carthaginian peace, and incensed against him as well for his treacherous negotiation of peace [ 10?? ] with the Aetolians and the other allies in that region, as on account of the auxiliaries sent by him with money into Africa to Hannibal and the Carthaginians.\n"
     ]
    }
   ],
   "source": [
    "for answer in response[\"hits\"][\"hits\"]:\n",
    "    print(f\"Author: {answer[\"_source\"][\"author\"]}\\nTitle: {answer[\"_source\"][\"title\"]}\\nSection: {answer[\"_source\"][\"section\"]}\\nText: {answer[\"_source\"][\"text\"]}\")"
   ]
  }
 ],
 "metadata": {
  "kernelspec": {
   "display_name": "Python 3 (ipykernel)",
   "language": "python",
   "name": "python3"
  },
  "language_info": {
   "codemirror_mode": {
    "name": "ipython",
    "version": 3
   },
   "file_extension": ".py",
   "mimetype": "text/x-python",
   "name": "python",
   "nbconvert_exporter": "python",
   "pygments_lexer": "ipython3",
   "version": "3.12.1"
  }
 },
 "nbformat": 4,
 "nbformat_minor": 5
}
