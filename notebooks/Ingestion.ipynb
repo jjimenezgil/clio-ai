{
 "cells": [
  {
   "cell_type": "markdown",
   "id": "cd32f1c8-0d0a-4f39-a62d-04bcc5a3f33f",
   "metadata": {},
   "source": [
    "# Data preparation and ingestion"
   ]
  },
  {
   "cell_type": "code",
   "execution_count": 19,
   "id": "5e4a621b-6c69-418a-b0bf-311088f5ca18",
   "metadata": {
    "execution": {
     "iopub.execute_input": "2024-09-05T11:30:15.093577Z",
     "iopub.status.busy": "2024-09-05T11:30:15.093193Z",
     "iopub.status.idle": "2024-09-05T11:30:15.097662Z",
     "shell.execute_reply": "2024-09-05T11:30:15.096947Z",
     "shell.execute_reply.started": "2024-09-05T11:30:15.093551Z"
    },
    "tags": []
   },
   "outputs": [],
   "source": [
    "# Imports\n",
    "import pandas as pd\n",
    "import numpy as np\n",
    "from tqdm.notebook import trange, tqdm\n",
    "from elasticsearch import Elasticsearch\n",
    "from statistics import median\n",
    "from sentence_transformers import SentenceTransformer\n",
    "import pickle\n",
    "import matplotlib.pyplot as plt\n",
    "import torch\n",
    "import h5py"
   ]
  },
  {
   "cell_type": "markdown",
   "id": "72a45e88-8705-4fca-b0bb-4bc5892a0aeb",
   "metadata": {},
   "source": [
    "## Load the data"
   ]
  },
  {
   "cell_type": "code",
   "execution_count": 4,
   "id": "5aef7c64-1791-416f-bab9-0ef5ca5ab38e",
   "metadata": {
    "execution": {
     "iopub.execute_input": "2024-09-05T11:25:53.133175Z",
     "iopub.status.busy": "2024-09-05T11:25:53.132482Z",
     "iopub.status.idle": "2024-09-05T11:25:55.579996Z",
     "shell.execute_reply": "2024-09-05T11:25:55.579046Z",
     "shell.execute_reply.started": "2024-09-05T11:25:53.133142Z"
    },
    "tags": []
   },
   "outputs": [
    {
     "data": {
      "text/html": [
       "<div>\n",
       "<style scoped>\n",
       "    .dataframe tbody tr th:only-of-type {\n",
       "        vertical-align: middle;\n",
       "    }\n",
       "\n",
       "    .dataframe tbody tr th {\n",
       "        vertical-align: top;\n",
       "    }\n",
       "\n",
       "    .dataframe thead th {\n",
       "        text-align: right;\n",
       "    }\n",
       "</style>\n",
       "<table border=\"1\" class=\"dataframe\">\n",
       "  <thead>\n",
       "    <tr style=\"text-align: right;\">\n",
       "      <th></th>\n",
       "      <th>author</th>\n",
       "      <th>title</th>\n",
       "      <th>section</th>\n",
       "      <th>text</th>\n",
       "    </tr>\n",
       "  </thead>\n",
       "  <tbody>\n",
       "    <tr>\n",
       "      <th>0</th>\n",
       "      <td>Aeschylus</td>\n",
       "      <td>Agamemnon</td>\n",
       "      <td>lines 1-39</td>\n",
       "      <td>Release from this weary task of mine has been ...</td>\n",
       "    </tr>\n",
       "    <tr>\n",
       "      <th>1</th>\n",
       "      <td>Euripides</td>\n",
       "      <td>Ion</td>\n",
       "      <td>lines 1-40</td>\n",
       "      <td>Before the Temple of Apollo at Delphi . The su...</td>\n",
       "    </tr>\n",
       "    <tr>\n",
       "      <th>2</th>\n",
       "      <td>Euripides</td>\n",
       "      <td>Heracles</td>\n",
       "      <td>lines 1-25</td>\n",
       "      <td>Before the palace of Heracles at Thebes . Near...</td>\n",
       "    </tr>\n",
       "    <tr>\n",
       "      <th>3</th>\n",
       "      <td>Euripides</td>\n",
       "      <td>Hippolytus</td>\n",
       "      <td>lines 1-33</td>\n",
       "      <td>Aphrodite enters above the skene. Aphrodite Ap...</td>\n",
       "    </tr>\n",
       "    <tr>\n",
       "      <th>4</th>\n",
       "      <td>Euripides</td>\n",
       "      <td>Heracleidae</td>\n",
       "      <td>lines 1-47</td>\n",
       "      <td>The skene represents the temple of Zeus Agorai...</td>\n",
       "    </tr>\n",
       "  </tbody>\n",
       "</table>\n",
       "</div>"
      ],
      "text/plain": [
       "      author        title     section  \\\n",
       "0  Aeschylus    Agamemnon  lines 1-39   \n",
       "1  Euripides          Ion  lines 1-40   \n",
       "2  Euripides     Heracles  lines 1-25   \n",
       "3  Euripides   Hippolytus  lines 1-33   \n",
       "4  Euripides  Heracleidae  lines 1-47   \n",
       "\n",
       "                                                text  \n",
       "0  Release from this weary task of mine has been ...  \n",
       "1  Before the Temple of Apollo at Delphi . The su...  \n",
       "2  Before the palace of Heracles at Thebes . Near...  \n",
       "3  Aphrodite enters above the skene. Aphrodite Ap...  \n",
       "4  The skene represents the temple of Zeus Agorai...  "
      ]
     },
     "execution_count": 4,
     "metadata": {},
     "output_type": "execute_result"
    }
   ],
   "source": [
    "# Load in Pandas df\n",
    "data_path = \"../data/ancient_sources.csv.gz\"\n",
    "df = pd.read_csv(data_path, compression=\"gzip\")\n",
    "df.head()"
   ]
  },
  {
   "cell_type": "code",
   "execution_count": 5,
   "id": "07f78d48-8bcd-4041-8b5f-5ecfa7960c8a",
   "metadata": {
    "execution": {
     "iopub.execute_input": "2024-09-05T11:26:00.834257Z",
     "iopub.status.busy": "2024-09-05T11:26:00.833880Z",
     "iopub.status.idle": "2024-09-05T11:26:00.839331Z",
     "shell.execute_reply": "2024-09-05T11:26:00.838440Z",
     "shell.execute_reply.started": "2024-09-05T11:26:00.834230Z"
    },
    "tags": []
   },
   "outputs": [
    {
     "data": {
      "text/plain": [
       "(111709, 4)"
      ]
     },
     "execution_count": 5,
     "metadata": {},
     "output_type": "execute_result"
    }
   ],
   "source": [
    "# Check size\n",
    "df.shape"
   ]
  },
  {
   "cell_type": "markdown",
   "id": "07fe66f1-2da3-4dfe-a2fc-cd60b0d89358",
   "metadata": {},
   "source": [
    "## Data cleaning and EDA"
   ]
  },
  {
   "cell_type": "code",
   "execution_count": 6,
   "id": "13611913-2c27-4084-9b01-2393fbf6cdae",
   "metadata": {
    "execution": {
     "iopub.execute_input": "2024-09-05T11:26:04.637748Z",
     "iopub.status.busy": "2024-09-05T11:26:04.637355Z",
     "iopub.status.idle": "2024-09-05T11:26:04.642563Z",
     "shell.execute_reply": "2024-09-05T11:26:04.641778Z",
     "shell.execute_reply.started": "2024-09-05T11:26:04.637721Z"
    },
    "tags": []
   },
   "outputs": [],
   "source": [
    "# Append index as ID\n",
    "df['Id'] = df.index"
   ]
  },
  {
   "cell_type": "code",
   "execution_count": 7,
   "id": "dc6b9b01-f951-4672-be1e-71752a1651e2",
   "metadata": {
    "execution": {
     "iopub.execute_input": "2024-09-05T11:26:10.254301Z",
     "iopub.status.busy": "2024-09-05T11:26:10.253915Z",
     "iopub.status.idle": "2024-09-05T11:26:10.294628Z",
     "shell.execute_reply": "2024-09-05T11:26:10.294063Z",
     "shell.execute_reply.started": "2024-09-05T11:26:10.254275Z"
    },
    "tags": []
   },
   "outputs": [],
   "source": [
    "# Delete rows without text\n",
    "df.drop(df[df[\"text\"].isna()].index, inplace=True)\n",
    "\n",
    "# Transform rows with NaN section to \"\"\n",
    "df['section'] = df['section'].fillna(\"\")"
   ]
  },
  {
   "cell_type": "code",
   "execution_count": 8,
   "id": "5b83d70a-72ea-4b6f-bb76-2c8549a9d868",
   "metadata": {
    "execution": {
     "iopub.execute_input": "2024-09-05T11:26:14.492874Z",
     "iopub.status.busy": "2024-09-05T11:26:14.492479Z",
     "iopub.status.idle": "2024-09-05T11:26:14.497851Z",
     "shell.execute_reply": "2024-09-05T11:26:14.496911Z",
     "shell.execute_reply.started": "2024-09-05T11:26:14.492848Z"
    },
    "tags": []
   },
   "outputs": [
    {
     "data": {
      "text/plain": [
       "(111707, 5)"
      ]
     },
     "execution_count": 8,
     "metadata": {},
     "output_type": "execute_result"
    }
   ],
   "source": [
    "# Check new size\n",
    "df.shape"
   ]
  },
  {
   "cell_type": "code",
   "execution_count": 9,
   "id": "d09d1d0b-7f5a-416c-bf8d-70819c4dd0f7",
   "metadata": {
    "execution": {
     "iopub.execute_input": "2024-09-05T11:26:19.942434Z",
     "iopub.status.busy": "2024-09-05T11:26:19.942048Z",
     "iopub.status.idle": "2024-09-05T11:26:21.093710Z",
     "shell.execute_reply": "2024-09-05T11:26:21.092975Z",
     "shell.execute_reply.started": "2024-09-05T11:26:19.942404Z"
    },
    "tags": []
   },
   "outputs": [
    {
     "data": {
      "text/html": [
       "<div>\n",
       "<style scoped>\n",
       "    .dataframe tbody tr th:only-of-type {\n",
       "        vertical-align: middle;\n",
       "    }\n",
       "\n",
       "    .dataframe tbody tr th {\n",
       "        vertical-align: top;\n",
       "    }\n",
       "\n",
       "    .dataframe thead th {\n",
       "        text-align: right;\n",
       "    }\n",
       "</style>\n",
       "<table border=\"1\" class=\"dataframe\">\n",
       "  <thead>\n",
       "    <tr style=\"text-align: right;\">\n",
       "      <th></th>\n",
       "      <th>author</th>\n",
       "      <th>title</th>\n",
       "      <th>section</th>\n",
       "      <th>text</th>\n",
       "      <th>Id</th>\n",
       "      <th>num_words</th>\n",
       "    </tr>\n",
       "  </thead>\n",
       "  <tbody>\n",
       "    <tr>\n",
       "      <th>0</th>\n",
       "      <td>Aeschylus</td>\n",
       "      <td>Agamemnon</td>\n",
       "      <td>lines 1-39</td>\n",
       "      <td>Release from this weary task of mine has been ...</td>\n",
       "      <td>0</td>\n",
       "      <td>445</td>\n",
       "    </tr>\n",
       "    <tr>\n",
       "      <th>1</th>\n",
       "      <td>Euripides</td>\n",
       "      <td>Ion</td>\n",
       "      <td>lines 1-40</td>\n",
       "      <td>Before the Temple of Apollo at Delphi . The su...</td>\n",
       "      <td>1</td>\n",
       "      <td>357</td>\n",
       "    </tr>\n",
       "    <tr>\n",
       "      <th>2</th>\n",
       "      <td>Euripides</td>\n",
       "      <td>Heracles</td>\n",
       "      <td>lines 1-25</td>\n",
       "      <td>Before the palace of Heracles at Thebes . Near...</td>\n",
       "      <td>2</td>\n",
       "      <td>279</td>\n",
       "    </tr>\n",
       "    <tr>\n",
       "      <th>3</th>\n",
       "      <td>Euripides</td>\n",
       "      <td>Hippolytus</td>\n",
       "      <td>lines 1-33</td>\n",
       "      <td>Aphrodite enters above the skene. Aphrodite Ap...</td>\n",
       "      <td>3</td>\n",
       "      <td>349</td>\n",
       "    </tr>\n",
       "    <tr>\n",
       "      <th>4</th>\n",
       "      <td>Euripides</td>\n",
       "      <td>Heracleidae</td>\n",
       "      <td>lines 1-47</td>\n",
       "      <td>The skene represents the temple of Zeus Agorai...</td>\n",
       "      <td>4</td>\n",
       "      <td>554</td>\n",
       "    </tr>\n",
       "  </tbody>\n",
       "</table>\n",
       "</div>"
      ],
      "text/plain": [
       "      author        title     section  \\\n",
       "0  Aeschylus    Agamemnon  lines 1-39   \n",
       "1  Euripides          Ion  lines 1-40   \n",
       "2  Euripides     Heracles  lines 1-25   \n",
       "3  Euripides   Hippolytus  lines 1-33   \n",
       "4  Euripides  Heracleidae  lines 1-47   \n",
       "\n",
       "                                                text  Id  num_words  \n",
       "0  Release from this weary task of mine has been ...   0        445  \n",
       "1  Before the Temple of Apollo at Delphi . The su...   1        357  \n",
       "2  Before the palace of Heracles at Thebes . Near...   2        279  \n",
       "3  Aphrodite enters above the skene. Aphrodite Ap...   3        349  \n",
       "4  The skene represents the temple of Zeus Agorai...   4        554  "
      ]
     },
     "execution_count": 9,
     "metadata": {},
     "output_type": "execute_result"
    }
   ],
   "source": [
    "# Create a function that counts number of words of a text\n",
    "def count_words(text):\n",
    "    return len(text.split())\n",
    "\n",
    "# Append a column with the number of words of the texts\n",
    "df[\"num_words\"] = df[\"text\"].apply(count_words)\n",
    "\n",
    "# Show first rows\n",
    "df.head()"
   ]
  },
  {
   "cell_type": "code",
   "execution_count": 10,
   "id": "084e26e2-6dbb-45d9-91db-f212327fa7be",
   "metadata": {
    "execution": {
     "iopub.execute_input": "2024-09-05T11:26:25.660119Z",
     "iopub.status.busy": "2024-09-05T11:26:25.659714Z",
     "iopub.status.idle": "2024-09-05T11:26:25.678061Z",
     "shell.execute_reply": "2024-09-05T11:26:25.677256Z",
     "shell.execute_reply.started": "2024-09-05T11:26:25.660092Z"
    },
    "tags": []
   },
   "outputs": [
    {
     "data": {
      "text/plain": [
       "count    111707.000000\n",
       "mean        179.352252\n",
       "std         367.455390\n",
       "min           1.000000\n",
       "25%          58.000000\n",
       "50%          94.000000\n",
       "75%         173.000000\n",
       "max       31177.000000\n",
       "Name: num_words, dtype: float64"
      ]
     },
     "execution_count": 10,
     "metadata": {},
     "output_type": "execute_result"
    }
   ],
   "source": [
    "df[\"num_words\"].describe()"
   ]
  },
  {
   "cell_type": "code",
   "execution_count": 11,
   "id": "e3390e5b-7d30-49b9-9c71-1e13412e1578",
   "metadata": {
    "execution": {
     "iopub.execute_input": "2024-09-05T11:26:32.496684Z",
     "iopub.status.busy": "2024-09-05T11:26:32.496304Z",
     "iopub.status.idle": "2024-09-05T11:26:32.730230Z",
     "shell.execute_reply": "2024-09-05T11:26:32.729334Z",
     "shell.execute_reply.started": "2024-09-05T11:26:32.496658Z"
    },
    "tags": []
   },
   "outputs": [
    {
     "data": {
      "image/png": "[encoded data removed]",
      "text/plain": [
       "<Figure size 640x480 with 1 Axes>"
      ]
     },
     "metadata": {},
     "output_type": "display_data"
    }
   ],
   "source": [
    "# Boxplot\n",
    "boxplot_stats = plt.boxplot(df['num_words'])\n",
    "plt.title('Number of words per text');"
   ]
  },
  {
   "cell_type": "code",
   "execution_count": 12,
   "id": "b160ea2a-974b-4629-b7d7-9156888af039",
   "metadata": {
    "execution": {
     "iopub.execute_input": "2024-09-05T11:26:36.332930Z",
     "iopub.status.busy": "2024-09-05T11:26:36.332559Z",
     "iopub.status.idle": "2024-09-05T11:26:36.337915Z",
     "shell.execute_reply": "2024-09-05T11:26:36.336977Z",
     "shell.execute_reply.started": "2024-09-05T11:26:36.332902Z"
    },
    "tags": []
   },
   "outputs": [
    {
     "name": "stdout",
     "output_type": "stream",
     "text": [
      "Upper whisker: 345.0\n"
     ]
    }
   ],
   "source": [
    "whiskers = [item.get_ydata() for item in boxplot_stats['whiskers']]\n",
    "upp_whisker = whiskers[1][1]\n",
    "print(\"Upper whisker:\", upp_whisker)"
   ]
  },
  {
   "cell_type": "code",
   "execution_count": 13,
   "id": "8d8c7fe2-983e-4c0e-9909-d4258f3b7ccc",
   "metadata": {
    "execution": {
     "iopub.execute_input": "2024-09-05T11:26:40.249231Z",
     "iopub.status.busy": "2024-09-05T11:26:40.248860Z",
     "iopub.status.idle": "2024-09-05T11:26:40.258396Z",
     "shell.execute_reply": "2024-09-05T11:26:40.257867Z",
     "shell.execute_reply.started": "2024-09-05T11:26:40.249203Z"
    },
    "tags": []
   },
   "outputs": [
    {
     "data": {
      "text/plain": [
       "(7786, 6)"
      ]
     },
     "execution_count": 13,
     "metadata": {},
     "output_type": "execute_result"
    }
   ],
   "source": [
    "df[df[\"num_words\"] > 512].shape"
   ]
  },
  {
   "cell_type": "markdown",
   "id": "979c9035-96a5-40dc-80d8-b9851ee64997",
   "metadata": {},
   "source": [
    "The upper limit stablished by boxplot is 345 words, so let's cut all the texts with a number of words higher than 512 (a bit higher than the boxplot upper limit). With this change, more of the 90% of the text will remain with the full text. Hopefully, this will make the embbeding calculation ligther."
   ]
  },
  {
   "cell_type": "code",
   "execution_count": 14,
   "id": "1a55e9a4-1582-44df-9ae2-a05d5fec0678",
   "metadata": {
    "execution": {
     "iopub.execute_input": "2024-09-05T11:26:44.852117Z",
     "iopub.status.busy": "2024-09-05T11:26:44.851721Z",
     "iopub.status.idle": "2024-09-05T11:26:47.492177Z",
     "shell.execute_reply": "2024-09-05T11:26:47.491512Z",
     "shell.execute_reply.started": "2024-09-05T11:26:44.852087Z"
    },
    "tags": []
   },
   "outputs": [
    {
     "data": {
      "text/html": [
       "<div>\n",
       "<style scoped>\n",
       "    .dataframe tbody tr th:only-of-type {\n",
       "        vertical-align: middle;\n",
       "    }\n",
       "\n",
       "    .dataframe tbody tr th {\n",
       "        vertical-align: top;\n",
       "    }\n",
       "\n",
       "    .dataframe thead th {\n",
       "        text-align: right;\n",
       "    }\n",
       "</style>\n",
       "<table border=\"1\" class=\"dataframe\">\n",
       "  <thead>\n",
       "    <tr style=\"text-align: right;\">\n",
       "      <th></th>\n",
       "      <th>author</th>\n",
       "      <th>title</th>\n",
       "      <th>section</th>\n",
       "      <th>text</th>\n",
       "      <th>Id</th>\n",
       "      <th>num_words</th>\n",
       "    </tr>\n",
       "  </thead>\n",
       "  <tbody>\n",
       "    <tr>\n",
       "      <th>0</th>\n",
       "      <td>Aeschylus</td>\n",
       "      <td>Agamemnon</td>\n",
       "      <td>lines 1-39</td>\n",
       "      <td>Release from this weary task of mine has been ...</td>\n",
       "      <td>0</td>\n",
       "      <td>445</td>\n",
       "    </tr>\n",
       "    <tr>\n",
       "      <th>1</th>\n",
       "      <td>Euripides</td>\n",
       "      <td>Ion</td>\n",
       "      <td>lines 1-40</td>\n",
       "      <td>Before the Temple of Apollo at Delphi . The su...</td>\n",
       "      <td>1</td>\n",
       "      <td>357</td>\n",
       "    </tr>\n",
       "    <tr>\n",
       "      <th>2</th>\n",
       "      <td>Euripides</td>\n",
       "      <td>Heracles</td>\n",
       "      <td>lines 1-25</td>\n",
       "      <td>Before the palace of Heracles at Thebes . Near...</td>\n",
       "      <td>2</td>\n",
       "      <td>279</td>\n",
       "    </tr>\n",
       "    <tr>\n",
       "      <th>3</th>\n",
       "      <td>Euripides</td>\n",
       "      <td>Hippolytus</td>\n",
       "      <td>lines 1-33</td>\n",
       "      <td>Aphrodite enters above the skene. Aphrodite Ap...</td>\n",
       "      <td>3</td>\n",
       "      <td>349</td>\n",
       "    </tr>\n",
       "    <tr>\n",
       "      <th>4</th>\n",
       "      <td>Euripides</td>\n",
       "      <td>Heracleidae</td>\n",
       "      <td>lines 1-47</td>\n",
       "      <td>The skene represents the temple of Zeus Agorai...</td>\n",
       "      <td>4</td>\n",
       "      <td>512</td>\n",
       "    </tr>\n",
       "  </tbody>\n",
       "</table>\n",
       "</div>"
      ],
      "text/plain": [
       "      author        title     section  \\\n",
       "0  Aeschylus    Agamemnon  lines 1-39   \n",
       "1  Euripides          Ion  lines 1-40   \n",
       "2  Euripides     Heracles  lines 1-25   \n",
       "3  Euripides   Hippolytus  lines 1-33   \n",
       "4  Euripides  Heracleidae  lines 1-47   \n",
       "\n",
       "                                                text  Id  num_words  \n",
       "0  Release from this weary task of mine has been ...   0        445  \n",
       "1  Before the Temple of Apollo at Delphi . The su...   1        357  \n",
       "2  Before the palace of Heracles at Thebes . Near...   2        279  \n",
       "3  Aphrodite enters above the skene. Aphrodite Ap...   3        349  \n",
       "4  The skene represents the temple of Zeus Agorai...   4        512  "
      ]
     },
     "execution_count": 14,
     "metadata": {},
     "output_type": "execute_result"
    }
   ],
   "source": [
    "# Define function that truncates the longer texts\n",
    "def truncate_texts(text, max_num_words=512):\n",
    "    word_list = text.split()\n",
    "    if len(word_list) > max_num_words:\n",
    "        word_list = word_list[:max_num_words]\n",
    "\n",
    "    return \" \".join(word_list)\n",
    "\n",
    "# Apply to all the texts\n",
    "df[\"text\"] = df[\"text\"].apply(truncate_texts)\n",
    "\n",
    "# Count again the num of words\n",
    "df[\"num_words\"] = df[\"text\"].apply(count_words)\n",
    "\n",
    "# Check df\n",
    "df.head()"
   ]
  },
  {
   "cell_type": "code",
   "execution_count": 15,
   "id": "531c4e52-7df6-421d-9676-7190ee2f40e8",
   "metadata": {
    "execution": {
     "iopub.execute_input": "2024-09-05T11:26:50.517457Z",
     "iopub.status.busy": "2024-09-05T11:26:50.517070Z",
     "iopub.status.idle": "2024-09-05T11:26:50.529176Z",
     "shell.execute_reply": "2024-09-05T11:26:50.528376Z",
     "shell.execute_reply.started": "2024-09-05T11:26:50.517426Z"
    },
    "tags": []
   },
   "outputs": [
    {
     "data": {
      "text/plain": [
       "count    111707.000000\n",
       "mean        148.231821\n",
       "std         143.268450\n",
       "min           1.000000\n",
       "25%          58.000000\n",
       "50%          94.000000\n",
       "75%         173.000000\n",
       "max         512.000000\n",
       "Name: num_words, dtype: float64"
      ]
     },
     "execution_count": 15,
     "metadata": {},
     "output_type": "execute_result"
    }
   ],
   "source": [
    "# Check statistics again\n",
    "df[\"num_words\"].describe()"
   ]
  },
  {
   "cell_type": "code",
   "execution_count": 16,
   "id": "146915e6-8705-49a3-8f3e-4da171e15990",
   "metadata": {
    "execution": {
     "iopub.execute_input": "2024-09-05T11:26:56.913239Z",
     "iopub.status.busy": "2024-09-05T11:26:56.912853Z",
     "iopub.status.idle": "2024-09-05T11:26:56.925556Z",
     "shell.execute_reply": "2024-09-05T11:26:56.924815Z",
     "shell.execute_reply.started": "2024-09-05T11:26:56.913211Z"
    },
    "tags": []
   },
   "outputs": [],
   "source": [
    "# Drop number of words column\n",
    "df.drop('num_words', axis=1, inplace=True)"
   ]
  },
  {
   "cell_type": "markdown",
   "id": "c45a63ca-6394-444d-93bb-9a46769d5948",
   "metadata": {},
   "source": [
    "## Generate embeddings for vector search"
   ]
  },
  {
   "cell_type": "markdown",
   "id": "98f6b467-9157-4839-9c3f-399c6116a609",
   "metadata": {},
   "source": [
    "We are going to use *msmarco-roberta-base-ance-firstp* model, which is well suited for long passages of text and is fine-tunned for dot product similarity, which is usually preferred for long passages of text (our case). Also, it is optimized for ANCE (Approximate Nearest Neighbor Search). Later, we will have to take all this into account by configuring Elasticsearch k-NN to use dot product and Approximate Nearest Neighbor Search."
   ]
  },
  {
   "cell_type": "code",
   "execution_count": 17,
   "id": "bc619f8e-b6df-4fa3-b9f1-423114e3ff54",
   "metadata": {
    "execution": {
     "iopub.execute_input": "2024-09-05T11:27:03.264877Z",
     "iopub.status.busy": "2024-09-05T11:27:03.264492Z",
     "iopub.status.idle": "2024-09-05T11:27:03.641067Z",
     "shell.execute_reply": "2024-09-05T11:27:03.640408Z",
     "shell.execute_reply.started": "2024-09-05T11:27:03.264849Z"
    },
    "tags": []
   },
   "outputs": [],
   "source": [
    "# Transform into a list of dicts\n",
    "df_dict = df.to_dict(orient=\"records\")\n",
    "\n",
    "# Generate list with all the texts\n",
    "texts_list = [source[\"text\"]for source in df_dict]"
   ]
  },
  {
   "cell_type": "code",
   "execution_count": 18,
   "id": "caa031f1-a233-4315-a00a-ca299afe8264",
   "metadata": {
    "execution": {
     "iopub.execute_input": "2024-09-05T11:27:18.394523Z",
     "iopub.status.busy": "2024-09-05T11:27:18.394140Z",
     "iopub.status.idle": "2024-09-05T11:27:49.656209Z",
     "shell.execute_reply": "2024-09-05T11:27:49.655502Z",
     "shell.execute_reply.started": "2024-09-05T11:27:18.394497Z"
    },
    "tags": []
   },
   "outputs": [
    {
     "name": "stderr",
     "output_type": "stream",
     "text": [
      "/opt/saturncloud/envs/saturn/lib/python3.9/site-packages/huggingface_hub/utils/_deprecation.py:131: FutureWarning: 'cached_download' (from 'huggingface_hub.file_download') is deprecated and will be removed from version '0.26'. Use `hf_hub_download` instead.\n",
      "  warnings.warn(warning_message, FutureWarning)\n"
     ]
    },
    {
     "data": {
      "application/vnd.jupyter.widget-view+json": {
       "model_id": "f7348741f1f4469e99e942dd545d83a9",
       "version_major": 2,
       "version_minor": 0
      },
      "text/plain": [
       ".gitattributes:   0%|          | 0.00/744 [00:00<?, ?B/s]"
      ]
     },
     "metadata": {},
     "output_type": "display_data"
    },
    {
     "data": {
      "application/vnd.jupyter.widget-view+json": {
       "model_id": "2c3e0fca53ba4f8fb7d4e8c65786b213",
       "version_major": 2,
       "version_minor": 0
      },
      "text/plain": [
       "1_Pooling/config.json:   0%|          | 0.00/190 [00:00<?, ?B/s]"
      ]
     },
     "metadata": {},
     "output_type": "display_data"
    },
    {
     "data": {
      "application/vnd.jupyter.widget-view+json": {
       "model_id": "f95e7f0f134941ba910a0425b818c851",
       "version_major": 2,
       "version_minor": 0
      },
      "text/plain": [
       "2_Dense/config.json:   0%|          | 0.00/114 [00:00<?, ?B/s]"
      ]
     },
     "metadata": {},
     "output_type": "display_data"
    },
    {
     "data": {
      "application/vnd.jupyter.widget-view+json": {
       "model_id": "752ff7f45b1c49e8b40e4fcc42dbe7a3",
       "version_major": 2,
       "version_minor": 0
      },
      "text/plain": [
       "model.safetensors:   0%|          | 0.00/2.36M [00:00<?, ?B/s]"
      ]
     },
     "metadata": {},
     "output_type": "display_data"
    },
    {
     "data": {
      "application/vnd.jupyter.widget-view+json": {
       "model_id": "0bf8058f7622479482e5a39d6b6497cc",
       "version_major": 2,
       "version_minor": 0
      },
      "text/plain": [
       "pytorch_model.bin:   0%|          | 0.00/2.36M [00:00<?, ?B/s]"
      ]
     },
     "metadata": {},
     "output_type": "display_data"
    },
    {
     "data": {
      "application/vnd.jupyter.widget-view+json": {
       "model_id": "87a3842c21b64cea9dd0eaa7c88cba22",
       "version_major": 2,
       "version_minor": 0
      },
      "text/plain": [
       "3_LayerNorm/config.json:   0%|          | 0.00/22.0 [00:00<?, ?B/s]"
      ]
     },
     "metadata": {},
     "output_type": "display_data"
    },
    {
     "data": {
      "application/vnd.jupyter.widget-view+json": {
       "model_id": "50e7eada6dfa4b37aad0cae578ac2578",
       "version_major": 2,
       "version_minor": 0
      },
      "text/plain": [
       "3_LayerNorm/model.safetensors:   0%|          | 0.00/6.33k [00:00<?, ?B/s]"
      ]
     },
     "metadata": {},
     "output_type": "display_data"
    },
    {
     "data": {
      "application/vnd.jupyter.widget-view+json": {
       "model_id": "37b68d10f8074e67b98a9849c037bc24",
       "version_major": 2,
       "version_minor": 0
      },
      "text/plain": [
       "pytorch_model.bin:   0%|          | 0.00/7.14k [00:00<?, ?B/s]"
      ]
     },
     "metadata": {},
     "output_type": "display_data"
    },
    {
     "data": {
      "application/vnd.jupyter.widget-view+json": {
       "model_id": "625ae1c7d09848e7ae8c425ccf758570",
       "version_major": 2,
       "version_minor": 0
      },
      "text/plain": [
       "README.md:   0%|          | 0.00/1.90k [00:00<?, ?B/s]"
      ]
     },
     "metadata": {},
     "output_type": "display_data"
    },
    {
     "data": {
      "application/vnd.jupyter.widget-view+json": {
       "model_id": "01aa36e4716c4ff1a332a3c3d1e84b44",
       "version_major": 2,
       "version_minor": 0
      },
      "text/plain": [
       "config.json:   0%|          | 0.00/787 [00:00<?, ?B/s]"
      ]
     },
     "metadata": {},
     "output_type": "display_data"
    },
    {
     "data": {
      "application/vnd.jupyter.widget-view+json": {
       "model_id": "01bb833cd53f4494957795ea3a4a92fb",
       "version_major": 2,
       "version_minor": 0
      },
      "text/plain": [
       "config_sentence_transformers.json:   0%|          | 0.00/122 [00:00<?, ?B/s]"
      ]
     },
     "metadata": {},
     "output_type": "display_data"
    },
    {
     "data": {
      "application/vnd.jupyter.widget-view+json": {
       "model_id": "11a90fb6006642f1948cf522dae7cf69",
       "version_major": 2,
       "version_minor": 0
      },
      "text/plain": [
       "merges.txt:   0%|          | 0.00/456k [00:00<?, ?B/s]"
      ]
     },
     "metadata": {},
     "output_type": "display_data"
    },
    {
     "data": {
      "application/vnd.jupyter.widget-view+json": {
       "model_id": "f498e34bec534bb8a95d1eee9ffca709",
       "version_major": 2,
       "version_minor": 0
      },
      "text/plain": [
       "model.safetensors:   0%|          | 0.00/499M [00:00<?, ?B/s]"
      ]
     },
     "metadata": {},
     "output_type": "display_data"
    },
    {
     "data": {
      "application/vnd.jupyter.widget-view+json": {
       "model_id": "d05da00aa34e4558a10de78eebae8e10",
       "version_major": 2,
       "version_minor": 0
      },
      "text/plain": [
       "pytorch_model.bin:   0%|          | 0.00/499M [00:00<?, ?B/s]"
      ]
     },
     "metadata": {},
     "output_type": "display_data"
    },
    {
     "data": {
      "application/vnd.jupyter.widget-view+json": {
       "model_id": "2eaf58470b4840c29107b1e249237c24",
       "version_major": 2,
       "version_minor": 0
      },
      "text/plain": [
       "sentence_bert_config.json:   0%|          | 0.00/52.0 [00:00<?, ?B/s]"
      ]
     },
     "metadata": {},
     "output_type": "display_data"
    },
    {
     "data": {
      "application/vnd.jupyter.widget-view+json": {
       "model_id": "35b7c37fdbd34588be0e886a50af59bb",
       "version_major": 2,
       "version_minor": 0
      },
      "text/plain": [
       "special_tokens_map.json:   0%|          | 0.00/239 [00:00<?, ?B/s]"
      ]
     },
     "metadata": {},
     "output_type": "display_data"
    },
    {
     "data": {
      "application/vnd.jupyter.widget-view+json": {
       "model_id": "2cfb09c27f4e41799bc1fa9bf3e9a124",
       "version_major": 2,
       "version_minor": 0
      },
      "text/plain": [
       "tokenizer.json:   0%|          | 0.00/1.36M [00:00<?, ?B/s]"
      ]
     },
     "metadata": {},
     "output_type": "display_data"
    },
    {
     "data": {
      "application/vnd.jupyter.widget-view+json": {
       "model_id": "2d3d9971d1f44e01a8ff82e552b971f9",
       "version_major": 2,
       "version_minor": 0
      },
      "text/plain": [
       "tokenizer_config.json:   0%|          | 0.00/1.21k [00:00<?, ?B/s]"
      ]
     },
     "metadata": {},
     "output_type": "display_data"
    },
    {
     "data": {
      "application/vnd.jupyter.widget-view+json": {
       "model_id": "def4ac199a4d4f1f8b4add5d9736796e",
       "version_major": 2,
       "version_minor": 0
      },
      "text/plain": [
       "vocab.json:   0%|          | 0.00/798k [00:00<?, ?B/s]"
      ]
     },
     "metadata": {},
     "output_type": "display_data"
    },
    {
     "data": {
      "application/vnd.jupyter.widget-view+json": {
       "model_id": "fb82d1daa31c4ce0be3b25877efb3a03",
       "version_major": 2,
       "version_minor": 0
      },
      "text/plain": [
       "modules.json:   0%|          | 0.00/461 [00:00<?, ?B/s]"
      ]
     },
     "metadata": {},
     "output_type": "display_data"
    },
    {
     "name": "stderr",
     "output_type": "stream",
     "text": [
      "/opt/saturncloud/envs/saturn/lib/python3.9/site-packages/transformers/tokenization_utils_base.py:1601: FutureWarning: `clean_up_tokenization_spaces` was not set. It will be set to `True` by default. This behavior will be depracted in transformers v4.45, and will be then set to `False` by default. For more details check this issue: https://github.com/huggingface/transformers/issues/31884\n",
      "  warnings.warn(\n"
     ]
    }
   ],
   "source": [
    "# Load the msmarco-roberta-base-ance-firstp\n",
    "# model = SentenceTransformer('msmarco-roberta-base-ance-firstp')\n",
    "\n",
    "# Load it for GPU exec\n",
    "model = SentenceTransformer('msmarco-roberta-base-ance-firstp', device='cuda')"
   ]
  },
  {
   "cell_type": "code",
   "execution_count": 20,
   "id": "6c9141ff-c23c-4680-a7fa-ffc0106401e2",
   "metadata": {
    "execution": {
     "iopub.execute_input": "2024-09-05T11:30:48.147716Z",
     "iopub.status.busy": "2024-09-05T11:30:48.147331Z",
     "iopub.status.idle": "2024-09-05T11:30:48.235579Z",
     "shell.execute_reply": "2024-09-05T11:30:48.234575Z",
     "shell.execute_reply.started": "2024-09-05T11:30:48.147690Z"
    },
    "tags": []
   },
   "outputs": [
    {
     "name": "stdout",
     "output_type": "stream",
     "text": [
      "CUDA Available: True\n",
      "Device Count: 1\n",
      "Current Device: 0\n",
      "Device Name: Tesla T4\n"
     ]
    }
   ],
   "source": [
    "# Check for GPU availability\n",
    "print(f\"CUDA Available: {torch.cuda.is_available()}\")\n",
    "print(f\"Device Count: {torch.cuda.device_count()}\")\n",
    "print(f\"Current Device: {torch.cuda.current_device()}\")\n",
    "print(f\"Device Name: {torch.cuda.get_device_name(torch.cuda.current_device())}\")"
   ]
  },
  {
   "cell_type": "code",
   "execution_count": 21,
   "id": "3f1264cb-12aa-4746-8e5c-219bd76634bf",
   "metadata": {
    "execution": {
     "iopub.execute_input": "2024-09-05T11:31:32.763142Z",
     "iopub.status.busy": "2024-09-05T11:31:32.762437Z",
     "iopub.status.idle": "2024-09-05T12:04:36.189124Z",
     "shell.execute_reply": "2024-09-05T12:04:36.188393Z",
     "shell.execute_reply.started": "2024-09-05T11:31:32.763111Z"
    },
    "tags": []
   },
   "outputs": [
    {
     "data": {
      "application/vnd.jupyter.widget-view+json": {
       "model_id": "3e5d13b840cd4b1998b15e174cbfc260",
       "version_major": 2,
       "version_minor": 0
      },
      "text/plain": [
       "Batches:   0%|          | 0/3491 [00:00<?, ?it/s]"
      ]
     },
     "metadata": {},
     "output_type": "display_data"
    }
   ],
   "source": [
    "# Compute embeddings\n",
    "embeddings = model.encode(texts_list, batch_size=32, show_progress_bar=True)"
   ]
  },
  {
   "cell_type": "code",
   "execution_count": null,
   "id": "bc99cf59-27cf-4f56-9539-729e057b5307",
   "metadata": {},
   "outputs": [],
   "source": [
    "# Save embeddings\n",
    "with h5py.File('..data/embeddings.h5', 'w') as hf:\n",
    "    hf.create_dataset('embeddings', data=embeddings, compression='gzip', compression_opts=9)"
   ]
  },
  {
   "cell_type": "code",
   "execution_count": null,
   "id": "85c838dd",
   "metadata": {},
   "outputs": [],
   "source": [
    "# Load embeddings\n",
    "with h5py.File('..data/embeddings.h5', 'r') as hf:\n",
    "    dataset = hf['embeddings']\n",
    "    \n",
    "    # Load the data into a NumPy array\n",
    "    embeddings = dataset[:]"
   ]
  }
 ],
 "metadata": {
  "kernelspec": {
   "display_name": "saturn (Python 3)",
   "language": "python",
   "name": "python3"
  },
  "language_info": {
   "codemirror_mode": {
    "name": "ipython",
    "version": 3
   },
   "file_extension": ".py",
   "mimetype": "text/x-python",
   "name": "python",
   "nbconvert_exporter": "python",
   "pygments_lexer": "ipython3",
   "version": "3.9.18"
  }
 },
 "nbformat": 4,
 "nbformat_minor": 5
}
