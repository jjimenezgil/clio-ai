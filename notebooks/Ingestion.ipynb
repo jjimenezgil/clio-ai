{
 "cells": [
  {
   "cell_type": "markdown",
   "id": "cd32f1c8-0d0a-4f39-a62d-04bcc5a3f33f",
   "metadata": {},
   "source": [
    "# Data preparation and ingestion"
   ]
  },
  {
   "cell_type": "code",
   "execution_count": 1,
   "id": "5e4a621b-6c69-418a-b0bf-311088f5ca18",
   "metadata": {
    "tags": []
   },
   "outputs": [
    {
     "name": "stderr",
     "output_type": "stream",
     "text": [
      "/usr/local/python/3.12.1/lib/python3.12/site-packages/sentence_transformers/cross_encoder/CrossEncoder.py:11: TqdmExperimentalWarning: Using `tqdm.autonotebook.tqdm` in notebook mode. Use `tqdm.tqdm` instead to force console mode (e.g. in jupyter console)\n",
      "  from tqdm.autonotebook import tqdm, trange\n"
     ]
    }
   ],
   "source": [
    "# Imports\n",
    "import pandas as pd\n",
    "import numpy as np\n",
    "from tqdm.notebook import trange, tqdm\n",
    "from elasticsearch import Elasticsearch\n",
    "from statistics import median\n",
    "from sentence_transformers import SentenceTransformer\n",
    "import pickle\n",
    "import matplotlib.pyplot as plt\n",
    "import torch\n",
    "import h5py"
   ]
  },
  {
   "cell_type": "markdown",
   "id": "72a45e88-8705-4fca-b0bb-4bc5892a0aeb",
   "metadata": {},
   "source": [
    "## Load the data"
   ]
  },
  {
   "cell_type": "code",
   "execution_count": 2,
   "id": "5aef7c64-1791-416f-bab9-0ef5ca5ab38e",
   "metadata": {
    "tags": []
   },
   "outputs": [
    {
     "data": {
      "text/html": [
       "<div>\n",
       "<style scoped>\n",
       "    .dataframe tbody tr th:only-of-type {\n",
       "        vertical-align: middle;\n",
       "    }\n",
       "\n",
       "    .dataframe tbody tr th {\n",
       "        vertical-align: top;\n",
       "    }\n",
       "\n",
       "    .dataframe thead th {\n",
       "        text-align: right;\n",
       "    }\n",
       "</style>\n",
       "<table border=\"1\" class=\"dataframe\">\n",
       "  <thead>\n",
       "    <tr style=\"text-align: right;\">\n",
       "      <th></th>\n",
       "      <th>author</th>\n",
       "      <th>title</th>\n",
       "      <th>section</th>\n",
       "      <th>text</th>\n",
       "    </tr>\n",
       "  </thead>\n",
       "  <tbody>\n",
       "    <tr>\n",
       "      <th>0</th>\n",
       "      <td>Aeschylus</td>\n",
       "      <td>Agamemnon</td>\n",
       "      <td>lines 1-39</td>\n",
       "      <td>Release from this weary task of mine has been ...</td>\n",
       "    </tr>\n",
       "    <tr>\n",
       "      <th>1</th>\n",
       "      <td>Euripides</td>\n",
       "      <td>Ion</td>\n",
       "      <td>lines 1-40</td>\n",
       "      <td>Before the Temple of Apollo at Delphi . The su...</td>\n",
       "    </tr>\n",
       "    <tr>\n",
       "      <th>2</th>\n",
       "      <td>Euripides</td>\n",
       "      <td>Heracles</td>\n",
       "      <td>lines 1-25</td>\n",
       "      <td>Before the palace of Heracles at Thebes . Near...</td>\n",
       "    </tr>\n",
       "    <tr>\n",
       "      <th>3</th>\n",
       "      <td>Euripides</td>\n",
       "      <td>Hippolytus</td>\n",
       "      <td>lines 1-33</td>\n",
       "      <td>Aphrodite enters above the skene. Aphrodite Ap...</td>\n",
       "    </tr>\n",
       "    <tr>\n",
       "      <th>4</th>\n",
       "      <td>Euripides</td>\n",
       "      <td>Heracleidae</td>\n",
       "      <td>lines 1-47</td>\n",
       "      <td>The skene represents the temple of Zeus Agorai...</td>\n",
       "    </tr>\n",
       "  </tbody>\n",
       "</table>\n",
       "</div>"
      ],
      "text/plain": [
       "      author        title     section  \\\n",
       "0  Aeschylus    Agamemnon  lines 1-39   \n",
       "1  Euripides          Ion  lines 1-40   \n",
       "2  Euripides     Heracles  lines 1-25   \n",
       "3  Euripides   Hippolytus  lines 1-33   \n",
       "4  Euripides  Heracleidae  lines 1-47   \n",
       "\n",
       "                                                text  \n",
       "0  Release from this weary task of mine has been ...  \n",
       "1  Before the Temple of Apollo at Delphi . The su...  \n",
       "2  Before the palace of Heracles at Thebes . Near...  \n",
       "3  Aphrodite enters above the skene. Aphrodite Ap...  \n",
       "4  The skene represents the temple of Zeus Agorai...  "
      ]
     },
     "execution_count": 2,
     "metadata": {},
     "output_type": "execute_result"
    }
   ],
   "source": [
    "# Load in Pandas df\n",
    "data_path = \"../data/ancient_sources.csv.gz\"\n",
    "df = pd.read_csv(data_path, compression=\"gzip\")\n",
    "df.head()"
   ]
  },
  {
   "cell_type": "code",
   "execution_count": 3,
   "id": "07f78d48-8bcd-4041-8b5f-5ecfa7960c8a",
   "metadata": {
    "tags": []
   },
   "outputs": [
    {
     "data": {
      "text/plain": [
       "(111709, 4)"
      ]
     },
     "execution_count": 3,
     "metadata": {},
     "output_type": "execute_result"
    }
   ],
   "source": [
    "# Check size\n",
    "df.shape"
   ]
  },
  {
   "cell_type": "markdown",
   "id": "07fe66f1-2da3-4dfe-a2fc-cd60b0d89358",
   "metadata": {},
   "source": [
    "## Data cleaning and EDA"
   ]
  },
  {
   "cell_type": "code",
   "execution_count": 4,
   "id": "13611913-2c27-4084-9b01-2393fbf6cdae",
   "metadata": {
    "tags": []
   },
   "outputs": [],
   "source": [
    "# Append index as ID\n",
    "df['Id'] = df.index"
   ]
  },
  {
   "cell_type": "code",
   "execution_count": 5,
   "id": "dc6b9b01-f951-4672-be1e-71752a1651e2",
   "metadata": {
    "tags": []
   },
   "outputs": [],
   "source": [
    "# Delete rows without text\n",
    "df.drop(df[df[\"text\"].isna()].index, inplace=True)\n",
    "\n",
    "# Transform rows with NaN section to \"\"\n",
    "df['section'] = df['section'].fillna(\"\")"
   ]
  },
  {
   "cell_type": "code",
   "execution_count": 6,
   "id": "5b83d70a-72ea-4b6f-bb76-2c8549a9d868",
   "metadata": {
    "tags": []
   },
   "outputs": [
    {
     "data": {
      "text/plain": [
       "(111707, 5)"
      ]
     },
     "execution_count": 6,
     "metadata": {},
     "output_type": "execute_result"
    }
   ],
   "source": [
    "# Check new size\n",
    "df.shape"
   ]
  },
  {
   "cell_type": "code",
   "execution_count": 7,
   "id": "d09d1d0b-7f5a-416c-bf8d-70819c4dd0f7",
   "metadata": {
    "tags": []
   },
   "outputs": [
    {
     "data": {
      "text/html": [
       "<div>\n",
       "<style scoped>\n",
       "    .dataframe tbody tr th:only-of-type {\n",
       "        vertical-align: middle;\n",
       "    }\n",
       "\n",
       "    .dataframe tbody tr th {\n",
       "        vertical-align: top;\n",
       "    }\n",
       "\n",
       "    .dataframe thead th {\n",
       "        text-align: right;\n",
       "    }\n",
       "</style>\n",
       "<table border=\"1\" class=\"dataframe\">\n",
       "  <thead>\n",
       "    <tr style=\"text-align: right;\">\n",
       "      <th></th>\n",
       "      <th>author</th>\n",
       "      <th>title</th>\n",
       "      <th>section</th>\n",
       "      <th>text</th>\n",
       "      <th>Id</th>\n",
       "      <th>num_words</th>\n",
       "    </tr>\n",
       "  </thead>\n",
       "  <tbody>\n",
       "    <tr>\n",
       "      <th>0</th>\n",
       "      <td>Aeschylus</td>\n",
       "      <td>Agamemnon</td>\n",
       "      <td>lines 1-39</td>\n",
       "      <td>Release from this weary task of mine has been ...</td>\n",
       "      <td>0</td>\n",
       "      <td>445</td>\n",
       "    </tr>\n",
       "    <tr>\n",
       "      <th>1</th>\n",
       "      <td>Euripides</td>\n",
       "      <td>Ion</td>\n",
       "      <td>lines 1-40</td>\n",
       "      <td>Before the Temple of Apollo at Delphi . The su...</td>\n",
       "      <td>1</td>\n",
       "      <td>357</td>\n",
       "    </tr>\n",
       "    <tr>\n",
       "      <th>2</th>\n",
       "      <td>Euripides</td>\n",
       "      <td>Heracles</td>\n",
       "      <td>lines 1-25</td>\n",
       "      <td>Before the palace of Heracles at Thebes . Near...</td>\n",
       "      <td>2</td>\n",
       "      <td>279</td>\n",
       "    </tr>\n",
       "    <tr>\n",
       "      <th>3</th>\n",
       "      <td>Euripides</td>\n",
       "      <td>Hippolytus</td>\n",
       "      <td>lines 1-33</td>\n",
       "      <td>Aphrodite enters above the skene. Aphrodite Ap...</td>\n",
       "      <td>3</td>\n",
       "      <td>349</td>\n",
       "    </tr>\n",
       "    <tr>\n",
       "      <th>4</th>\n",
       "      <td>Euripides</td>\n",
       "      <td>Heracleidae</td>\n",
       "      <td>lines 1-47</td>\n",
       "      <td>The skene represents the temple of Zeus Agorai...</td>\n",
       "      <td>4</td>\n",
       "      <td>554</td>\n",
       "    </tr>\n",
       "  </tbody>\n",
       "</table>\n",
       "</div>"
      ],
      "text/plain": [
       "      author        title     section  \\\n",
       "0  Aeschylus    Agamemnon  lines 1-39   \n",
       "1  Euripides          Ion  lines 1-40   \n",
       "2  Euripides     Heracles  lines 1-25   \n",
       "3  Euripides   Hippolytus  lines 1-33   \n",
       "4  Euripides  Heracleidae  lines 1-47   \n",
       "\n",
       "                                                text  Id  num_words  \n",
       "0  Release from this weary task of mine has been ...   0        445  \n",
       "1  Before the Temple of Apollo at Delphi . The su...   1        357  \n",
       "2  Before the palace of Heracles at Thebes . Near...   2        279  \n",
       "3  Aphrodite enters above the skene. Aphrodite Ap...   3        349  \n",
       "4  The skene represents the temple of Zeus Agorai...   4        554  "
      ]
     },
     "execution_count": 7,
     "metadata": {},
     "output_type": "execute_result"
    }
   ],
   "source": [
    "# Create a function that counts number of words of a text\n",
    "def count_words(text):\n",
    "    return len(text.split())\n",
    "\n",
    "# Append a column with the number of words of the texts\n",
    "df[\"num_words\"] = df[\"text\"].apply(count_words)\n",
    "\n",
    "# Show first rows\n",
    "df.head()"
   ]
  },
  {
   "cell_type": "code",
   "execution_count": 8,
   "id": "084e26e2-6dbb-45d9-91db-f212327fa7be",
   "metadata": {
    "tags": []
   },
   "outputs": [
    {
     "data": {
      "text/plain": [
       "count    111707.000000\n",
       "mean        179.352252\n",
       "std         367.455390\n",
       "min           1.000000\n",
       "25%          58.000000\n",
       "50%          94.000000\n",
       "75%         173.000000\n",
       "max       31177.000000\n",
       "Name: num_words, dtype: float64"
      ]
     },
     "execution_count": 8,
     "metadata": {},
     "output_type": "execute_result"
    }
   ],
   "source": [
    "df[\"num_words\"].describe()"
   ]
  },
  {
   "cell_type": "code",
   "execution_count": 9,
   "id": "e3390e5b-7d30-49b9-9c71-1e13412e1578",
   "metadata": {
    "tags": []
   },
   "outputs": [
    {
     "data": {
      "image/png": "[encoded data removed]",
      "text/plain": [
       "<Figure size 640x480 with 1 Axes>"
      ]
     },
     "metadata": {},
     "output_type": "display_data"
    }
   ],
   "source": [
    "# Boxplot\n",
    "boxplot_stats = plt.boxplot(df['num_words'])\n",
    "plt.title('Number of words per text');"
   ]
  },
  {
   "cell_type": "code",
   "execution_count": 10,
   "id": "b160ea2a-974b-4629-b7d7-9156888af039",
   "metadata": {
    "tags": []
   },
   "outputs": [
    {
     "name": "stdout",
     "output_type": "stream",
     "text": [
      "Upper whisker: 345.0\n"
     ]
    }
   ],
   "source": [
    "whiskers = [item.get_ydata() for item in boxplot_stats['whiskers']]\n",
    "upp_whisker = whiskers[1][1]\n",
    "print(\"Upper whisker:\", upp_whisker)"
   ]
  },
  {
   "cell_type": "code",
   "execution_count": 11,
   "id": "8d8c7fe2-983e-4c0e-9909-d4258f3b7ccc",
   "metadata": {
    "tags": []
   },
   "outputs": [
    {
     "data": {
      "text/plain": [
       "(7786, 6)"
      ]
     },
     "execution_count": 11,
     "metadata": {},
     "output_type": "execute_result"
    }
   ],
   "source": [
    "df[df[\"num_words\"] > 512].shape"
   ]
  },
  {
   "cell_type": "markdown",
   "id": "979c9035-96a5-40dc-80d8-b9851ee64997",
   "metadata": {},
   "source": [
    "The upper limit stablished by boxplot is 345 words, so let's cut all the texts with a number of words higher than 512 (a bit higher than the boxplot upper limit). With this change, more of the 90% of the text will remain with the full text. Hopefully, this will make the embbeding calculation ligther."
   ]
  },
  {
   "cell_type": "code",
   "execution_count": 12,
   "id": "1a55e9a4-1582-44df-9ae2-a05d5fec0678",
   "metadata": {
    "tags": []
   },
   "outputs": [
    {
     "data": {
      "text/html": [
       "<div>\n",
       "<style scoped>\n",
       "    .dataframe tbody tr th:only-of-type {\n",
       "        vertical-align: middle;\n",
       "    }\n",
       "\n",
       "    .dataframe tbody tr th {\n",
       "        vertical-align: top;\n",
       "    }\n",
       "\n",
       "    .dataframe thead th {\n",
       "        text-align: right;\n",
       "    }\n",
       "</style>\n",
       "<table border=\"1\" class=\"dataframe\">\n",
       "  <thead>\n",
       "    <tr style=\"text-align: right;\">\n",
       "      <th></th>\n",
       "      <th>author</th>\n",
       "      <th>title</th>\n",
       "      <th>section</th>\n",
       "      <th>text</th>\n",
       "      <th>Id</th>\n",
       "      <th>num_words</th>\n",
       "    </tr>\n",
       "  </thead>\n",
       "  <tbody>\n",
       "    <tr>\n",
       "      <th>0</th>\n",
       "      <td>Aeschylus</td>\n",
       "      <td>Agamemnon</td>\n",
       "      <td>lines 1-39</td>\n",
       "      <td>Release from this weary task of mine has been ...</td>\n",
       "      <td>0</td>\n",
       "      <td>445</td>\n",
       "    </tr>\n",
       "    <tr>\n",
       "      <th>1</th>\n",
       "      <td>Euripides</td>\n",
       "      <td>Ion</td>\n",
       "      <td>lines 1-40</td>\n",
       "      <td>Before the Temple of Apollo at Delphi . The su...</td>\n",
       "      <td>1</td>\n",
       "      <td>357</td>\n",
       "    </tr>\n",
       "    <tr>\n",
       "      <th>2</th>\n",
       "      <td>Euripides</td>\n",
       "      <td>Heracles</td>\n",
       "      <td>lines 1-25</td>\n",
       "      <td>Before the palace of Heracles at Thebes . Near...</td>\n",
       "      <td>2</td>\n",
       "      <td>279</td>\n",
       "    </tr>\n",
       "    <tr>\n",
       "      <th>3</th>\n",
       "      <td>Euripides</td>\n",
       "      <td>Hippolytus</td>\n",
       "      <td>lines 1-33</td>\n",
       "      <td>Aphrodite enters above the skene. Aphrodite Ap...</td>\n",
       "      <td>3</td>\n",
       "      <td>349</td>\n",
       "    </tr>\n",
       "    <tr>\n",
       "      <th>4</th>\n",
       "      <td>Euripides</td>\n",
       "      <td>Heracleidae</td>\n",
       "      <td>lines 1-47</td>\n",
       "      <td>The skene represents the temple of Zeus Agorai...</td>\n",
       "      <td>4</td>\n",
       "      <td>512</td>\n",
       "    </tr>\n",
       "  </tbody>\n",
       "</table>\n",
       "</div>"
      ],
      "text/plain": [
       "      author        title     section  \\\n",
       "0  Aeschylus    Agamemnon  lines 1-39   \n",
       "1  Euripides          Ion  lines 1-40   \n",
       "2  Euripides     Heracles  lines 1-25   \n",
       "3  Euripides   Hippolytus  lines 1-33   \n",
       "4  Euripides  Heracleidae  lines 1-47   \n",
       "\n",
       "                                                text  Id  num_words  \n",
       "0  Release from this weary task of mine has been ...   0        445  \n",
       "1  Before the Temple of Apollo at Delphi . The su...   1        357  \n",
       "2  Before the palace of Heracles at Thebes . Near...   2        279  \n",
       "3  Aphrodite enters above the skene. Aphrodite Ap...   3        349  \n",
       "4  The skene represents the temple of Zeus Agorai...   4        512  "
      ]
     },
     "execution_count": 12,
     "metadata": {},
     "output_type": "execute_result"
    }
   ],
   "source": [
    "# Define function that truncates the longer texts\n",
    "def truncate_texts(text, max_num_words=512):\n",
    "    word_list = text.split()\n",
    "    if len(word_list) > max_num_words:\n",
    "        word_list = word_list[:max_num_words]\n",
    "\n",
    "    return \" \".join(word_list)\n",
    "\n",
    "# Apply to all the texts\n",
    "df[\"text\"] = df[\"text\"].apply(truncate_texts)\n",
    "\n",
    "# Count again the num of words\n",
    "df[\"num_words\"] = df[\"text\"].apply(count_words)\n",
    "\n",
    "# Check df\n",
    "df.head()"
   ]
  },
  {
   "cell_type": "code",
   "execution_count": 13,
   "id": "531c4e52-7df6-421d-9676-7190ee2f40e8",
   "metadata": {
    "tags": []
   },
   "outputs": [
    {
     "data": {
      "text/plain": [
       "count    111707.000000\n",
       "mean        148.231821\n",
       "std         143.268450\n",
       "min           1.000000\n",
       "25%          58.000000\n",
       "50%          94.000000\n",
       "75%         173.000000\n",
       "max         512.000000\n",
       "Name: num_words, dtype: float64"
      ]
     },
     "execution_count": 13,
     "metadata": {},
     "output_type": "execute_result"
    }
   ],
   "source": [
    "# Check statistics again\n",
    "df[\"num_words\"].describe()"
   ]
  },
  {
   "cell_type": "code",
   "execution_count": 14,
   "id": "146915e6-8705-49a3-8f3e-4da171e15990",
   "metadata": {
    "tags": []
   },
   "outputs": [],
   "source": [
    "# Drop number of words column\n",
    "df.drop('num_words', axis=1, inplace=True)"
   ]
  },
  {
   "cell_type": "markdown",
   "id": "c45a63ca-6394-444d-93bb-9a46769d5948",
   "metadata": {},
   "source": [
    "## Generate embeddings for vector search"
   ]
  },
  {
   "cell_type": "markdown",
   "id": "98f6b467-9157-4839-9c3f-399c6116a609",
   "metadata": {},
   "source": [
    "We are going to use *msmarco-roberta-base-ance-firstp* model, which is well suited for long passages of text and is fine-tunned for dot product similarity, which is usually preferred for long passages of text (our case). Also, it is optimized for ANCE (Approximate Nearest Neighbor Search). Later, we will have to take all this into account by configuring Elasticsearch k-NN to use dot product and Approximate Nearest Neighbor Search."
   ]
  },
  {
   "cell_type": "code",
   "execution_count": 15,
   "id": "bc619f8e-b6df-4fa3-b9f1-423114e3ff54",
   "metadata": {
    "tags": []
   },
   "outputs": [],
   "source": [
    "# Transform into a list of dicts\n",
    "df_dict = df.to_dict(orient=\"records\")\n",
    "\n",
    "# Generate list with all the texts\n",
    "texts_list = [source[\"text\"]for source in df_dict]"
   ]
  },
  {
   "cell_type": "code",
   "execution_count": 16,
   "id": "caa031f1-a233-4315-a00a-ca299afe8264",
   "metadata": {
    "tags": []
   },
   "outputs": [
    {
     "name": "stderr",
     "output_type": "stream",
     "text": [
      "/usr/local/python/3.12.1/lib/python3.12/site-packages/transformers/tokenization_utils_base.py:1601: FutureWarning: `clean_up_tokenization_spaces` was not set. It will be set to `True` by default. This behavior will be depracted in transformers v4.45, and will be then set to `False` by default. For more details check this issue: https://github.com/huggingface/transformers/issues/31884\n",
      "  warnings.warn(\n"
     ]
    }
   ],
   "source": [
    "# Load the msmarco-roberta-base-ance-firstp\n",
    "model = SentenceTransformer('msmarco-roberta-base-ance-firstp')\n",
    "\n",
    "# Load it for GPU exec\n",
    "# model = SentenceTransformer('msmarco-roberta-base-ance-firstp', device='cuda')"
   ]
  },
  {
   "cell_type": "code",
   "execution_count": 20,
   "id": "6c9141ff-c23c-4680-a7fa-ffc0106401e2",
   "metadata": {
    "execution": {
     "iopub.execute_input": "2024-09-05T11:30:48.147716Z",
     "iopub.status.busy": "2024-09-05T11:30:48.147331Z",
     "iopub.status.idle": "2024-09-05T11:30:48.235579Z",
     "shell.execute_reply": "2024-09-05T11:30:48.234575Z",
     "shell.execute_reply.started": "2024-09-05T11:30:48.147690Z"
    },
    "tags": []
   },
   "outputs": [
    {
     "name": "stdout",
     "output_type": "stream",
     "text": [
      "CUDA Available: True\n",
      "Device Count: 1\n",
      "Current Device: 0\n",
      "Device Name: Tesla T4\n"
     ]
    }
   ],
   "source": [
    "# Check for GPU availability\n",
    "print(f\"CUDA Available: {torch.cuda.is_available()}\")\n",
    "print(f\"Device Count: {torch.cuda.device_count()}\")\n",
    "print(f\"Current Device: {torch.cuda.current_device()}\")\n",
    "print(f\"Device Name: {torch.cuda.get_device_name(torch.cuda.current_device())}\")"
   ]
  },
  {
   "cell_type": "code",
   "execution_count": 21,
   "id": "3f1264cb-12aa-4746-8e5c-219bd76634bf",
   "metadata": {
    "execution": {
     "iopub.execute_input": "2024-09-05T11:31:32.763142Z",
     "iopub.status.busy": "2024-09-05T11:31:32.762437Z",
     "iopub.status.idle": "2024-09-05T12:04:36.189124Z",
     "shell.execute_reply": "2024-09-05T12:04:36.188393Z",
     "shell.execute_reply.started": "2024-09-05T11:31:32.763111Z"
    },
    "tags": []
   },
   "outputs": [
    {
     "data": {
      "application/vnd.jupyter.widget-view+json": {
       "model_id": "3e5d13b840cd4b1998b15e174cbfc260",
       "version_major": 2,
       "version_minor": 0
      },
      "text/plain": [
       "Batches:   0%|          | 0/3491 [00:00<?, ?it/s]"
      ]
     },
     "metadata": {},
     "output_type": "display_data"
    }
   ],
   "source": [
    "# Compute embeddings\n",
    "embeddings = model.encode(texts_list, batch_size=32, show_progress_bar=True)"
   ]
  },
  {
   "cell_type": "code",
   "execution_count": null,
   "id": "bc99cf59-27cf-4f56-9539-729e057b5307",
   "metadata": {},
   "outputs": [],
   "source": [
    "# Save embeddings\n",
    "with h5py.File('../data/embeddings.h5', 'w') as hf:\n",
    "    hf.create_dataset('embeddings', data=embeddings, compression='gzip', compression_opts=9)"
   ]
  },
  {
   "cell_type": "code",
   "execution_count": 17,
   "id": "85c838dd",
   "metadata": {},
   "outputs": [],
   "source": [
    "# Load embeddings\n",
    "with h5py.File('../data/embeddings.h5', 'r') as hf:\n",
    "    dataset = hf['embeddings']\n",
    "    \n",
    "    # Load the data into a NumPy array\n",
    "    embeddings = dataset[:]"
   ]
  },
  {
   "cell_type": "code",
   "execution_count": 18,
   "id": "2993218e-cd8f-4d97-94f7-86fd764ffa8d",
   "metadata": {},
   "outputs": [
    {
     "data": {
      "text/plain": [
       "(111707, 768)"
      ]
     },
     "execution_count": 18,
     "metadata": {},
     "output_type": "execute_result"
    }
   ],
   "source": [
    "# Show dims\n",
    "embeddings.shape"
   ]
  },
  {
   "cell_type": "code",
   "execution_count": 19,
   "id": "f89f659d-d85e-43d4-bda4-eb14b3c40ecc",
   "metadata": {},
   "outputs": [],
   "source": [
    "# The vectors have to be normalized in order to use dot product similarity in elasticsearch\n",
    "def normalize_vector(vector):\n",
    "    norm = np.linalg.norm(vector)\n",
    "    if norm == 0:\n",
    "        return vector  # Avoid division by zero\n",
    "    return vector / norm\n",
    "\n",
    "normalized_embeddings = np.apply_along_axis(normalize_vector, 1, embeddings)"
   ]
  },
  {
   "cell_type": "code",
   "execution_count": 20,
   "id": "4fd61067-9162-402c-b9c5-fe99586e5531",
   "metadata": {},
   "outputs": [
    {
     "data": {
      "text/plain": [
       "(111707, 768)"
      ]
     },
     "execution_count": 20,
     "metadata": {},
     "output_type": "execute_result"
    }
   ],
   "source": [
    "normalized_embeddings.shape"
   ]
  },
  {
   "cell_type": "code",
   "execution_count": 21,
   "id": "5de9a4d4-71f5-4598-abda-2839592de13a",
   "metadata": {},
   "outputs": [],
   "source": [
    "# Append embeddings to the corresponding sources\n",
    "for i, source in enumerate(df_dict):\n",
    "    source[\"text_embedding\"] = normalized_embeddings[i]"
   ]
  },
  {
   "cell_type": "markdown",
   "id": "4abbdd7b-5ead-4a31-b1a1-c4cc3b79d64f",
   "metadata": {},
   "source": [
    "## Indexing with Elasticsearch"
   ]
  },
  {
   "cell_type": "code",
   "execution_count": 22,
   "id": "d50f3ac6-646d-447a-be35-9744e6e6a5b3",
   "metadata": {},
   "outputs": [],
   "source": [
    "es_client = Elasticsearch(\"http://localhost:9200\")"
   ]
  },
  {
   "cell_type": "code",
   "execution_count": 23,
   "id": "0b4c2df9-b982-40c9-8668-0ff22ba02c64",
   "metadata": {},
   "outputs": [
    {
     "data": {
      "text/plain": [
       "ObjectApiResponse({'name': 'c2b11aa895df', 'cluster_name': 'docker-cluster', 'cluster_uuid': 'AfI-EwkTQRS7S0r8-lovww', 'version': {'number': '8.15.0', 'build_flavor': 'default', 'build_type': 'docker', 'build_hash': '1a77947f34deddb41af25e6f0ddb8e830159c179', 'build_date': '2024-08-05T10:05:34.233336849Z', 'build_snapshot': False, 'lucene_version': '9.11.1', 'minimum_wire_compatibility_version': '7.17.0', 'minimum_index_compatibility_version': '7.0.0'}, 'tagline': 'You Know, for Search'})"
      ]
     },
     "execution_count": 23,
     "metadata": {},
     "output_type": "execute_result"
    }
   ],
   "source": [
    "es_client.info()"
   ]
  },
  {
   "cell_type": "code",
   "execution_count": 24,
   "id": "3820fa7a-c721-42d7-8d57-f6263567aa39",
   "metadata": {},
   "outputs": [
    {
     "data": {
      "text/plain": [
       "ObjectApiResponse({'acknowledged': True, 'shards_acknowledged': True, 'index': 'ancient_sources_db_index'})"
      ]
     },
     "execution_count": 24,
     "metadata": {},
     "output_type": "execute_result"
    }
   ],
   "source": [
    "# Create Elasticsearch index\n",
    "index_settings = {\n",
    "    \"settings\": {\n",
    "        \"number_of_shards\": 1,\n",
    "        \"number_of_replicas\": 0\n",
    "    },\n",
    "    \"mappings\": {\n",
    "        \"properties\": {\n",
    "            \"author\": {\"type\": \"text\"},\n",
    "            \"title\": {\"type\": \"text\"},\n",
    "            \"text\": {\"type\": \"text\"},\n",
    "            \"section\": {\"type\": \"keyword\"},\n",
    "            \"id\": {\"type\": \"keyword\"},\n",
    "            \"text_embedding\": {\n",
    "                \"type\": \"dense_vector\",\n",
    "                \"dims\": 768,\n",
    "                \"element_type\": \"float\",\n",
    "                \"index\": True,\n",
    "                \"similarity\": \"dot_product\",\n",
    "                \"index_options\": {\n",
    "                    \"type\": \"int8_hnsw\"\n",
    "                }\n",
    "            }\n",
    "        }\n",
    "    }\n",
    "}\n",
    "\n",
    "index_name = \"ancient_sources_db_index\"\n",
    "\n",
    "es_client.indices.delete(index=index_name, ignore_unavailable=True)\n",
    "es_client.indices.create(index=index_name, body=index_settings)"
   ]
  },
  {
   "cell_type": "code",
   "execution_count": 34,
   "id": "ada78e79-9295-4715-9604-745f40250eb2",
   "metadata": {},
   "outputs": [
    {
     "data": {
      "application/vnd.jupyter.widget-view+json": {
       "model_id": "67b4aff1b3e74529a3b1ce9954658535",
       "version_major": 2,
       "version_minor": 0
      },
      "text/plain": [
       "  0%|          | 0/111707 [00:00<?, ?it/s]"
      ]
     },
     "metadata": {},
     "output_type": "display_data"
    }
   ],
   "source": [
    "# Index all the ancient sources\n",
    "for src in tqdm(df_dict):\n",
    "    es_client.index(index=index_name, document=src)"
   ]
  },
  {
   "cell_type": "code",
   "execution_count": 43,
   "id": "07163cd9-7fd5-4af9-b563-556816c3d154",
   "metadata": {},
   "outputs": [],
   "source": [
    "# Test question\n",
    "question = \"Which were the first people who lived in the roman territories?\"\n",
    "\n",
    "q_embedding = model.encode(question)\n",
    "q_emb_normalized = normalize_vector(q_embedding)"
   ]
  },
  {
   "cell_type": "code",
   "execution_count": 44,
   "id": "df09e63c-a518-48a9-8a41-f8c61045c6de",
   "metadata": {},
   "outputs": [],
   "source": [
    "# Vector search query\n",
    "knn_query = {\n",
    "    \"field\": \"text_embedding\",\n",
    "    \"query_vector\": q_emb_normalized,\n",
    "    \"k\": 10,\n",
    "    \"num_candidates\": 1000,\n",
    "    \"boost\": 0.5,\n",
    "}"
   ]
  },
  {
   "cell_type": "code",
   "execution_count": 45,
   "id": "244c7f00-791d-42ee-a9d1-fb2aa80b87d3",
   "metadata": {},
   "outputs": [],
   "source": [
    "# Semantic search query\n",
    "keyword_query = {\n",
    "    \"bool\": {\n",
    "        \"must\": {\n",
    "            \"multi_match\": {\n",
    "                \"query\": question,\n",
    "                \"fields\": [\"author\", \"title\", \"text\"],\n",
    "                \"type\": \"best_fields\",\n",
    "                \"boost\": 0.5,\n",
    "            }\n",
    "        }\n",
    "    }\n",
    "}"
   ]
  },
  {
   "cell_type": "code",
   "execution_count": 46,
   "id": "ab56e02f-b901-4b80-b186-57d5dd54730f",
   "metadata": {},
   "outputs": [],
   "source": [
    "#index_name = \"ancient_sources_db_index\"\n",
    "\n",
    "response = es_client.search(\n",
    "    index=index_name,\n",
    "    query=keyword_query,\n",
    "    knn=knn_query,\n",
    "    size=10,\n",
    "    _source={\n",
    "        \"excludes\": [\"text_embedding\"]  # Exclude the embedding vectors of the response\n",
    "    }\n",
    ")"
   ]
  },
  {
   "cell_type": "code",
   "execution_count": 47,
   "id": "cb3b7630-951c-44b0-97dc-084349c4faf3",
   "metadata": {},
   "outputs": [
    {
     "name": "stdout",
     "output_type": "stream",
     "text": [
      "Author: C. Julius Caesar\n",
      "Title: Gallic War\n",
      "Section: book 7, chapter 3\n",
      "Text: 3. When the appointed day came, the Carnutes, under the command of Cotuatus and Conetodunus, desperate men, meet together at Genabum , and slay the Roman citizens who had settled there for the purpose of trading (among the rest, Caius Fusius Cita, a distinguished Roman knight, who by Caesar's orders had presided over the provision department), and plunder their property. The report is quickly spread among all the states of Gaul; for, whenever a more important and remarkable event takes place, they transmit the intelligence through their lands and districts by a shout; the others take it up in succession, and pass it to their neighbors, as happened on this occasion; for the things which were done at Genabum at sunrise, were heard in the territories of the Arverni before the end of the first watch, which is an extent of more than a hundred and sixty miles.\n",
      "\n",
      "Author: M. Tullius Cicero\n",
      "Title: Against Verres\n",
      "Section: text Ver., actio 2, The Fifth Book of the Second Pleading in the Prosecution against Verres., section 157\n",
      "Text: [ 157 ] After this loud statement of theirs,—after this had become known by the common conversation and common complaints of all men, he began to be, I will not say more merciful in his punishments, but mere careful. He established the rule of bringing out Roman citizens for punishment with their heads muffled up, whom, however, he put to death in the sight of all men, because the citizens (as we have said before) were calculating the number of pirates with too much accuracy. Was this the condition that was established for the Roman people while you were praetor? were these the hopes under which they were to transact their business? was this the danger in which their lives and condition as freemen were placed? are there not risks enough at the hands of fortune to be encountered of necessity by merchants, unless they are threatened also with these terrors by our magistrates, and in our provinces? Was this the state to which it was decent to reduce that suburban and loyal province of Sicily , full of most valued allies, and of most honourable Roman citizens, which has at all times received with the greatest willingness all Roman citizens within its territories, that those who were sailing from the most distant parts of Syria or Egypt, who had been held in some honour, even among barbarians, on account of their name as Roman citizens, who had escaped from the ambushes of pirates, from the dangers of tempests, should be publicly executed in Sicily when they thought that they had now reached their home?\n",
      "\n",
      "Author: C. Julius Caesar\n",
      "Title: Gallic War\n",
      "Section: book 1, chapter 10\n",
      "Text: 10. It is again told Caesar, that the Helvetii intended to march through the country of the Sequani and the Aedui into the territories of the Santones, which are not far distant from those boundaries of the Tolosates, which [viz. Tolosa , Toulouse ] is a state in the Province. If this took place, he saw that it would be attended with great danger to the Province to have warlike men, enemies of the Roman people, bordering upon an open and very fertile tract of country. For these reasons he appointed Titus Labienus, his lieutenant, to the command of the fortification which he had made. He himself proceeds to Italy by forced marches, and there levies two legions, and leads out from winter-quarters three which were wintering around Aquileia , and with these five legions marches rapidly by the nearest route across the Alps into Further Gaul. Here the Centrones and the Graioceli and the Caturiges, having taken possession of the higher parts, attempt to obstruct the army in their march. After having routed these in several battles, he arrives in the territories of the Vocontii in the Further Province on the seventh day from Ocelum, which is the most remote town of the Hither Province; thence he leads his army into the country of the Allobroges, and from the Allobroges to the Segusiani. These people are the first beyond the Province on the opposite side of the Rhone .\n",
      "\n",
      "Author: C. Julius Caesar\n",
      "Title: Gallic War\n",
      "Section: book 2, chapter 15\n",
      "Text: 15. Caesar said that on account of his respect for Divitiacus and the Aeduans, he would receive them into his protection, and would spare them; but, because the state was of great influence among the Belgae, and pre-eminent in the number of its population, he demanded 600 hostages. When these were delivered, and all the arms in the town collected, he went from that place into the territories of the Ambiani, who, without delay, surrendered themselves and all their possessions. Upon their territories bordered the Nervii, concerning whose character and customs when Caesar inquired he received the following information:-That there was no access for merchants to them; that they suffered no wine and other things tending to luxury to be imported; because, they thought that by their use the mind is enervated and the courage impaired: that they were a savage people and of great bravery: that they upbraided and condemned the rest of the Belgae who had surrendered themselves to the Roman people and thrown aside their national courage: that they openly declared they would neither send embassadors, nor accept any condition of peace.\"\n",
      "\n",
      "Author: Titus Livius (Livy)\n",
      "Title: The History of Rome, Book 45\n",
      "Section: Book XLV, chapter 18\n",
      "Text: 18. First of all it was voted that the Macedonians and Illyrians should be given their independence, so that it should be clear to all nations that the forces of the Roman People brought not slavery to free peoples, but on the contrary, freedom to the enslaved. [ 2 ] The senate wished nations which were free to consider that their freedom was assured and lasting under the protection of the Roman People, and that those who lived under kings should feel for the time being that their rulers were milder and more just under the eye of the Roman People, and, if at any time their kings should make war on the Roman People, that the outcome of the war would bring victory to the Romans, but freedom to [p. 303] themselves. [ 3 ] It was also voted to discontinue the [Note 1: B.C. 167] leasing of the Macedonian mines, a source of immense revenue, and of rural estates, [ 4?? ] for these could not be farmed without a contractor, and where there was a contractor, there either the ownership by the state lapsed, or no freedom was left to the allied people. [Note 2: The reasoning is perhaps that of Cato, who favoured Macedonian “freedom,” see Spartianus, Hadrian 5; for the attitude toward the financiers, cf. XXXII. xxvii. 4; XXXIX. xliv. 8-9; XLIII. xvi. Below, xxix. 11, the specific arrangement for the mines is mentioned: gold and silver mining was prohibited, but iron and copper might be worked. The estates were no doubt those of the king] [ 5 ] It was impossible, the senate thought, for even the Macedonians to farm these resources; for where there was booty as a prize for administrators, in that state there would never be a lack of reasons for conspiracies and strife. [ 6 ] Finally, fearing that if there were a common legislature for the nation, some relentless demagogue would turn the freedom given in healthy moderation into the licence which brings ruin, the senate voted to divide Macedonia into four sections, so that each might have its own legislature. [ 7 ] It was further resolved that Macedonia should pay to the Roman People half the taxes which they had been accustomed to pay to their kings. Like instructions were given for Illyricum. [ 8 ] The details were left to the generals and the commissioners themselves, for which the present discussion would lay a surer foundation of planning. [Note 3: From xii. 9 to this point, Livy seems to have followed Roman annalists; he now draws from Polybius XXX. 1-5]\n",
      "\n",
      "Author: Pliny the Elder\n",
      "Title: The Natural History\n",
      "Section: BOOK I., DEDICATION.\n",
      "Text: DEDICATION. C. PLINIUS SECUNDUS TO HIS FRIEND TITUS VESPASIAN. THIS treatise on Natural History, a novel work in Roman literature, which I have just completed, I have taken the liberty to dedicate to you, most gracious [Note 1: \"Jucundissime;\" it is not easy to find an epithet in our language which will correctly express the meaning of the original, affectionate and familiar, at the same time that it is sufficiently dignified and respectful] Emperor, an appellation peculiarly suitable to you, while, on account of his age, that of great is more appropriate to your Father;— \"For still thou ne'er wouldst quite despise The trifles that I write [Note 2: Lamb's trans.; Carm. i. 4. of the original] ;\" if I may be allowed to shelter myself under the example of Catullus, my fellow-countryman [Note 3: \"Conterraneus;\" we have no word in English which expresses the idea intended by the original, and which is, at the same time, a military term. There is indeed some reason to doubt, whether the word now inserted in the text was the one employed by the author: see the remarks of M. Alexandre, in Lem. i. 3; also an observation in Cigalino's dissertation on the native country of Pliny; Valpy, 8] , a military term, which you well understand. For he, as you know, when his napkins had been changed [Note 4: \"Permutatis prioribus sætabis;\" Carm. xii. 14; xxv. 7; see the notes in Lamb's trans. pp. 135 & 149] , expressed himself a little harshly, from his anxiety to show his friendship for his dear little Veranius and Fabius [Note 5: These names in the original are Varaniolus and Fabullus, which are supposed to have been changed from Veranius and Fabius, as terms of familiarity and endearment; see Poinsinet, i. 24, and Lemaire, i. 4] . At the same time this my importunity may effect, what you complained of my not having done in another too forward epistle of mine; it will put upon record, and let all the world know, with what kindness you exercise the imperial dignity. You, who have had the honour of a triumph, and of the censorship, have been six times consul, and have shared in the tribunate; and, what is still more honourable, whilst you held them in conjunction with your Father, you have presided over the Equestrian order, and been the Prefect of the Prætorians [Note 6: The narrative of Suetonius may serve to illustrate the observation of Pliny: \"Triumphavit (Titus) cum patre, censuramque gessit una. Eidem collega et in tribunicia potestate, et in septem consulatibus fuit. Receptaque ad se prope omnium officiorum cura, cum patris nomine et epistolas ipse dictaret, et edicta conscriberet, orationesque in Senatu recitaret etiam quæstoris vice, præfecturam quoque prætorii suscepit, nunquam ad id tempus, nisi ab Equite Romano, administratum.\" (viii. 5.)] : all this you have done for the service of the Republic, and, at the same time, have regarded me as a fellow-soldier and a messmate. Nor has the extent of your prosperity produced any change in you, except that it has given\n",
      "\n",
      "Author: Pliny the Elder\n",
      "Title: The Natural History\n",
      "Section: BOOK II. AN ACCOUNT OF THE WORLD AND THE ELEMENTS., CHAP. 1. (1.)—WHETHER THE WORLD BE FINITE, AND\n",
      "WHETHER THERE BE MORE THAN ONE WORLD.\n",
      "Text: CHAP. 1. (1.)—WHETHER THE WORLD BE FINITE, AND WHETHER THERE BE MORE THAN ONE WORLD. The world [Note 1: \"Mundus.\" In translating from one language into another, it is proper, as a general principle, always to render the same word in the original by the same word in the translation. But to this rule there are two exceptions; where the languages do not possess words which precisely correspond, and where the original author does not always use the same word in the same sense. Both these circumstances, I apprehend, apply to the case in question. The term Mundus is used by Pliny , sometimes to mean the earth and its immediate appendages, the visible solar system; and at other times the universe; while I think we may venture to assert, that in some instances it is used in rather a vague manner, without any distinct reference to either one or other of the above designations. I have, in almost all cases, translated it by the term world, as approaching nearest to the sense of the original. The word mundus is frequently employed by Lucretius, especially in his fifth book, and seems to be almost always used in the more extended sense of universe. There are, indeed, a few passages where either meaning would be equally appropriate, and in one line it would appear to be equivalent to firmament or heavens; \"et mundi speciem violare serenam,\" iv. 138. Cicero , in his treatise De Natura Deorum, generally uses the term mundus in the sense of universe, as in ii. 22, 37, 58 and 154; while in one passage, ii. 132, it would appear to be employed in the more limited sense of the earth. It occasionally occurs in the Fasti of Ovid , but it is not easy to ascertain its precise import; as in the line \"Post chaos, ut primum data sunt tria corpora mundo,\" v. 41, where from the connexion it may be taken either in the more confined or in the more general sense. Manilius employs the word very frequently, and his commentators remark, that he uses it in two distinct senses, the visible firmament and the universe; and I am induced to think that he attaches still more meaning to the term. It occurs three times in the first eleven lines of his poem. In the third line, \"deducere mundo aggredior,\" mundus may be considered as equivalent to the celestial regions as opposed to the earth. In the ninth line, \"concessumque patri mundo,\" we may consider it as signifying the celestial regions generally; and in the eleventh, \"Jamque favet mundus,\" the whole of the earth, or rather its inhabitants. We meet with it again in the sixty-eighth line, \"lumina mundi,\" where it seems more properly to signify the visible firmament; again in the 139th, \"Et mundi struxere globum,\" it seems to refer especially to the earth, synonymous with the general sense of the English term world; while in the 153rd line, \"per inania mundi,\" it must be supposed to mean the universe. Hyginus, in his Poeticon Astronomicon, lib. i.\n",
      "\n",
      "Author: Pliny the Elder\n",
      "Title: The Natural History\n",
      "Section: BOOK II. AN ACCOUNT OF THE WORLD AND THE ELEMENTS., CHAP. 2. (2.)—OF THE FORM OF THE WORLD\n",
      "          \n",
      "          .\n",
      "Text: CHAP. 2. (2.)—OF THE FORM OF THE WORLD [Note 1: I may remark, that the astronomy of our author is, for the most part, derived from Aristotle; the few points in which they differ will be stated in the appropriate places] . That it has the form of a perfect globe we learn from the name which has been uniformly given to it, as well as from numerous natural arguments. For not only does a figure of this kind return everywhere into itself [Note 2: This doctrine was maintained by Plato in his Timæus, p. 310, and adopted by Aristotle, De Cœlo, lib. ii. cap. 14, and by Cicero , De Nat. Deor. ii 47. The spherical form of the world, οὐρανὸς , and its circular motion are insisted upon by Ptolemy, in the commencement of his astronomical treatise μεγάλη σύνταξις , Magna Constructio, frequently referred to by its Arabic title Almagestum, cap. 2. He is supposed to have made his observations at Alexandria , between the years 125 and 140 A.D. His great astronomical work was translated into Arabic in the year 827; the original Greek text was first printed in 1538 by Grynæus, with a commentary by Theon . George of Trebisond published a Latin version of it in 1541, and a second was published by Camerarius in 1551, along with Ptolemy's other works. John Muller, usually called Regiomontanus, and Purback published an abridgement of the Almagest in 1541. For an account of Ptolemy I may refer to the article in the Biog. Univ. xxxv. 263 et seq., by Delambre, also to Hutton's Math. Diet., in loco, and to the high character of him by Whewell, Hist. of the Inductive Sciences, p. 214] and sustain itself, also including itself, requiring no adjustments, not sensible of either end or beginning in any of its parts, and is best fitted for that motion, with which, as will appear hereafter, it is continually turning round; but still more, because we perceive it, by the evidence of the sight, to be, in every part, convex and central, which could not be the case were it of any other figure.\n",
      "\n",
      "Author: Pliny the Elder\n",
      "Title: The Natural History\n",
      "Section: BOOK II. AN ACCOUNT OF THE WORLD AND THE ELEMENTS., CHAP. 3. (3.)—OF ITS NATURE; WHENCE THE NAME IS DERIVED.\n",
      "Text: CHAP. 3. (3.)—OF ITS NATURE; WHENCE THE NAME IS DERIVED. The rising and the setting of the sun clearly prove, that this globe is carried round in the space of twenty-four hours, in an eternal and never-ceasing circuit, and with in- credible swiftness [Note 1: See Ptolemy, ubi supra] . I am not able to say, whether the sound caused by the whirling about of so great a mass be excessive, and, therefore, far beyond what our ears can perceive, nor, indeed, whether the resounding of so many stars, all carried along at the same time and revolving in their orbits, may not produce a kind of delightful harmony of incredible sweetness [Note 2: This opinion, which was maintained by Pythagoras, is noticed and derided by Aristotle, De Cœlo, lib. ii. cap. 9. p. 462–3. A brief account of Pythagoras's doctrine on this subject is contained in Enfield's Philosophy, i. 386] . To us, who are in the interior, the world appears to glide silently along, both by day and by night. Various circumstances in nature prove to us, that there are impressed on the heavens innumerable figures of animals and of all kinds of objects, and that its surface is not perfectly polished like the eggs of birds, as some celebrated authors assert [Note 3: Pliny probably here refers to the opinion which Cicero puts into the mouth of one of the interlocutors in his treatise De Nat. Deor. ii. 47, \"Quid enim pulchrius ea figura, quæ sola omnes alias figuras complexa continet, quæque nihil asperitatis habere, nihil offensionis potest, nihil incisum angulis, nihil anfractibus, nihil eminens, nihil lacunosum?\"] . For we find that the seeds of all bodies fall down from it, principally into the ocean, and, being mixed together, that a variety of monstrous forms are in this way frequently produced. And, indeed, this is evident to the eye; for, in one part, we have the figure of a wain, in another of a bear, of a bull, and of a letter [Note 4: The letter δ , in the constellation of the triangle; it is named δελτωτὸν by Aratus, 1. 235; also by Manilius, i. 360. We may remark, that, except in this one case, the constellations have no visible resemblance to the objects of which they bear the name] ; while, in the middle of them, over our heads, there is a white circle [Note 5: \" Locum hunc Plinii de Galaxia, sive Lactea via, interpretantur omnes docti.\" Alexandre, in Lemaire, i. 227. It may be remarked, that the word vertex is here used in the sense of the astronomical term zenith, not to signify the pole] . (4.) With respect to the name, I am influenced by the unanimous opinions of all nations. For what the Greeks, from its being ornamented, have termed κόσμος , we, from its perfect and complete elegance, have termed mundus. The name cœlum, no doubt, refers to its being engraven, as it were, with the stars, as Varro suggests [Note 6: De Ling. Lat. lib. iv. p. 7, 8. See also\n",
      "\n",
      "Author: Cornelius Tacitus\n",
      "Title: The Life of Cnæus Julius Agricola\n",
      "Section: chapter 14\n",
      "Text: Aulus Plautius was the first governor of consular rank, and Ostorius Scapula the next. Both were famous soldiers, and by degrees the nearest portions of Britain were brought into the condition of a province, and a colony of veterans was also introduced. Some of the states were given to king Cogidumnus, who lived down to our day a most faithful ally. So was maintained the ancient and long-recognised practice of the Roman people, which seeks to secure among the instruments of dominion even kings themselves. Soon after, Didius Gallus consolidated the conquests of his predecessors, and advanced a very few positions into parts more remote, to gain the credit of having enlarged the sphere of government. Didius was succeeded by Veranius, who died within the year. Then Suetonius Paullinus enjoyed success for two years; he subdued several tribes and strengthened our military posts. Thus encouraged, he made an attempt on the island of Mona , as a place from which the rebels drew reinforcements; but in doing this he left his rear open to attack.\n",
      "\n"
     ]
    }
   ],
   "source": [
    "for answer in response[\"hits\"][\"hits\"]:\n",
    "    print(f\"Author: {answer[\"_source\"][\"author\"]}\\nTitle: {answer[\"_source\"][\"title\"]}\\nSection: {answer[\"_source\"][\"section\"]}\\nText: {answer[\"_source\"][\"text\"]}\\n\")"
   ]
  }
 ],
 "metadata": {
  "kernelspec": {
   "display_name": "Python 3 (ipykernel)",
   "language": "python",
   "name": "python3"
  },
  "language_info": {
   "codemirror_mode": {
    "name": "ipython",
    "version": 3
   },
   "file_extension": ".py",
   "mimetype": "text/x-python",
   "name": "python",
   "nbconvert_exporter": "python",
   "pygments_lexer": "ipython3",
   "version": "3.12.1"
  }
 },
 "nbformat": 4,
 "nbformat_minor": 5
}
